{
 "cells": [
  {
   "cell_type": "code",
   "execution_count": 1,
   "metadata": {},
   "outputs": [],
   "source": [
    "import json \n",
    "import networkx as nx\n",
    "  \n",
    "\n",
    "from conjecture.consolidated_functions import *\n",
    "from conjecture.all_valid_orderings import *\n",
    "from conjecture.optimization_functions import *\n",
    "from iterative_heuristic.modified_etf import Mod_ETF\n",
    "from iterative_heuristic.approximate_speeds import *\n",
    "from makespan_energy.construct_graph_util import *\n",
    "from makespan_energy.visualization_util import *\n",
    "import networkx as nx\n",
    "import numpy as np\n",
    "import math\n",
    "import plotly.express as px\n",
    "import pandas as pd "
   ]
  },
  {
   "cell_type": "code",
   "execution_count": 2,
   "metadata": {},
   "outputs": [
    {
     "name": "stdout",
     "output_type": "stream",
     "text": [
      "52\n",
      "82\n",
      "104\n",
      "164\n",
      "156\n",
      "246\n",
      "208\n",
      "328\n",
      "260\n",
      "410\n",
      "312\n",
      "492\n",
      "364\n",
      "574\n",
      "416\n",
      "656\n",
      "468\n",
      "738\n",
      "520\n",
      "820\n",
      "572\n",
      "902\n"
     ]
    }
   ],
   "source": [
    "# Construct DAGs\n",
    "\n",
    "file_list = ['1000genome-chameleon-2ch-100k-001.json',\n",
    "'1000genome-chameleon-2ch-250k-001.json',\n",
    "'1000genome-chameleon-4ch-100k-001.json',\n",
    "'1000genome-chameleon-4ch-250k-001.json',\n",
    "'1000genome-chameleon-6ch-100k-001.json',\n",
    "'1000genome-chameleon-6ch-250k-001.json',\n",
    "'1000genome-chameleon-8ch-100k-001.json',\n",
    "'1000genome-chameleon-8ch-250k-001.json',\n",
    "'1000genome-chameleon-10ch-100k-001.json',\n",
    "'1000genome-chameleon-10ch-250k-001.json',\n",
    "'1000genome-chameleon-12ch-100k-001.json',\n",
    "'1000genome-chameleon-12ch-250k-001.json',\n",
    "'1000genome-chameleon-14ch-100k-001.json',\n",
    "'1000genome-chameleon-14ch-250k-001.json',\n",
    "'1000genome-chameleon-16ch-100k-001.json',\n",
    "'1000genome-chameleon-16ch-250k-001.json',\n",
    "'1000genome-chameleon-18ch-100k-001.json',\n",
    "'1000genome-chameleon-18ch-250k-001.json',\n",
    "'1000genome-chameleon-20ch-100k-001.json',\n",
    "'1000genome-chameleon-20ch-250k-001.json',\n",
    "'1000genome-chameleon-22ch-100k-001.json',\n",
    "'1000genome-chameleon-22ch-250k-001.json']\n",
    "    \n",
    "G_list = []\n",
    "\n",
    "for file in file_list:\n",
    "    \n",
    "    # Opening JSON file \n",
    "    f = open('pegasus-traces-master/1000genome/chameleon-cloud/' + file) \n",
    "\n",
    "    # returns JSON object as  \n",
    "    # a dictionary \n",
    "    data = json.load(f) \n",
    "\n",
    "    taskname_to_id = {}\n",
    "    id_count = 0\n",
    "\n",
    "    G = nx.DiGraph()\n",
    "\n",
    "    for task in data['workflow']['jobs']:\n",
    "\n",
    "        child_id = id_count\n",
    "        id_count += 1\n",
    "        taskname_to_id[task['name']] = child_id\n",
    "\n",
    "        if not G.has_node(child_id):\n",
    "                G.add_node(child_id)\n",
    "\n",
    "        for parent in task['parents']:\n",
    "            if parent in taskname_to_id:\n",
    "\n",
    "                parent_id = taskname_to_id[parent]\n",
    "\n",
    "            else:\n",
    "\n",
    "                parent_id = id_count\n",
    "                id_count += 1\n",
    "                taskname_to_id[parent] = parent_id\n",
    "\n",
    "\n",
    "            if not G.has_edge(parent_id, child_id):\n",
    "                    G.add_edge(parent_id, child_id)\n",
    "\n",
    "    \n",
    "   \n",
    "    G_list.append(G)\n",
    "    \n",
    "    # Closing file \n",
    "    f.close() "
   ]
  },
  {
   "cell_type": "code",
   "execution_count": 3,
   "metadata": {},
   "outputs": [
    {
     "data": {
      "text/plain": [
       "<networkx.classes.digraph.DiGraph at 0x1a22bc0110>"
      ]
     },
     "execution_count": 3,
     "metadata": {},
     "output_type": "execute_result"
    }
   ],
   "source": [
    "G_list[0]"
   ]
  },
  {
   "cell_type": "code",
   "execution_count": 6,
   "metadata": {},
   "outputs": [],
   "source": [
    "mrt = True\n",
    "tie_breaking_rule = 2\n",
    "plot = False\n",
    "\n",
    "x = []\n",
    "y = []\n",
    "y_optimal = []\n",
    "y_lb = []\n",
    "\n",
    "y_energy = []\n",
    "y_total = []\n",
    "y_mrt = []\n",
    "\n",
    "bad_one = 0\n",
    "box_whiskers_data = []\n",
    "num_machines = 3\n",
    "\n",
    "for G in G_list:\n",
    "    \n",
    "    \n",
    "    ratio = []\n",
    "    num_tasks = len(G.nodes)\n",
    "    \n",
    "    w = [1 for _ in range(num_tasks)]\n",
    "    s = [1 for _ in range(num_tasks)]\n",
    "\n",
    "    test = Mod_ETF(G, w, s, num_machines, tie_breaking_rule, plot=False)\n",
    "\n",
    "    # Initialize objective function value\n",
    "    heuristic_opt = test.obj_value\n",
    "\n",
    "    # Get pseudosize, convert to speed\n",
    "    psize, group_interval = approx_psize_homogeneous(G, test.order, test.h, test.t, verbose=False)\n",
    "    s_prime = psize_to_speed(psize)\n",
    "\n",
    "    # Get ordering using modified ETF\n",
    "    test2 = Mod_ETF(G, w, s_prime, num_machines, tie_breaking_rule, plot=plot)\n",
    "\n",
    "    # Check if the objective function value has improved\n",
    "    if heuristic_opt > test2.obj_value:\n",
    "        heuristic_opt = test2.obj_value\n",
    "        s = s_prime\n",
    "\n",
    "    #_, _, obj_opt, _ = get_objective_single_ordering(True, G, w, test2.order, plot=plot, compare=False)\n",
    "\n",
    "    # if solver was successful\n",
    "    # and d[\"objective_task_scaling\"] != 10000000\n",
    "#     if obj_opt != 10000000:\n",
    "        \n",
    "    x.append(num_tasks)\n",
    "#         print(heuristic_opt/obj_opt)\n",
    "#         y.append(heuristic_opt/obj_opt)\n",
    "    y_mrt.append(test2.mrt)\n",
    "    y_energy.append(test2.energy)\n",
    "    y_total.append(test2.obj_value)\n",
    "        \n",
    "#         if d[\"objective_task_scaling\"] > obj_opt:\n",
    "#             bad_one += 1\n",
    "#         counter += 1\n",
    "\n",
    "#         box_whiskers_data.append([num_tasks, obj_opt/d[\"objective_task_scaling\"]])\n",
    "            \n",
    "   "
   ]
  },
  {
   "cell_type": "code",
   "execution_count": 13,
   "metadata": {},
   "outputs": [
    {
     "name": "stdout",
     "output_type": "stream",
     "text": [
      "[300.06190153399876, 586.191936966383, 832.97531013795, 1637.7842648778587, 1520.3299894979493, 2996.112771203816, 2333.077628150155, 4603.068311601237, 3254.0456996704097, 6424.6703410179, 4271.755549529451, 8438.089949297793, 5377.876695305461, 10626.650829857346, 6565.716259987053, 12977.19822266844, 7830.000188650671, 15479.258730585114, 9166.460215095618, 18124.25681785813, 10571.28921774763, 20904.748015704998]\n",
      "[150.03095076699947, 293.0959684831914, 416.4876550689748, 818.8921324389297, 760.164994748975, 1498.0563856019096, 1166.538814075077, 2301.5341558006176, 1627.0228498352046, 3212.3351705089513, 2135.877774764725, 4219.044974648902, 2688.9383476527314, 5313.325414928683, 3282.858129993525, 6488.599111334218, 3915.0000943253385, 7739.6293652925715, 4583.230107547806, 9062.128408929068, 5285.644608873814, 10452.37400785249]\n"
     ]
    },
    {
     "data": {
      "image/png": "[encoded data removed]",
      "text/plain": [
       "<Figure size 432x288 with 1 Axes>"
      ]
     },
     "metadata": {
      "needs_background": "light"
     },
     "output_type": "display_data"
    }
   ],
   "source": [
    "import matplotlib.pyplot as plt\n",
    "import math\n",
    "\n",
    "fig = plt.figure()\n",
    "ax = fig.add_axes([0,0,1,1])\n",
    "print(y_total)\n",
    "print(y_mrt)\n",
    "plt.scatter(x, y_total, s=5, label='energy+mrt', color='b')\n",
    "plt.scatter(x, y_mrt, s=30, label='mrt', color='r')\n",
    "plt.scatter(x, y_energy, s=5, label='energy', color='k')\n",
    "\n",
    "plt.xlabel('Number of tasks')\n",
    "plt.ylabel('Cost')\n",
    "plt.legend()\n",
    "plt.show()"
   ]
  },
  {
   "cell_type": "code",
   "execution_count": null,
   "metadata": {},
   "outputs": [],
   "source": []
  }
 ],
 "metadata": {
  "kernelspec": {
   "display_name": "Python 3",
   "language": "python",
   "name": "python3"
  },
  "language_info": {
   "codemirror_mode": {
    "name": "ipython",
    "version": 3
   },
   "file_extension": ".py",
   "mimetype": "text/x-python",
   "name": "python",
   "nbconvert_exporter": "python",
   "pygments_lexer": "ipython3",
   "version": "3.7.6"
  }
 },
 "nbformat": 4,
 "nbformat_minor": 4
}
