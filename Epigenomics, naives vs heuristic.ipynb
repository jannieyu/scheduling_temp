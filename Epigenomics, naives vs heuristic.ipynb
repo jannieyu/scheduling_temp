{
 "cells": [
  {
   "cell_type": "code",
   "execution_count": 1,
   "metadata": {},
   "outputs": [],
   "source": [
    "import json \n",
    "import networkx as nx\n",
    "  \n",
    "\n",
    "from conjecture.consolidated_functions import *\n",
    "from conjecture.all_valid_orderings import *\n",
    "from conjecture.optimization_functions import *\n",
    "from iterative_heuristic.modified_etf import Mod_ETF\n",
    "from iterative_heuristic.approximate_speeds import *\n",
    "from iterative_heuristic.consolidated import *\n",
    "from makespan_energy.construct_graph_util import *\n",
    "from makespan_energy.visualization_util import *\n",
    "import networkx as nx\n",
    "import numpy as np\n",
    "import math\n",
    "import plotly.express as px\n",
    "import pandas as pd "
   ]
  },
  {
   "cell_type": "code",
   "execution_count": 2,
   "metadata": {},
   "outputs": [
    {
     "name": "stdout",
     "output_type": "stream",
     "text": [
      "109\n",
      "61\n",
      "334\n",
      "178\n",
      "667\n",
      "349\n",
      "1006\n",
      "520\n",
      "1225\n",
      "631\n",
      "1474\n",
      "760\n",
      "1681\n",
      "865\n",
      "361\n",
      "187\n",
      "772\n",
      "394\n",
      "1189\n",
      "607\n",
      "1642\n",
      "838\n",
      "2095\n",
      "1069\n",
      "2542\n",
      "1294\n"
     ]
    }
   ],
   "source": [
    "# Construct DAGs\n",
    "\n",
    "file_list = ['epigenomics-chameleon-hep-1seq-50k-001.json',\n",
    "'epigenomics-chameleon-hep-1seq-100k-001.json',\n",
    "'epigenomics-chameleon-hep-2seq-50k-001.json',\n",
    "'epigenomics-chameleon-hep-2seq-100k-001.json',\n",
    "'epigenomics-chameleon-hep-3seq-50k-001.json',\n",
    "'epigenomics-chameleon-hep-3seq-100k-001.json',\n",
    "'epigenomics-chameleon-hep-4seq-50k-001.json',\n",
    "'epigenomics-chameleon-hep-4seq-100k-001.json',\n",
    "'epigenomics-chameleon-hep-5seq-50k-001.json',\n",
    "'epigenomics-chameleon-hep-5seq-100k-001.json',\n",
    "'epigenomics-chameleon-hep-6seq-50k-001.json',\n",
    "'epigenomics-chameleon-hep-6seq-100k-001.json',\n",
    "'epigenomics-chameleon-hep-7seq-50k-001.json',\n",
    "'epigenomics-chameleon-hep-7seq-100k-001.json',\n",
    "'epigenomics-chameleon-ilmn-1seq-50k-001.json',\n",
    "'epigenomics-chameleon-ilmn-1seq-100k-001.json',\n",
    "'epigenomics-chameleon-ilmn-2seq-50k-001.json',\n",
    "'epigenomics-chameleon-ilmn-2seq-100k-001.json',\n",
    "'epigenomics-chameleon-ilmn-3seq-50k-001.json',\n",
    "'epigenomics-chameleon-ilmn-3seq-100k-001.json',\n",
    "'epigenomics-chameleon-ilmn-4seq-50k-001.json',\n",
    "'epigenomics-chameleon-ilmn-4seq-100k-001.json',\n",
    "'epigenomics-chameleon-ilmn-5seq-50k-001.json',\n",
    "'epigenomics-chameleon-ilmn-5seq-100k-001.json',\n",
    "'epigenomics-chameleon-ilmn-6seq-50k-001.json',\n",
    "'epigenomics-chameleon-ilmn-6seq-100k-001.json']\n",
    "    \n",
    "G_list = []\n",
    "\n",
    "for file in file_list:\n",
    "    \n",
    "    # Opening JSON file \n",
    "    f = open('pegasus-traces-master/epigenomics/chameleon-cloud/' + file) \n",
    "\n",
    "    # returns JSON object as  \n",
    "    # a dictionary \n",
    "    data = json.load(f) \n",
    "\n",
    "    taskname_to_id = {}\n",
    "    id_count = 0\n",
    "\n",
    "    G = nx.DiGraph()\n",
    "\n",
    "    for task in data['workflow']['jobs']:\n",
    "\n",
    "        child_id = id_count\n",
    "        id_count += 1\n",
    "        taskname_to_id[task['name']] = child_id\n",
    "\n",
    "        if not G.has_node(child_id):\n",
    "                G.add_node(child_id)\n",
    "\n",
    "        for parent in task['parents']:\n",
    "            if parent in taskname_to_id:\n",
    "\n",
    "                parent_id = taskname_to_id[parent]\n",
    "\n",
    "            else:\n",
    "\n",
    "                parent_id = id_count\n",
    "                id_count += 1\n",
    "                taskname_to_id[parent] = parent_id\n",
    "\n",
    "\n",
    "            if not G.has_edge(parent_id, child_id):\n",
    "                    G.add_edge(parent_id, child_id)\n",
    "    print(len(G.nodes))\n",
    "\n",
    "    \n",
    "   \n",
    "    G_list.append(G)\n",
    "    \n",
    "    # Closing file \n",
    "    f.close() "
   ]
  },
  {
   "cell_type": "code",
   "execution_count": 3,
   "metadata": {},
   "outputs": [
    {
     "name": "stdout",
     "output_type": "stream",
     "text": [
      "892.9598739755859 1562.2012517336054\n",
      "______________________________________________________\n",
      "379.16101825843043 534.1954090117648\n",
      "______________________________________________________\n",
      "4729.379649589649 13495.425547858422\n",
      "______________________________________________________\n",
      "1850.0709968864394 3960.0573407704474\n",
      "______________________________________________________\n",
      "13304.236833937832 52741.85825998632\n",
      "______________________________________________________\n",
      "5050.153132062258 14667.956470655412\n",
      "______________________________________________________\n",
      "24616.362954569544 119153.61547011607\n",
      "______________________________________________________\n",
      "9166.451276093081 32141.894960538993\n",
      "______________________________________________________\n",
      "33064.59370476972 176182.63723071746\n",
      "______________________________________________________\n",
      "12244.05220941459 47077.1227989149\n",
      "______________________________________________________\n",
      "43628.934569734614 254558.50371232853\n",
      "______________________________________________________\n",
      "16175.206481309086 68018.62792647879\n",
      "______________________________________________________\n",
      "53125.201938176935 330618.1801957354\n",
      "______________________________________________________\n",
      "19633.767388530305 87879.65171622686\n",
      "______________________________________________________\n",
      "5311.775409903457 15773.094000003413\n",
      "______________________________________________________\n",
      "1991.0349168219986 4378.0141056758175\n",
      "______________________________________________________\n",
      "16559.080381706866 70607.56317664836\n",
      "______________________________________________________\n",
      "6053.5434717926055 18672.377709689317\n",
      "______________________________________________________\n",
      "31619.516217076332 166375.10384847486\n",
      "______________________________________________________\n",
      "11553.741583561505 43747.223712961066\n",
      "______________________________________________________\n",
      "51288.75837089375 316241.22528622515\n",
      "______________________________________________________\n",
      "18723.21901683797 82835.06408123185\n",
      "______________________________________________________\n",
      "73894.67186970715 513823.87591332477\n",
      "______________________________________________________\n",
      "26961.136970767275 134294.53072567028\n",
      "______________________________________________________\n",
      "98746.17180588616 755556.5009174646\n",
      "______________________________________________________\n",
      "35893.7856468373 196305.92168931078\n",
      "______________________________________________________\n"
     ]
    }
   ],
   "source": [
    "mrt = True\n",
    "tie_breaking_rule = 2\n",
    "plot = False\n",
    "\n",
    "x = []\n",
    "y = []\n",
    "lbs= []\n",
    "ubs = []\n",
    "\n",
    "y_optimal = []\n",
    "y_lb = []\n",
    "bad_one = 0\n",
    "box_whiskers_data = []\n",
    "num_machines = 3\n",
    "naives1 = []\n",
    "naives2 = []\n",
    "heur = []\n",
    "for G in G_list:\n",
    "    \n",
    "    \n",
    "    ratio = []\n",
    "    num_tasks = len(G.nodes)\n",
    "    \n",
    "    w = [1 for _ in range(num_tasks)]\n",
    "    s = [1 for _ in range(num_tasks)]\n",
    "\n",
    "    naive1,naive2, true, order =iterative_and_naive_heuristic_no_ratio_reversed(num_machines, w, G, naive_version=4, verbose=False)\n",
    "    # _, _, obj_opt, _ = get_objective_single_ordering(True, G, w, order, plot=plot, compare=False)\n",
    "    # d = get_optimal_schedule(mrt, G, num_machines, w, plot, verbose=False)\n",
    "    # if solver was successful\n",
    "    # and d[\"objective_task_scaling\"] != 10000000\n",
    "    #if obj_opt != 10000000 and d[\"objective_task_scaling\"] != 10000000:\n",
    "        \n",
    "    x.append(num_tasks)\n",
    "    heur.append(true)\n",
    "    naives1.append(naive1)\n",
    "    naives2.append(naive2)\n",
    "    print(naive1, naive2)\n",
    "    # y.append(obj_opt)\n",
    "    # lbs.append(d[\"objective_task_scaling\"])\n",
    "    ub = obj_ub_precise = 2 * sum(psize_to_speed(ub_lst_graph(G, order)))\n",
    "    ubs.append(ub)\n",
    "    print(\"______________________________________________________\")\n",
    " "
   ]
  },
  {
   "cell_type": "code",
   "execution_count": 4,
   "metadata": {},
   "outputs": [
    {
     "name": "stdout",
     "output_type": "stream",
     "text": [
      "x is \n",
      " [109, 61, 334, 178, 667, 349, 1006, 520, 1225, 631, 1474, 760, 1681, 865, 361, 187, 772, 394, 1189, 607, 1642, 838, 2095, 1069, 2542, 1294]\n",
      "ubs are \n",
      " [1068.4382324185588, 419.03273024570973, 5626.654594826957, 2052.8825787402698, 15982.524359073323, 5733.391808401277, 28085.48896049425, 10479.699005935394, 39732.51605764563, 14730.344437244068, 50354.58015940982, 19619.69960547354, 61447.21393439518, 23841.178574121528, 6336.710991354907, 2180.057010141759, 18333.857384960316, 6712.984001912688, 38073.43642433022, 13922.695137534422, 61909.86603299422, 22617.00893307134, 84314.09195383202, 30804.88510500508, 119523.22630844347, 41405.551534516424]\n",
      "naives1 are \n",
      " [892.9598739755859, 379.16101825843043, 4729.379649589649, 1850.0709968864394, 13304.236833937832, 5050.153132062258, 24616.362954569544, 9166.451276093081, 33064.59370476972, 12244.05220941459, 43628.934569734614, 16175.206481309086, 53125.201938176935, 19633.767388530305, 5311.775409903457, 1991.0349168219986, 16559.080381706866, 6053.5434717926055, 31619.516217076332, 11553.741583561505, 51288.75837089375, 18723.21901683797, 73894.67186970715, 26961.136970767275, 98746.17180588616, 35893.7856468373]\n",
      "naives2 are \n",
      " [1562.2012517336054, 534.1954090117648, 13495.425547858422, 3960.0573407704474, 52741.85825998632, 14667.956470655412, 119153.61547011607, 32141.894960538993, 176182.63723071746, 47077.1227989149, 254558.50371232853, 68018.62792647879, 330618.1801957354, 87879.65171622686, 15773.094000003413, 4378.0141056758175, 70607.56317664836, 18672.377709689317, 166375.10384847486, 43747.223712961066, 316241.22528622515, 82835.06408123185, 513823.87591332477, 134294.53072567028, 755556.5009174646, 196305.92168931078]\n",
      "heurs are \\m [892.9598739755859, 379.16101825843043, 4729.379649589649, 1850.0709968864394, 13304.236833937832, 5050.153132062258, 24616.362954569544, 9166.451276093081, 33064.59370476972, 12244.05220941459, 43628.934569734614, 16175.206481309086, 53125.201938176935, 19633.767388530305, 5311.775409903457, 1991.0349168219986, 16559.080381706866, 6053.5434717926055, 31619.516217076332, 11553.741583561505, 51288.75837089375, 18723.21901683797, 73894.67186970715, 26961.136970767275, 98746.17180588616, 35893.7856468373]\n"
     ]
    }
   ],
   "source": [
    "print(\"x is \\n\", x)\n",
    "print(\"ubs are \\n\", ubs)\n",
    "print(\"naives1 are \\n\",naives1)\n",
    "print(\"naives2 are \\n\", naives2)\n",
    "print(\"heurs are \\m\",heur)"
   ]
  },
  {
   "cell_type": "code",
   "execution_count": 5,
   "metadata": {},
   "outputs": [
    {
     "name": "stdout",
     "output_type": "stream",
     "text": [
      "[1.0, 1.0, 1.0, 1.0, 1.0, 1.0, 1.0, 1.0, 1.0, 1.0, 1.0, 1.0, 1.0, 1.0, 1.0, 1.0, 1.0, 1.0, 1.0, 1.0, 1.0, 1.0, 1.0, 1.0, 1.0, 1.0]\n",
      "[1.7494641106083084, 1.408888000843128, 2.8535297539560758, 2.1404893906423, 3.9642903924745916, 2.904457763375914, 4.8404232457093155, 3.506470933235407, 5.328437990311742, 3.8448972606239593, 5.834625718522949, 4.2051165161369815, 6.223377382743574, 4.475944426619039, 2.9694580027979933, 2.198863550149994, 4.26397852713185, 3.0845368166093237, 5.261785243843258, 3.7864118213621794, 6.165897466250446, 4.424189238332227, 6.953463124097923, 4.981041076690485, 7.651501694695841, 5.469078230443153]\n"
     ]
    }
   ],
   "source": [
    "ratios1 = [n/h for n,h in zip(naives1, heur)]\n",
    "print(ratios1)\n",
    "ratios2 = [n/h for n,h in zip(naives2, heur)]\n",
    "print(ratios2)"
   ]
  },
  {
   "cell_type": "code",
   "execution_count": 2,
   "metadata": {},
   "outputs": [],
   "source": [
    "ratios1 = [1.0, 1.0, 1.0, 1.0, 1.0, 1.0, 1.0, 1.0, 1.0, 1.0, 1.0, 1.0, 1.0, 1.0, 1.0, 1.0, 1.0, 1.0, 1.0, 1.0, 1.0, 1.0, 1.0, 1.0, 1.0, 1.0]\n",
    "ratios2 = [1.7494641106083084, 1.408888000843128, 2.8535297539560758, 2.1404893906423, 3.9642903924745916, 2.904457763375914, 4.8404232457093155, 3.506470933235407, 5.328437990311742, 3.8448972606239593, 5.834625718522949, 4.2051165161369815, 6.223377382743574, 4.475944426619039, 2.9694580027979933, 2.198863550149994, 4.26397852713185, 3.0845368166093237, 5.261785243843258, 3.7864118213621794, 6.165897466250446, 4.424189238332227, 6.953463124097923, 4.981041076690485, 7.651501694695841, 5.469078230443153]\n",
    "x = [109, 61, 334, 178, 667, 349, 1006, 520, 1225, 631, 1474, 760, 1681, 865, 361, 187, 772, 394, 1189, 607, 1642, 838, 2095, 1069, 2542, 1294]\n"
   ]
  },
  {
   "cell_type": "raw",
   "metadata": {},
   "source": []
  },
  {
   "cell_type": "code",
   "execution_count": 3,
   "metadata": {},
   "outputs": [
    {
     "data": {
      "image/png": "[encoded data removed]",
      "text/plain": [
       "<Figure size 432x288 with 1 Axes>"
      ]
     },
     "metadata": {
      "needs_background": "light"
     },
     "output_type": "display_data"
    }
   ],
   "source": [
    "import matplotlib.pyplot as plt\n",
    "import math\n",
    "\n",
    "fig = plt.figure()\n",
    "ax = fig.add_axes([0,0,1,1])\n",
    "\n",
    "\n",
    "#print(ub_ratio)\n",
    "#plt.scatter(obj_lb_lst[:,0], obj_lb_lst[:,1], label='lower bound', color=\"g\", linewidths=0.1)\n",
    "\n",
    "\n",
    "# plt.scatter(x, y, s=5, label='opt/lb', color='b')\n",
    "plt.scatter(x, ratios1, label='Naive1 [Number of tasks remaining on same machine]', color='k')\n",
    "plt.scatter(x, ratios2, label='Naive2 [number of descendants]', color='r')\n",
    "#plt.scatter(x, naives, label='Naives', color='g')\n",
    "plt.xlabel('Number of tasks')\n",
    "plt.ylabel('Ratios')\n",
    "plt.title(\"Epigenomics: Ratio of objectives of Naives to 1 iteration heuristic (Naive/Heur)\")\n",
    "plt.legend()\n",
    "plt.show()"
   ]
  },
  {
   "cell_type": "code",
   "execution_count": 7,
   "metadata": {},
   "outputs": [],
   "source": [
    "import csv\n",
    "with open(\"epigenomics_both_naives_heur_3_machines.csv\", 'w+') as f:\n",
    "    writer = csv.writer(f)\n",
    "    writer.writerow([\"task_size\", \"naive1\", \"heuristic\", \"upperbound\"])\n",
    "    writer.writerows(zip(x,  naives1, naives2, heur,  ubs))"
   ]
  }
 ],
 "metadata": {
  "kernelspec": {
   "display_name": "Python 3",
   "language": "python",
   "name": "python3"
  },
  "language_info": {
   "codemirror_mode": {
    "name": "ipython",
    "version": 3
   },
   "file_extension": ".py",
   "mimetype": "text/x-python",
   "name": "python",
   "nbconvert_exporter": "python",
   "pygments_lexer": "ipython3",
   "version": "3.7.6"
  }
 },
 "nbformat": 4,
 "nbformat_minor": 4
}
