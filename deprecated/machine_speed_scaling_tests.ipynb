version https://git-lfs.github.com/spec/v1
oid sha256:de79dd4de2982496afd1b8d7834e36c198331197d8ddc0b1b402b57c835cb5cb
size 19687
