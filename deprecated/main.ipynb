version https://git-lfs.github.com/spec/v1
oid sha256:469ca0dfa17b86d4735f044431fb078f9163da9ee880593f05950e9b75df2fa1
size 7073878
