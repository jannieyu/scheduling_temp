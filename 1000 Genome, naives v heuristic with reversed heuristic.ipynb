{
 "cells": [
  {
   "cell_type": "code",
   "execution_count": 1,
   "metadata": {},
   "outputs": [],
   "source": [
    "import json \n",
    "import networkx as nx\n",
    "  \n",
    "\n",
    "from conjecture.consolidated_functions import *\n",
    "from conjecture.all_valid_orderings import *\n",
    "from conjecture.optimization_functions import *\n",
    "from iterative_heuristic.modified_etf import Mod_ETF\n",
    "from iterative_heuristic.consolidated import *\n",
    "from iterative_heuristic.approximate_speeds import *\n",
    "from makespan_energy.construct_graph_util import *\n",
    "from makespan_energy.visualization_util import *\n",
    "import networkx as nx\n",
    "import numpy as np\n",
    "import math\n",
    "import plotly.express as px\n",
    "import pandas as pd "
   ]
  },
  {
   "cell_type": "code",
   "execution_count": 2,
   "metadata": {},
   "outputs": [
    {
     "name": "stdout",
     "output_type": "stream",
     "text": [
      "52\n",
      "82\n",
      "104\n",
      "164\n",
      "156\n",
      "246\n",
      "208\n",
      "328\n",
      "260\n",
      "410\n",
      "312\n",
      "492\n",
      "364\n",
      "574\n",
      "416\n",
      "656\n",
      "468\n",
      "738\n",
      "520\n",
      "820\n",
      "572\n",
      "902\n"
     ]
    }
   ],
   "source": [
    "# Construct DAGs\n",
    "\n",
    "file_list = ['1000genome-chameleon-2ch-100k-001.json',\n",
    "'1000genome-chameleon-2ch-250k-001.json',\n",
    "'1000genome-chameleon-4ch-100k-001.json',\n",
    "'1000genome-chameleon-4ch-250k-001.json',\n",
    "'1000genome-chameleon-6ch-100k-001.json',\n",
    "'1000genome-chameleon-6ch-250k-001.json',\n",
    "'1000genome-chameleon-8ch-100k-001.json',\n",
    "'1000genome-chameleon-8ch-250k-001.json',\n",
    "'1000genome-chameleon-10ch-100k-001.json',\n",
    "'1000genome-chameleon-10ch-250k-001.json',\n",
    "'1000genome-chameleon-12ch-100k-001.json',\n",
    "'1000genome-chameleon-12ch-250k-001.json',\n",
    "'1000genome-chameleon-14ch-100k-001.json',\n",
    "'1000genome-chameleon-14ch-250k-001.json',\n",
    "'1000genome-chameleon-16ch-100k-001.json',\n",
    "'1000genome-chameleon-16ch-250k-001.json',\n",
    "'1000genome-chameleon-18ch-100k-001.json',\n",
    "'1000genome-chameleon-18ch-250k-001.json',\n",
    "'1000genome-chameleon-20ch-100k-001.json',\n",
    "'1000genome-chameleon-20ch-250k-001.json',\n",
    "'1000genome-chameleon-22ch-100k-001.json',\n",
    "'1000genome-chameleon-22ch-250k-001.json']\n",
    "    \n",
    "G_list = []\n",
    "\n",
    "for file in file_list:\n",
    "    \n",
    "    # Opening JSON file \n",
    "    f = open('pegasus-traces-master/1000genome/chameleon-cloud/' + file) \n",
    "\n",
    "    # returns JSON object as  \n",
    "    # a dictionary \n",
    "    data = json.load(f) \n",
    "\n",
    "    taskname_to_id = {}\n",
    "    id_count = 0\n",
    "\n",
    "    G = nx.DiGraph()\n",
    "\n",
    "    for task in data['workflow']['jobs']:\n",
    "\n",
    "        child_id = id_count\n",
    "        id_count += 1\n",
    "        taskname_to_id[task['name']] = child_id\n",
    "\n",
    "        if not G.has_node(child_id):\n",
    "                G.add_node(child_id)\n",
    "\n",
    "        for parent in task['parents']:\n",
    "            if parent in taskname_to_id:\n",
    "\n",
    "                parent_id = taskname_to_id[parent]\n",
    "\n",
    "            else:\n",
    "\n",
    "                parent_id = id_count\n",
    "                id_count += 1\n",
    "                taskname_to_id[parent] = parent_id\n",
    "\n",
    "\n",
    "            if not G.has_edge(parent_id, child_id):\n",
    "                    G.add_edge(parent_id, child_id)\n",
    "    print(len(G.nodes))\n",
    "\n",
    "    \n",
    "   \n",
    "    G_list.append(G)\n",
    "    \n",
    "    # Closing file \n",
    "    f.close() "
   ]
  },
  {
   "cell_type": "code",
   "execution_count": 3,
   "metadata": {},
   "outputs": [
    {
     "data": {
      "text/plain": [
       "<networkx.classes.digraph.DiGraph at 0x23a3db57148>"
      ]
     },
     "execution_count": 3,
     "metadata": {},
     "output_type": "execute_result"
    }
   ],
   "source": [
    "G_list[0]"
   ]
  },
  {
   "cell_type": "code",
   "execution_count": 9,
   "metadata": {},
   "outputs": [
    {
     "name": "stdout",
     "output_type": "stream",
     "text": [
      "______________________________________________________\n",
      "______________________________________________________\n",
      "______________________________________________________\n",
      "______________________________________________________\n",
      "______________________________________________________\n",
      "______________________________________________________\n",
      "______________________________________________________\n",
      "______________________________________________________\n",
      "______________________________________________________\n",
      "______________________________________________________\n",
      "______________________________________________________\n",
      "______________________________________________________\n",
      "______________________________________________________\n",
      "______________________________________________________\n",
      "______________________________________________________\n",
      "______________________________________________________\n",
      "______________________________________________________\n",
      "______________________________________________________\n",
      "______________________________________________________\n",
      "______________________________________________________\n",
      "______________________________________________________\n",
      "______________________________________________________\n"
     ]
    }
   ],
   "source": [
    "mrt = True\n",
    "tie_breaking_rule = 2\n",
    "plot = False\n",
    "\n",
    "x = []\n",
    "y = []\n",
    "lbs= []\n",
    "ubs = []\n",
    "\n",
    "y_optimal = []\n",
    "y_lb = []\n",
    "bad_one = 0\n",
    "box_whiskers_data = []\n",
    "num_machines = 3\n",
    "naives1 = []\n",
    "naives2 = []\n",
    "heur = []\n",
    "for G in G_list:\n",
    "    \n",
    "    \n",
    "    ratio = []\n",
    "    num_tasks = len(G.nodes)\n",
    "    \n",
    "    w = [1 for _ in range(num_tasks)]\n",
    "    s = [1 for _ in range(num_tasks)]\n",
    "\n",
    "    naive1, true, order =iterative_and_naive_heuristic_no_ratio_reversed(num_machines, w, G, naive_version=2,iterations=1,homogeneous=True,verbose=False)\n",
    "    # _, _, obj_opt, _ = get_objective_single_ordering(True, G, w, order, plot=plot, compare=False)\n",
    "    # d = get_optimal_schedule(mrt, G, num_machines, w, plot, verbose=False)\n",
    "    # if solver was successful\n",
    "    # and d[\"objective_task_scaling\"] != 10000000\n",
    "    #if obj_opt != 10000000 and d[\"objective_task_scaling\"] != 10000000:\n",
    "        \n",
    "    x.append(num_tasks)\n",
    "    heur.append(true)\n",
    "    naives1.append(naive1)\n",
    "    #naives2.append(naive2)\n",
    "    #print(naive1, naive2)\n",
    "    # y.append(obj_opt)\n",
    "    # lbs.append(d[\"objective_task_scaling\"])\n",
    "    ub = obj_ub_precise = 2 * sum(psize_to_speed(ub_lst_graph(G, order)))\n",
    "    ubs.append(ub)\n",
    "    print(\"______________________________________________________\")\n",
    " "
   ]
  },
  {
   "cell_type": "code",
   "execution_count": 4,
   "metadata": {},
   "outputs": [
    {
     "name": "stdout",
     "output_type": "stream",
     "text": [
      "x is \n",
      " [52, 82, 104, 164, 156, 246, 208, 328, 260, 410, 312, 492, 364, 574, 416, 656, 468, 738, 520, 820, 572, 902]\n",
      "ubs are \n",
      " [389.1886607044873, 779.1061115887866, 1071.326195620372, 2170.245666026469, 1951.843391785396, 3971.553622571799, 2991.9609253863277, 6101.643634907391, 4169.898042993444, 8516.201252049652, 5472.502076947365, 11187.037030033232, 6887.890857808032, 14089.472689799935, 8406.81522615652, 17206.012405524918, 10024.56175017469, 20525.18886766322, 11734.592283677368, 24033.508231299624, 13530.799328079109, 27720.49550281471]\n",
      "naives1 are \n",
      " [300.1511792159383, 586.324397539402, 833.0016729119018, 1637.8204004161248, 1520.3299894979493, 2996.112771203816, 2333.1977420763883, 4603.231325700344, 3254.09721046939, 6424.738272457003, 4271.755549529451, 8438.089949297793, 5378.0273596315255, 10626.851526379514, 6565.7850230022295, 12977.288222557536, 7830.000188650671, 15479.258730585114, 9166.63666567734, 18124.49013114077, 10571.37188150052, 20904.85592427351]\n",
      "naives2 are \n",
      " [351.97566787991207, 643.4306401235914, 1125.9188047499895, 2044.3206826221758, 2322.587609499978, 4203.428326385501, 3940.7976732478555, 7119.569162531549, 5981.676012647425, 10793.870207714142, 8445.28001992688, 15226.388854161436, 11330.474479542749, 20415.989886329975, 14638.288021471797, 26363.701934196477, 18368.82723128078, 33069.63158332782, 22521.006086764624, 40532.692811518784, 27095.75483122323, 48753.81586206904]\n",
      "heurs are \\m [300.06190153399876, 586.191936966383, 832.97531013795, 1637.7842648778587, 1520.3299894979493, 2996.112771203816, 2333.077628150155, 4603.068311601237, 3254.0456996704097, 6424.6703410179, 4271.755549529451, 8438.089949297793, 5377.876695305461, 10626.650829857346, 6565.716259987053, 12977.19822266844, 7830.000188650671, 15479.258730585114, 9166.460215095618, 18124.25681785813, 10571.28921774763, 20904.748015704998]\n"
     ]
    }
   ],
   "source": [
    "print(\"x is \\n\", x)\n",
    "print(\"ubs are \\n\", ubs)\n",
    "print(\"naives1 are \\n\",naives1)\n",
    "print(\"naives2 are \\n\", naives2)\n",
    "print(\"heurs are \\m\",heur)"
   ]
  },
  {
   "cell_type": "code",
   "execution_count": 6,
   "metadata": {},
   "outputs": [
    {
     "name": "stdout",
     "output_type": "stream",
     "text": [
      "22\n",
      "22\n"
     ]
    }
   ],
   "source": [
    "print(len(y))\n",
    "print(len(x))"
   ]
  },
  {
   "cell_type": "code",
   "execution_count": 6,
   "metadata": {},
   "outputs": [
    {
     "name": "stdout",
     "output_type": "stream",
     "text": [
      "[1.000297530881072, 1.000225967920515, 1.0000316489260017, 1.0000220636740997, 1.0, 1.0, 1.0000514830388771, 1.0000354142254844, 1.0000158297712247, 1.000010573529146, 1.0, 1.0, 1.000028015578378, 1.0000188861500563, 1.0000104730409378, 1.0000069352326713, 1.0, 1.0, 1.0000192495879088, 1.0000128729848061, 1.0000078196472717, 1.0000051619167296]\n",
      "[1.1730101891660216, 1.097644985452079, 1.3516832864632262, 1.248223423843088, 1.5276865059189908, 1.4029606518103772, 1.6890983933408277, 1.5467007397191799, 1.8382274143394135, 1.6800660010213075, 1.9770045176993234, 1.8044828800892974, 2.106867658277387, 1.9212064283666732, 2.2295035974491935, 2.03154035885378, 2.345954890001892, 2.1363834120807277, 2.4568923617511933, 2.236378198502531, 2.5631457311501293, 2.332188640850491]\n"
     ]
    }
   ],
   "source": [
    "ratios1 = [n/h for n,h in zip(naives1, heur)]\n",
    "print(ratios1)\n",
    "ratios2 = [n/h for n,h in zip(naives2, heur)]\n",
    "print(ratios2)"
   ]
  },
  {
   "cell_type": "code",
   "execution_count": 2,
   "metadata": {},
   "outputs": [],
   "source": [
    "ratios1 = [1.000297530881072, 1.000225967920515, 1.0000316489260017, 1.0000220636740997, 1.0, 1.0, 1.0000514830388771, 1.0000354142254844, 1.0000158297712247, 1.000010573529146, 1.0, 1.0, 1.000028015578378, 1.0000188861500563, 1.0000104730409378, 1.0000069352326713, 1.0, 1.0, 1.0000192495879088, 1.0000128729848061, 1.0000078196472717, 1.0000051619167296]\n",
    "ratios2 = [1.1730101891660216, 1.097644985452079, 1.3516832864632262, 1.248223423843088, 1.5276865059189908, 1.4029606518103772, 1.6890983933408277, 1.5467007397191799, 1.8382274143394135, 1.6800660010213075, 1.9770045176993234, 1.8044828800892974, 2.106867658277387, 1.9212064283666732, 2.2295035974491935, 2.03154035885378, 2.345954890001892, 2.1363834120807277, 2.4568923617511933, 2.236378198502531, 2.5631457311501293, 2.332188640850491]\n"
   ]
  },
  {
   "cell_type": "code",
   "execution_count": 3,
   "metadata": {},
   "outputs": [],
   "source": [
    "x = [52, 82, 104, 164, 156, 246, 208, 328, 260, 410, 312, 492, 364, 574, 416, 656, 468, 738, 520, 820, 572, 902]"
   ]
  },
  {
   "cell_type": "code",
   "execution_count": 5,
   "metadata": {},
   "outputs": [
    {
     "data": {
      "image/png": "[encoded data removed]",
      "text/plain": [
       "<Figure size 432x288 with 1 Axes>"
      ]
     },
     "metadata": {
      "needs_background": "light"
     },
     "output_type": "display_data"
    }
   ],
   "source": [
    "import matplotlib.pyplot as plt\n",
    "import math\n",
    "\n",
    "fig = plt.figure()\n",
    "ax = fig.add_axes([0,0,1,1])\n",
    "\n",
    "\n",
    "#print(ub_ratio)\n",
    "#plt.scatter(obj_lb_lst[:,0], obj_lb_lst[:,1], label='lower bound', color=\"g\", linewidths=0.1)\n",
    "\n",
    "\n",
    "# plt.scatter(x, y, s=5, label='opt/lb', color='b')\n",
    "plt.scatter(x, ratios1, label='Naive1 [Number of tasks remaining on same machine]', color='k')\n",
    "plt.scatter(x, ratios2, label='Naive2 [number of descendants]', color='r')\n",
    "#plt.scatter(x, naives, label='Naives', color='g')\n",
    "plt.xlabel('Number of tasks')\n",
    "plt.ylabel('Ratios')\n",
    "plt.title(\"1000 Genome: Ratio of objectives of Naive method to 1 iteration heuristic (Naive/Heur)\")\n",
    "plt.legend()\n",
    "plt.show()"
   ]
  },
  {
   "cell_type": "code",
   "execution_count": 11,
   "metadata": {},
   "outputs": [],
   "source": [
    "import csv\n",
    "with open(\"1000genome_both_naives_heur_3_machines.csv\", 'w+') as f:\n",
    "    writer = csv.writer(f)\n",
    "    writer.writerow([\"task_size\", \"naive1\", \"heuristic\", \"upperbound\"])\n",
    "    writer.writerows(zip(x,  naives1, naives2, heur,  ubs))"
   ]
  }
 ],
 "metadata": {
  "kernelspec": {
   "display_name": "Python 3",
   "language": "python",
   "name": "python3"
  },
  "language_info": {
   "codemirror_mode": {
    "name": "ipython",
    "version": 3
   },
   "file_extension": ".py",
   "mimetype": "text/x-python",
   "name": "python",
   "nbconvert_exporter": "python",
   "pygments_lexer": "ipython3",
   "version": "3.7.6"
  }
 },
 "nbformat": 4,
 "nbformat_minor": 4
}
