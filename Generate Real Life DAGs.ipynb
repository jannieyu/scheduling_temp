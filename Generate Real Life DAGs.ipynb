{
 "cells": [
  {
   "cell_type": "code",
   "execution_count": 1,
   "metadata": {},
   "outputs": [],
   "source": [
    "import json\n",
    "import networkx as nx\n",
    "import pandas as pd\n",
    "import glob\n",
    "import os\n",
    "from math import floor\n",
    "from tqdm import tqdm"
   ]
  },
  {
   "cell_type": "code",
   "execution_count": 2,
   "metadata": {},
   "outputs": [],
   "source": [
    "cwd = os.getcwd()\n",
    "# trace types\n",
    "traces = [\"1000genome\", \"cycles\", \"epigenomics\", \"montage\", \"seismology\", \"soykb\"]\n"
   ]
  },
  {
   "cell_type": "markdown",
   "metadata": {},
   "source": [
    "## SET GLOBAL PARAMETERS"
   ]
  },
  {
   "cell_type": "code",
   "execution_count": 3,
   "metadata": {},
   "outputs": [],
   "source": [
    "TRAIN_RATIO = 0.8\n",
    "SAVE_DIRECTORY = os.path.join(cwd,\"real_life_traces\") + \"/\""
   ]
  },
  {
   "cell_type": "markdown",
   "metadata": {},
   "source": [
    "## Extract the graphs from that."
   ]
  },
  {
   "cell_type": "code",
   "execution_count": 4,
   "metadata": {},
   "outputs": [],
   "source": [
    "def convert_to_graph(file_name):\n",
    "    # Read in data\n",
    "    with open(file_name) as json_file:\n",
    "        data = json.load(json_file)\n",
    "\n",
    "    # data name to actual node name\n",
    "    id_mapper = {}\n",
    "    count = 0\n",
    "    g = nx.DiGraph()\n",
    "\n",
    "    # Loop over every node\n",
    "    for node in data['workflow']['jobs']:\n",
    "        node_name = count \n",
    "        id_mapper[node['name']] = node_name\n",
    "        count += 1\n",
    "        # Add node (nx handles duplicates)\n",
    "        g.add_node(node_name)\n",
    "\n",
    "        # Check if parent is there\n",
    "        for parent in node['parents']:\n",
    "            if parent in id_mapper.keys():\n",
    "                parent_name = id_mapper[parent]\n",
    "            else:\n",
    "                parent_name = count\n",
    "                count += 1\n",
    "                id_mapper[parent] = parent_name\n",
    "\n",
    "            # make edges (nx handles duplicates)\n",
    "            g.add_edge(parent_name, node_name)\n",
    "\n",
    "    # Sanity check\n",
    "    assert nx.algorithms.is_directed_acyclic_graph(g)\n",
    "    return g\n",
    "\n",
    "\n",
    "def save_graph_data(filename, graphs):\n",
    "    input_df = pd.DataFrame(columns = [\n",
    "            \"graph_object\", \n",
    "        ])\n",
    "    for graph in graphs:\n",
    "        entry_dict = {\n",
    "            \"graph_object\": nx.node_link_data(graph), # save graph object in json form\n",
    "        }\n",
    "        input_df = input_df.append(entry_dict, ignore_index = True)\n",
    "\n",
    "    input_df.to_csv(filename, index=False)\n"
   ]
  },
  {
   "cell_type": "code",
   "execution_count": 5,
   "metadata": {},
   "outputs": [
    {
     "name": "stderr",
     "output_type": "stream",
     "text": [
      "  0%|          | 0/6 [00:00<?, ?it/s]\n"
     ]
    },
    {
     "ename": "UnboundLocalError",
     "evalue": "local variable 'input_df' referenced before assignment",
     "output_type": "error",
     "traceback": [
      "\u001b[0;31m---------------------------------------------------------------------------\u001b[0m",
      "\u001b[0;31mUnboundLocalError\u001b[0m                         Traceback (most recent call last)",
      "\u001b[0;32m/tmp/ipykernel_16103/856077722.py\u001b[0m in \u001b[0;36m<module>\u001b[0;34m\u001b[0m\n\u001b[1;32m     17\u001b[0m \u001b[0;34m\u001b[0m\u001b[0m\n\u001b[1;32m     18\u001b[0m     \u001b[0;31m# save the graphs\u001b[0m\u001b[0;34m\u001b[0m\u001b[0;34m\u001b[0m\u001b[0;34m\u001b[0m\u001b[0m\n\u001b[0;32m---> 19\u001b[0;31m     \u001b[0msave_graph_data\u001b[0m\u001b[0;34m(\u001b[0m\u001b[0mtrain_file_name\u001b[0m\u001b[0;34m,\u001b[0m \u001b[0mgraphs\u001b[0m\u001b[0;34m[\u001b[0m\u001b[0;34m:\u001b[0m\u001b[0msplit_point\u001b[0m\u001b[0;34m]\u001b[0m\u001b[0;34m)\u001b[0m\u001b[0;34m\u001b[0m\u001b[0;34m\u001b[0m\u001b[0m\n\u001b[0m\u001b[1;32m     20\u001b[0m     \u001b[0msave_graph_data\u001b[0m\u001b[0;34m(\u001b[0m\u001b[0mtest_file_name\u001b[0m\u001b[0;34m,\u001b[0m \u001b[0mgraphs\u001b[0m\u001b[0;34m[\u001b[0m\u001b[0msplit_point\u001b[0m\u001b[0;34m:\u001b[0m\u001b[0;34m]\u001b[0m\u001b[0;34m)\u001b[0m\u001b[0;34m\u001b[0m\u001b[0;34m\u001b[0m\u001b[0m\n\u001b[1;32m     21\u001b[0m \u001b[0;34m\u001b[0m\u001b[0m\n",
      "\u001b[0;32m/tmp/ipykernel_16103/3893177193.py\u001b[0m in \u001b[0;36msave_graph_data\u001b[0;34m(filename, graphs)\u001b[0m\n\u001b[1;32m     39\u001b[0m             \u001b[0;34m\"graph_object\"\u001b[0m\u001b[0;34m:\u001b[0m \u001b[0mnx\u001b[0m\u001b[0;34m.\u001b[0m\u001b[0mnode_link_data\u001b[0m\u001b[0;34m(\u001b[0m\u001b[0mgraph\u001b[0m\u001b[0;34m)\u001b[0m\u001b[0;34m,\u001b[0m \u001b[0;31m# save graph object in json form\u001b[0m\u001b[0;34m\u001b[0m\u001b[0;34m\u001b[0m\u001b[0m\n\u001b[1;32m     40\u001b[0m         }\n\u001b[0;32m---> 41\u001b[0;31m         \u001b[0minput_df\u001b[0m \u001b[0;34m=\u001b[0m \u001b[0minput_df\u001b[0m\u001b[0;34m.\u001b[0m\u001b[0mappend\u001b[0m\u001b[0;34m(\u001b[0m\u001b[0mentry_dict\u001b[0m\u001b[0;34m,\u001b[0m \u001b[0mignore_index\u001b[0m \u001b[0;34m=\u001b[0m \u001b[0;32mTrue\u001b[0m\u001b[0;34m)\u001b[0m\u001b[0;34m\u001b[0m\u001b[0;34m\u001b[0m\u001b[0m\n\u001b[0m\u001b[1;32m     42\u001b[0m \u001b[0;34m\u001b[0m\u001b[0m\n\u001b[1;32m     43\u001b[0m     \u001b[0minput_df\u001b[0m\u001b[0;34m.\u001b[0m\u001b[0mto_csv\u001b[0m\u001b[0;34m(\u001b[0m\u001b[0mfilename\u001b[0m\u001b[0;34m,\u001b[0m \u001b[0mindex\u001b[0m\u001b[0;34m=\u001b[0m\u001b[0;32mFalse\u001b[0m\u001b[0;34m)\u001b[0m\u001b[0;34m\u001b[0m\u001b[0;34m\u001b[0m\u001b[0m\n",
      "\u001b[0;31mUnboundLocalError\u001b[0m: local variable 'input_df' referenced before assignment"
     ]
    }
   ],
   "source": [
    "for trace in tqdm(traces):\n",
    "    workflow_folder = os.path.join(cwd, \"pegasus-traces-master\")\n",
    "    workflow_folder = os.path.join(workflow_folder, trace)\n",
    "    workflow_folder = os.path.join(workflow_folder, \"chameleon-cloud\")\n",
    "\n",
    "    # Get all the files\n",
    "    files = glob.glob(workflow_folder + \"/*.json\")\n",
    "\n",
    "    # Get all the graphs\n",
    "    graphs = [convert_to_graph(f) for f in files]\n",
    "\n",
    "    # Split the graphs\n",
    "    split_point = floor(len(graphs) * TRAIN_RATIO)\n",
    "\n",
    "    train_file_name = f'{SAVE_DIRECTORY}{trace}_train.csv'\n",
    "    test_file_name = f'{SAVE_DIRECTORY}{trace}_test.csv'\n",
    "\n",
    "    # save the graphs\n",
    "    save_graph_data(train_file_name, graphs[:split_point])\n",
    "    save_graph_data(test_file_name, graphs[split_point:])\n",
    "    \n",
    "    \n",
    "    \n"
   ]
  }
 ],
 "metadata": {
  "interpreter": {
   "hash": "b0a38c7fd2505b15b46fab770b43c894ec907a53509f636050b5c66c47dc2015"
  },
  "kernelspec": {
   "display_name": "Python 3.8.10 64-bit ('caltech_venv': venv)",
   "language": "python",
   "name": "python3"
  },
  "language_info": {
   "codemirror_mode": {
    "name": "ipython",
    "version": 3
   },
   "file_extension": ".py",
   "mimetype": "text/x-python",
   "name": "python",
   "nbconvert_exporter": "python",
   "pygments_lexer": "ipython3",
   "version": "3.8.10"
  },
  "orig_nbformat": 4
 },
 "nbformat": 4,
 "nbformat_minor": 2
}
