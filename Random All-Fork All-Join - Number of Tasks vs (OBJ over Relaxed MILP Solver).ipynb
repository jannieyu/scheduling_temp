{
 "cells": [
  {
   "cell_type": "code",
   "execution_count": 1,
   "metadata": {},
   "outputs": [],
   "source": [
    "import networkx as nx\n",
    "import numpy as np\n",
    "import math\n",
    "import matplotlib.pyplot as plt\n",
    "from scheduling_util.consolidated_functions import relaxed_opt_schedule\n",
    "from scheduling_util.heuristics import heuristics\n",
    "from graph_util.random_graph_functions import random_all_fork, random_all_join"
   ]
  },
  {
   "cell_type": "code",
   "execution_count": 2,
   "metadata": {},
   "outputs": [],
   "source": [
    "task_list = [5*i for i in range(1,5)]\n",
    "num_machines = 3"
   ]
  },
  {
   "cell_type": "code",
   "execution_count": 3,
   "metadata": {},
   "outputs": [
    {
     "ename": "AttributeError",
     "evalue": "'tuple' object has no attribute 'predecessors'",
     "output_type": "error",
     "traceback": [
      "\u001b[0;31m---------------------------------------------------------------------------\u001b[0m",
      "\u001b[0;31mAttributeError\u001b[0m                            Traceback (most recent call last)",
      "\u001b[0;32m<ipython-input-3-88dd3927c6f2>\u001b[0m in \u001b[0;36m<module>\u001b[0;34m\u001b[0m\n\u001b[1;32m     12\u001b[0m     \u001b[0;32mwhile\u001b[0m \u001b[0mcounter\u001b[0m \u001b[0;34m!=\u001b[0m \u001b[0;36m20\u001b[0m\u001b[0;34m:\u001b[0m\u001b[0;34m\u001b[0m\u001b[0;34m\u001b[0m\u001b[0m\n\u001b[1;32m     13\u001b[0m         \u001b[0mG\u001b[0m \u001b[0;34m=\u001b[0m \u001b[0mrandom_all_fork\u001b[0m\u001b[0;34m(\u001b[0m\u001b[0mnum_tasks\u001b[0m\u001b[0;34m)\u001b[0m\u001b[0;34m\u001b[0m\u001b[0;34m\u001b[0m\u001b[0m\n\u001b[0;32m---> 14\u001b[0;31m         \u001b[0mnaive1\u001b[0m\u001b[0;34m,\u001b[0m \u001b[0mnaive2\u001b[0m\u001b[0;34m,\u001b[0m \u001b[0mheuristic\u001b[0m\u001b[0;34m,\u001b[0m \u001b[0m_\u001b[0m \u001b[0;34m=\u001b[0m \u001b[0mheuristics\u001b[0m\u001b[0;34m(\u001b[0m\u001b[0mG\u001b[0m\u001b[0;34m,\u001b[0m \u001b[0mnum_machines\u001b[0m\u001b[0;34m,\u001b[0m \u001b[0mnaive_version\u001b[0m\u001b[0;34m=\u001b[0m\u001b[0;36m3\u001b[0m\u001b[0;34m)\u001b[0m\u001b[0;34m\u001b[0m\u001b[0;34m\u001b[0m\u001b[0m\n\u001b[0m\u001b[1;32m     15\u001b[0m \u001b[0;34m\u001b[0m\u001b[0m\n\u001b[1;32m     16\u001b[0m         \u001b[0mw\u001b[0m \u001b[0;34m=\u001b[0m \u001b[0;34m[\u001b[0m\u001b[0;36m1\u001b[0m \u001b[0;32mfor\u001b[0m \u001b[0m_\u001b[0m \u001b[0;32min\u001b[0m \u001b[0mrange\u001b[0m\u001b[0;34m(\u001b[0m\u001b[0mnum_tasks\u001b[0m\u001b[0;34m)\u001b[0m\u001b[0;34m]\u001b[0m\u001b[0;34m\u001b[0m\u001b[0;34m\u001b[0m\u001b[0m\n",
      "\u001b[0;32m~/scheduling_temp/scheduling_util/heuristics.py\u001b[0m in \u001b[0;36mheuristics\u001b[0;34m(G, num_machines, naive_version, iterations, verbose)\u001b[0m\n\u001b[1;32m     55\u001b[0m \u001b[0;34m\u001b[0m\u001b[0m\n\u001b[1;32m     56\u001b[0m     \u001b[0;31m# Get initial ordering using modified ETF\u001b[0m\u001b[0;34m\u001b[0m\u001b[0;34m\u001b[0m\u001b[0;34m\u001b[0m\u001b[0m\n\u001b[0;32m---> 57\u001b[0;31m     \u001b[0metf\u001b[0m \u001b[0;34m=\u001b[0m \u001b[0mMod_ETF\u001b[0m\u001b[0;34m(\u001b[0m\u001b[0mG\u001b[0m\u001b[0;34m,\u001b[0m \u001b[0mw\u001b[0m\u001b[0;34m,\u001b[0m \u001b[0ms\u001b[0m\u001b[0;34m,\u001b[0m \u001b[0mnum_machines\u001b[0m\u001b[0;34m,\u001b[0m \u001b[0mtie_breaking_rule\u001b[0m\u001b[0;34m,\u001b[0m \u001b[0mplot\u001b[0m\u001b[0;34m=\u001b[0m\u001b[0;32mFalse\u001b[0m\u001b[0;34m)\u001b[0m\u001b[0;34m\u001b[0m\u001b[0;34m\u001b[0m\u001b[0m\n\u001b[0m\u001b[1;32m     58\u001b[0m \u001b[0;34m\u001b[0m\u001b[0m\n\u001b[1;32m     59\u001b[0m     \u001b[0;31m# run naive 1\u001b[0m\u001b[0;34m\u001b[0m\u001b[0;34m\u001b[0m\u001b[0;34m\u001b[0m\u001b[0m\n",
      "\u001b[0;32m~/scheduling_temp/scheduling_util/modified_etf.py\u001b[0m in \u001b[0;36m__init__\u001b[0;34m(self, G, w, s, num_machines, tie_breaking_rule, plot, is_etf)\u001b[0m\n\u001b[1;32m     60\u001b[0m         \u001b[0;31m# As done in paper, h maps tasks to machines, t maps tasks to the\u001b[0m\u001b[0;34m\u001b[0m\u001b[0;34m\u001b[0m\u001b[0;34m\u001b[0m\u001b[0m\n\u001b[1;32m     61\u001b[0m         \u001b[0;31m# interval that they run at\u001b[0m\u001b[0;34m\u001b[0m\u001b[0;34m\u001b[0m\u001b[0;34m\u001b[0m\u001b[0m\n\u001b[0;32m---> 62\u001b[0;31m         \u001b[0mself\u001b[0m\u001b[0;34m.\u001b[0m\u001b[0mh\u001b[0m\u001b[0;34m,\u001b[0m \u001b[0mself\u001b[0m\u001b[0;34m.\u001b[0m\u001b[0mt\u001b[0m\u001b[0;34m,\u001b[0m \u001b[0mself\u001b[0m\u001b[0;34m.\u001b[0m\u001b[0morder\u001b[0m \u001b[0;34m=\u001b[0m \u001b[0mself\u001b[0m\u001b[0;34m.\u001b[0m\u001b[0metf\u001b[0m\u001b[0;34m(\u001b[0m\u001b[0;34m)\u001b[0m\u001b[0;34m\u001b[0m\u001b[0;34m\u001b[0m\u001b[0m\n\u001b[0m\u001b[1;32m     63\u001b[0m \u001b[0;34m\u001b[0m\u001b[0m\n\u001b[1;32m     64\u001b[0m         \u001b[0mself\u001b[0m\u001b[0;34m.\u001b[0m\u001b[0mobj_value\u001b[0m \u001b[0;34m=\u001b[0m \u001b[0mself\u001b[0m\u001b[0;34m.\u001b[0m\u001b[0mcompute_cost\u001b[0m\u001b[0;34m(\u001b[0m\u001b[0;34m)\u001b[0m\u001b[0;34m\u001b[0m\u001b[0;34m\u001b[0m\u001b[0m\n",
      "\u001b[0;32m~/scheduling_temp/scheduling_util/modified_etf.py\u001b[0m in \u001b[0;36metf\u001b[0;34m(self)\u001b[0m\n\u001b[1;32m    226\u001b[0m             \u001b[0mfree\u001b[0m \u001b[0;34m=\u001b[0m \u001b[0;32mTrue\u001b[0m\u001b[0;34m\u001b[0m\u001b[0;34m\u001b[0m\u001b[0m\n\u001b[1;32m    227\u001b[0m             \u001b[0;31m# Check if parents have been scheduled yet\u001b[0m\u001b[0;34m\u001b[0m\u001b[0;34m\u001b[0m\u001b[0;34m\u001b[0m\u001b[0m\n\u001b[0;32m--> 228\u001b[0;31m             \u001b[0;32mfor\u001b[0m \u001b[0mparent\u001b[0m \u001b[0;32min\u001b[0m \u001b[0mself\u001b[0m\u001b[0;34m.\u001b[0m\u001b[0mG\u001b[0m\u001b[0;34m.\u001b[0m\u001b[0mpredecessors\u001b[0m\u001b[0;34m(\u001b[0m\u001b[0mj\u001b[0m\u001b[0;34m)\u001b[0m\u001b[0;34m:\u001b[0m\u001b[0;34m\u001b[0m\u001b[0;34m\u001b[0m\u001b[0m\n\u001b[0m\u001b[1;32m    229\u001b[0m                 \u001b[0;32mif\u001b[0m \u001b[0mparent\u001b[0m \u001b[0;32mnot\u001b[0m \u001b[0;32min\u001b[0m \u001b[0mdone\u001b[0m\u001b[0;34m:\u001b[0m\u001b[0;34m\u001b[0m\u001b[0;34m\u001b[0m\u001b[0m\n\u001b[1;32m    230\u001b[0m                     \u001b[0mfree\u001b[0m \u001b[0;34m=\u001b[0m \u001b[0;32mFalse\u001b[0m\u001b[0;34m\u001b[0m\u001b[0;34m\u001b[0m\u001b[0m\n",
      "\u001b[0;31mAttributeError\u001b[0m: 'tuple' object has no attribute 'predecessors'"
     ]
    }
   ],
   "source": [
    "#all-fork\n",
    "mrt = True\n",
    "tie_breaking_rule = 2\n",
    "plot = False\n",
    "num = 5\n",
    "x = []\n",
    "fork_naive_1_ratio = []\n",
    "fork_naive_2_ratio = []\n",
    "fork_heuristic_ratio = []\n",
    "for num_tasks in task_list:\n",
    "    counter = 0\n",
    "    while counter != 20:     \n",
    "        G = random_all_fork(num_tasks)\n",
    "        naive1, naive2, heuristic, _ = heuristics(G, num_machines, naive_version=3)\n",
    "        \n",
    "        w = [1 for _ in range(num_tasks)]\n",
    "        _, _, relaxed_opt, _ = relaxed_opt_schedule(mrt, G, num_machines, w, plot, verbose=False)\n",
    "        \n",
    "        x.append(num_tasks)\n",
    "        \n",
    "        fork_naive_1_ratio.append(naive1/relaxed_opt)\n",
    "        fork_naive_2_ratio.append(naive2/relaxed_opt)\n",
    "        fork_heuristic_ratio.append(heuristic/relaxed_opt)\n",
    "        counter += 1"
   ]
  },
  {
   "cell_type": "code",
   "execution_count": null,
   "metadata": {},
   "outputs": [],
   "source": [
    "#all-join\n",
    "mrt = True\n",
    "tie_breaking_rule = 2\n",
    "plot = False\n",
    "num = 5\n",
    "x = []\n",
    "join_naive_1_ratio = []\n",
    "join_naive_2_ratio = []\n",
    "join_heuristic_ratio = []\n",
    "for num_tasks in task_list:\n",
    "    counter = 0\n",
    "    while counter != 20:     \n",
    "        G = random_all_join(num_tasks)\n",
    "        naive1, naive2, heuristic, _ = heuristics(G, num_machines, naive_version=3)\n",
    "        \n",
    "        w = [1 for _ in range(num_tasks)]\n",
    "        _, _, relaxed_opt, _ = relaxed_opt_schedule(mrt, G, num_machines, w, plot, verbose=False)\n",
    "        \n",
    "        x.append(num_tasks)\n",
    "        \n",
    "        join_naive_1_ratio.append(naive1/relaxed_opt)\n",
    "        join_naive_2_ratio.append(naive2/relaxed_opt)\n",
    "        join_heuristic_ratio.append(heuristic/relaxed_opt)\n",
    "        counter += 1"
   ]
  },
  {
   "cell_type": "code",
   "execution_count": null,
   "metadata": {},
   "outputs": [],
   "source": [
    "fig = plt.figure()\n",
    "ax = fig.add_axes([0,0,1,1])\n",
    "\n",
    "plt.scatter(x, fork_naive_1_ratio, label='naive1/relaxed OPT', color='b', alpha = 0.5)\n",
    "plt.scatter(x, fork_naive_2_ratio, label='naive2/relaxed OPT', color='r', alpha = 0.5)\n",
    "plt.scatter(x, fork_heuristic_ratio, label='heuristic/relaxed OPT', color='g', alpha = 0.5)\n",
    "plt.xlabel('Number of tasks')\n",
    "plt.ylabel('Ratio')\n",
    "plt.legend()\n",
    "plt.title(\"Plots of naive methods / heuristic obj. function value w/ Random All-Fork DAGs\")\n",
    "plt.show()"
   ]
  },
  {
   "cell_type": "code",
   "execution_count": null,
   "metadata": {
    "scrolled": false
   },
   "outputs": [],
   "source": [
    "fig = plt.figure()\n",
    "ax = fig.add_axes([0,0,1,1])\n",
    "\n",
    "plt.scatter(x, join_naive_1_ratio, label='naive1/relaxed OPT', color='b', alpha = 0.5)\n",
    "plt.scatter(x, join_naive_2_ratio, label='naive2/relaxed OPT', color='r', alpha = 0.5)\n",
    "plt.scatter(x, join_heuristic_ratio, label='heuristic/relaxed OPT', color='g', alpha = 0.5)\n",
    "plt.xlabel('Number of tasks')\n",
    "plt.ylabel('Ratio')\n",
    "plt.legend()\n",
    "plt.title(\"Plots of naive methods / heuristic obj. function value w/ Random All-join DAGs\")\n",
    "plt.show()"
   ]
  },
  {
   "cell_type": "code",
   "execution_count": null,
   "metadata": {},
   "outputs": [],
   "source": []
  }
 ],
 "metadata": {
  "kernelspec": {
   "display_name": "Python 3",
   "language": "python",
   "name": "python3"
  },
  "language_info": {
   "codemirror_mode": {
    "name": "ipython",
    "version": 3
   },
   "file_extension": ".py",
   "mimetype": "text/x-python",
   "name": "python",
   "nbconvert_exporter": "python",
   "pygments_lexer": "ipython3",
   "version": "3.7.9"
  }
 },
 "nbformat": 4,
 "nbformat_minor": 4
}
