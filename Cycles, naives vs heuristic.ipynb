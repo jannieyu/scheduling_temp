{
 "cells": [
  {
   "cell_type": "code",
   "execution_count": 2,
   "metadata": {},
   "outputs": [],
   "source": [
    "import json \n",
    "import networkx as nx\n",
    "  \n",
    "\n",
    "from conjecture.consolidated_functions import *\n",
    "from conjecture.all_valid_orderings import *\n",
    "from conjecture.optimization_functions import *\n",
    "from iterative_heuristic.modified_etf import Mod_ETF\n",
    "from iterative_heuristic.approximate_speeds import *\n",
    "from iterative_heuristic.consolidated import *\n",
    "from makespan_energy.construct_graph_util import *\n",
    "from makespan_energy.visualization_util import *\n",
    "import networkx as nx\n",
    "import numpy as np\n",
    "import math\n",
    "import plotly.express as px\n",
    "import pandas as pd "
   ]
  },
  {
   "cell_type": "code",
   "execution_count": 3,
   "metadata": {},
   "outputs": [
    {
     "name": "stdout",
     "output_type": "stream",
     "text": [
      "67\n",
      "219\n",
      "134\n",
      "438\n",
      "201\n",
      "657\n",
      "133\n",
      "437\n",
      "266\n",
      "874\n",
      "399\n",
      "1311\n",
      "331\n",
      "1091\n",
      "662\n",
      "2182\n",
      "993\n",
      "3273\n",
      "661\n",
      "2181\n",
      "1322\n",
      "4362\n",
      "1983\n",
      "6543\n"
     ]
    }
   ],
   "source": [
    "# Construct DAGs\n",
    "\n",
    "file_list = ['cycles-chameleon-1l-1c-9p-001.json',\n",
    "'cycles-chameleon-1l-1c-12p-001.json',\n",
    "'cycles-chameleon-1l-2c-9p-001.json',\n",
    "'cycles-chameleon-1l-2c-12p-001.json',\n",
    "'cycles-chameleon-1l-3c-9p-001.json',\n",
    "'cycles-chameleon-1l-3c-12p-001.json',\n",
    "'cycles-chameleon-2l-1c-9p-001.json',\n",
    "'cycles-chameleon-2l-1c-12p-001.json',\n",
    "'cycles-chameleon-2l-2c-9p-001.json',\n",
    "'cycles-chameleon-2l-2c-12p-001.json',\n",
    "'cycles-chameleon-2l-3c-9p-001.json',\n",
    "'cycles-chameleon-2l-3c-12p-001.json',\n",
    "'cycles-chameleon-5l-1c-9p-001.json',\n",
    "'cycles-chameleon-5l-1c-12p-001.json',\n",
    "'cycles-chameleon-5l-2c-9p-001.json',\n",
    "'cycles-chameleon-5l-2c-12p-001.json',\n",
    "'cycles-chameleon-5l-3c-9p-001.json',\n",
    "'cycles-chameleon-5l-3c-12p-001.json',\n",
    "'cycles-chameleon-10l-1c-9p-001.json',\n",
    "'cycles-chameleon-10l-1c-12p-001.json',\n",
    "'cycles-chameleon-10l-2c-9p-001.json',\n",
    "'cycles-chameleon-10l-2c-12p-001.json',\n",
    "'cycles-chameleon-10l-3c-9p-001.json',\n",
    "'cycles-chameleon-10l-3c-12p-001.json']\n",
    "    \n",
    "G_list = []\n",
    "\n",
    "for file in file_list:\n",
    "    \n",
    "    # Opening JSON file \n",
    "    f = open('pegasus-traces-master/cycles/chameleon-cloud/' + file) \n",
    "\n",
    "    # returns JSON object as  \n",
    "    # a dictionary \n",
    "    data = json.load(f) \n",
    "\n",
    "    taskname_to_id = {}\n",
    "    id_count = 0\n",
    "\n",
    "    G = nx.DiGraph()\n",
    "\n",
    "    for task in data['workflow']['jobs']:\n",
    "\n",
    "        child_id = id_count\n",
    "        id_count += 1\n",
    "        taskname_to_id[task['name']] = child_id\n",
    "\n",
    "        if not G.has_node(child_id):\n",
    "                G.add_node(child_id)\n",
    "\n",
    "        for parent in task['parents']:\n",
    "            if parent in taskname_to_id:\n",
    "\n",
    "                parent_id = taskname_to_id[parent]\n",
    "\n",
    "            else:\n",
    "\n",
    "                parent_id = id_count\n",
    "                id_count += 1\n",
    "                taskname_to_id[parent] = parent_id\n",
    "\n",
    "\n",
    "            if not G.has_edge(parent_id, child_id):\n",
    "                    G.add_edge(parent_id, child_id)\n",
    "    print(len(G.nodes))\n",
    "\n",
    "    \n",
    "   \n",
    "    G_list.append(G)\n",
    "    \n",
    "    # Closing file \n",
    "    f.close() "
   ]
  },
  {
   "cell_type": "code",
   "execution_count": 4,
   "metadata": {},
   "outputs": [
    {
     "name": "stdout",
     "output_type": "stream",
     "text": [
      "436.0169642297627 497.84545017394436\n",
      "______________________________________________________\n",
      "2520.1464019944856 4169.220151691228\n",
      "______________________________________________________\n",
      "1212.9748620021217 1689.985680448004\n",
      "______________________________________________________\n",
      "7091.521359285227 15683.270420976887\n",
      "______________________________________________________\n",
      "2217.013826103615 3576.6284381896485\n",
      "______________________________________________________\n",
      "13006.781684008149 34544.27212820063\n",
      "______________________________________________________\n",
      "1199.558454137123 1664.2269077357648\n",
      "______________________________________________________\n",
      "7067.35526733804 15604.323556697016\n",
      "______________________________________________________\n",
      "3366.7104466995247 6058.953915074957\n",
      "______________________________________________________\n",
      "19940.472054362515 60438.609389118224\n",
      "______________________________________________________\n",
      "6168.6953485329295 13184.18102201758\n",
      "______________________________________________________\n",
      "36602.622867373575 134502.8574972631\n",
      "______________________________________________________\n",
      "4666.07102408972 9188.548905650889\n",
      "______________________________________________________\n",
      "27796.554115499148 93524.88303907042\n",
      "______________________________________________________\n",
      "13155.240340842545 35264.67678809451\n",
      "______________________________________________________\n",
      "78541.83604140328 369158.38072227966\n",
      "______________________________________________________\n",
      "24141.41538791344 78228.38364733098\n",
      "______________________________________________________\n",
      "144242.03288141682 826900.4930496468\n",
      "______________________________________________________\n",
      "13125.508203347912 35144.59048607334\n",
      "______________________________________________________\n",
      "78487.87309115041 368770.8179737555\n",
      "______________________________________________________\n",
      "37063.764587411366 137602.54746461293\n",
      "______________________________________________________\n",
      "221885.0961188776 1465205.0903473431\n",
      "______________________________________________________\n",
      "68052.92134629667 307373.8709356201\n",
      "______________________________________________________\n",
      "407559.9359576274 3289302.817120784\n",
      "______________________________________________________\n"
     ]
    }
   ],
   "source": [
    "mrt = True\n",
    "tie_breaking_rule = 2\n",
    "plot = False\n",
    "\n",
    "x = []\n",
    "y = []\n",
    "lbs= []\n",
    "ubs = []\n",
    "\n",
    "y_optimal = []\n",
    "y_lb = []\n",
    "bad_one = 0\n",
    "box_whiskers_data = []\n",
    "num_machines = 3\n",
    "naives1 = []\n",
    "naives2 = []\n",
    "heur = []\n",
    "for G in G_list:\n",
    "    \n",
    "    \n",
    "    ratio = []\n",
    "    num_tasks = len(G.nodes)\n",
    "    \n",
    "    w = [1 for _ in range(num_tasks)]\n",
    "    s = [1 for _ in range(num_tasks)]\n",
    "\n",
    "    naive1,naive2, true, order =iterative_and_naive_heuristic_no_ratio_reversed(num_machines, w, G, naive_version=4, verbose=False)\n",
    "    # _, _, obj_opt, _ = get_objective_single_ordering(True, G, w, order, plot=plot, compare=False)\n",
    "    # d = get_optimal_schedule(mrt, G, num_machines, w, plot, verbose=False)\n",
    "    # if solver was successful\n",
    "    # and d[\"objective_task_scaling\"] != 10000000\n",
    "    #if obj_opt != 10000000 and d[\"objective_task_scaling\"] != 10000000:\n",
    "        \n",
    "    x.append(num_tasks)\n",
    "    heur.append(true)\n",
    "    naives1.append(naive1)\n",
    "    naives2.append(naive2)\n",
    "    print(naive1, naive2)\n",
    "    # y.append(obj_opt)\n",
    "    # lbs.append(d[\"objective_task_scaling\"])\n",
    "    ub = obj_ub_precise = 2 * sum(psize_to_speed(ub_lst_graph(G, order)))\n",
    "    ubs.append(ub)\n",
    "    print(\"______________________________________________________\")\n",
    " "
   ]
  },
  {
   "cell_type": "code",
   "execution_count": 5,
   "metadata": {},
   "outputs": [
    {
     "name": "stdout",
     "output_type": "stream",
     "text": [
      "x is \n",
      " [67, 219, 134, 438, 201, 657, 133, 437, 266, 874, 399, 1311, 331, 1091, 662, 2182, 993, 3273, 661, 2181, 1322, 4362, 1983, 6543]\n",
      "ubs are \n",
      " [562.7708469792087, 2973.0377382079346, 1572.4101055240058, 8487.810244650329, 2622.9340452336774, 15172.79925989423, 1552.1480978582242, 8456.06282785852, 4382.543317807464, 24337.112203852954, 7386.888545159946, 43253.67208033002, 6085.949592113272, 33958.33376569274, 17202.91223787014, 96303.14555737647, 29121.81614494891, 171805.7556707266, 17155.469387244757, 96211.22029667856, 48524.349641490546, 272495.229578027, 82294.90669174345, 486737.6548789448]\n",
      "naives1 are \n",
      " [436.0169642297627, 2520.1464019944856, 1212.9748620021217, 7091.521359285227, 2217.013826103615, 13006.781684008149, 1199.558454137123, 7067.35526733804, 3366.7104466995247, 19940.472054362515, 6168.6953485329295, 36602.622867373575, 4666.07102408972, 27796.554115499148, 13155.240340842545, 78541.83604140328, 24141.41538791344, 144242.03288141682, 13125.508203347912, 78487.87309115041, 37063.764587411366, 221885.0961188776, 68052.92134629667, 407559.9359576274]\n",
      "naives2 are \n",
      " [497.84545017394436, 4169.220151691228, 1689.985680448004, 15683.270420976887, 3576.6284381896485, 34544.27212820063, 1664.2269077357648, 15604.323556697016, 6058.953915074957, 60438.609389118224, 13184.18102201758, 134502.8574972631, 9188.548905650889, 93524.88303907042, 35264.67678809451, 369158.38072227966, 78228.38364733098, 826900.4930496468, 35144.59048607334, 368770.8179737555, 137602.54746461293, 1465205.0903473431, 307373.8709356201, 3289302.817120784]\n",
      "heurs are \\m [435.4200232168706, 2520.262649633229, 1212.9748620021217, 7091.521359285227, 2217.013826103615, 13006.781684008149, 1199.558454137123, 7067.35526733804, 3366.7104466995247, 19940.472054362515, 6168.6953485329295, 36602.622867373575, 4666.07102408972, 27796.554115499148, 13155.240340842545, 78541.83604140328, 24141.41538791344, 144242.03288141685, 13125.508203347912, 78487.87309115041, 37063.764587411366, 221885.0961188776, 68052.92134629667, 407559.9359576274]\n"
     ]
    }
   ],
   "source": [
    "print(\"x is \\n\", x)\n",
    "print(\"ubs are \\n\", ubs)\n",
    "print(\"naives1 are \\n\",naives1)\n",
    "print(\"naives2 are \\n\", naives2)\n",
    "print(\"heurs are \\m\",heur)"
   ]
  },
  {
   "cell_type": "code",
   "execution_count": 6,
   "metadata": {},
   "outputs": [
    {
     "name": "stdout",
     "output_type": "stream",
     "text": [
      "[1.0013709544372396, 0.9999538747920735, 1.0, 1.0, 1.0, 1.0, 1.0, 1.0, 1.0, 1.0, 1.0, 1.0, 1.0, 1.0, 1.0, 1.0, 1.0, 0.9999999999999998, 1.0, 1.0, 1.0, 1.0, 1.0, 1.0]\n",
      "[1.143368296423018, 1.6542800220834006, 1.3932569696115005, 2.211552306818074, 1.6132639301016656, 2.655866221747448, 1.387366244634482, 2.2079438441156043, 1.799665878904053, 3.0309517861135915, 2.1372721908131043, 3.6746781230575336, 1.9692261129787316, 3.364621479715058, 2.680656215653445, 4.700149618703566, 3.240422418914864, 5.732729056373269, 2.6775794080955313, 4.698443255628681, 3.7125896140444774, 6.603440771715203, 4.516688848249523, 8.070721694938046]\n"
     ]
    }
   ],
   "source": [
    "ratios1 = [n/h for n,h in zip(naives1, heur)]\n",
    "print(ratios1)\n",
    "ratios2 = [n/h for n,h in zip(naives2, heur)]\n",
    "print(ratios2)"
   ]
  },
  {
   "cell_type": "code",
   "execution_count": 3,
   "metadata": {},
   "outputs": [],
   "source": [
    "ratios1 = [1.0013709544372396, 0.9999538747920735, 1.0, 1.0, 1.0, 1.0, 1.0, 1.0, 1.0, 1.0, 1.0, 1.0, 1.0, 1.0, 1.0, 1.0, 1.0, 0.9999999999999998, 1.0, 1.0, 1.0, 1.0, 1.0, 1.0]\n",
    "ratios2 = [1.143368296423018, 1.6542800220834006, 1.3932569696115005, 2.211552306818074, 1.6132639301016656, 2.655866221747448, 1.387366244634482, 2.2079438441156043, 1.799665878904053, 3.0309517861135915, 2.1372721908131043, 3.6746781230575336, 1.9692261129787316, 3.364621479715058, 2.680656215653445, 4.700149618703566, 3.240422418914864, 5.732729056373269, 2.6775794080955313, 4.698443255628681, 3.7125896140444774, 6.603440771715203, 4.516688848249523, 8.070721694938046]\n",
    "x = [67, 219, 134, 438, 201, 657, 133, 437, 266, 874, 399, 1311, 331, 1091, 662, 2182, 993, 3273, 661, 2181, 1322, 4362, 1983, 6543]"
   ]
  },
  {
   "cell_type": "code",
   "execution_count": 4,
   "metadata": {},
   "outputs": [
    {
     "data": {
      "image/png": "[encoded data removed]",
      "text/plain": [
       "<Figure size 432x288 with 1 Axes>"
      ]
     },
     "metadata": {
      "needs_background": "light"
     },
     "output_type": "display_data"
    }
   ],
   "source": [
    "import matplotlib.pyplot as plt\n",
    "import math\n",
    "\n",
    "fig = plt.figure()\n",
    "ax = fig.add_axes([0,0,1,1])\n",
    "\n",
    "\n",
    "#print(ub_ratio)\n",
    "#plt.scatter(obj_lb_lst[:,0], obj_lb_lst[:,1], label='lower bound', color=\"g\", linewidths=0.1)\n",
    "\n",
    "\n",
    "# plt.scatter(x, y, s=5, label='opt/lb', color='b')\n",
    "plt.scatter(x, ratios1, label='Naive1 [Number of tasks remaining on same machine]', color='k')\n",
    "plt.scatter(x, ratios2, label='Naive2 [number of descendants]', color='r')\n",
    "#plt.scatter(x, naives, label='Naives', color='g')\n",
    "plt.xlabel('Number of tasks')\n",
    "plt.ylabel('Ratios')\n",
    "plt.title(\"Cycles: Ratio of objectives of Naives to 1 iteration heuristic (Naive/Heur)\")\n",
    "plt.legend()\n",
    "plt.show()"
   ]
  },
  {
   "cell_type": "code",
   "execution_count": 8,
   "metadata": {},
   "outputs": [],
   "source": [
    "import csv\n",
    "with open(\"cycles_both_naives_heur_3_machines.csv\", 'w+') as f:\n",
    "    writer = csv.writer(f)\n",
    "    writer.writerow([\"task_size\", \"naive1\", \"heuristic\", \"upperbound\"])\n",
    "    writer.writerows(zip(x,  naives1, naives2, heur,  ubs))"
   ]
  }
 ],
 "metadata": {
  "kernelspec": {
   "display_name": "Python 3",
   "language": "python",
   "name": "python3"
  },
  "language_info": {
   "codemirror_mode": {
    "name": "ipython",
    "version": 3
   },
   "file_extension": ".py",
   "mimetype": "text/x-python",
   "name": "python",
   "nbconvert_exporter": "python",
   "pygments_lexer": "ipython3",
   "version": "3.7.6"
  }
 },
 "nbformat": 4,
 "nbformat_minor": 4
}
