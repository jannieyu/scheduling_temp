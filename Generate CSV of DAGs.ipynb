{
 "cells": [
  {
   "cell_type": "code",
   "execution_count": 1,
   "id": "guided-singing",
   "metadata": {},
   "outputs": [],
   "source": [
    "import networkx as nx\n",
    "import matplotlib.pyplot as plt\n",
    "import pandas as pd\n",
    "from itertools import product\n",
    "from copy import deepcopy\n",
    "import numpy as np\n",
    "import statsmodels.api as sm\n",
    "import random\n",
    "import pickle\n",
    "import json\n",
    "import ast\n",
    "\n",
    "from graph_util.visualization_util import make_graph_visual\n",
    "from scheduling_util.modified_etf import Mod_ETF\n",
    "from scheduling_util.consolidated_functions import opt_schedule_given_ordering\n",
    "from scheduling_util.heuristics import *\n",
    "from graph_util.random_graph_functions import random_all_fork, random_all_join\n",
    "from graph_util.erdos_renyi_dag import er_dag\n",
    "from scheduling_util.approx_pseudosizes import speed_to_psize"
   ]
  },
  {
   "cell_type": "markdown",
   "id": "sacred-tiffany",
   "metadata": {},
   "source": [
    "### Logic to create .csv of DAGs\n",
    "\n",
    "Below is simple example of code to create .csv file of DAGs and save it for future use."
   ]
  },
  {
   "cell_type": "code",
   "execution_count": 2,
   "id": "single-switzerland",
   "metadata": {},
   "outputs": [],
   "source": [
    "def create_random_graph_data(filename):\n",
    "    \n",
    "    # init parameters\n",
    "    num_dags = 2\n",
    "    num_machines = [3,10,50,100]\n",
    "    num_tasks = [60 + i*30 for i in range(7)]\n",
    "    probability = 0.3\n",
    "    input_df = pd.DataFrame(columns = [\n",
    "            \"graph_object\", \n",
    "            \"num_machines\"\n",
    "        ])\n",
    "\n",
    "\n",
    "    for n in num_tasks:\n",
    "        for m in num_machines:\n",
    "            for i in range(num_dags):\n",
    "\n",
    "                # create single DAG\n",
    "                G, _ = er_dag(n,probability) #create graph object\n",
    "                assert(nx.algorithms.dag.is_directed_acyclic_graph(G))\n",
    "\n",
    "                entry_dict = {\n",
    "                    \"graph_object\": nx.node_link_data(G), # save graph object in json form\n",
    "                    \"num_machines\": m\n",
    "                }\n",
    "                input_df = input_df.append(entry_dict, ignore_index = True)\n",
    "\n",
    "    input_df.to_csv(filename, index=False)\n"
   ]
  },
  {
   "cell_type": "code",
   "execution_count": 3,
   "id": "competent-color",
   "metadata": {},
   "outputs": [],
   "source": [
    "create_random_graph_data(\"random_machine_training_data.csv\")\n",
    "create_random_graph_data(\"random_machine_testing_data.csv\")"
   ]
  },
  {
   "cell_type": "code",
   "execution_count": null,
   "id": "classified-permit",
   "metadata": {},
   "outputs": [],
   "source": []
  },
  {
   "cell_type": "code",
   "execution_count": 4,
   "id": "pleased-usage",
   "metadata": {},
   "outputs": [
    {
     "data": {
      "text/plain": [
       "[60, 90, 120, 150, 180, 210, 240, 270, 300]"
      ]
     },
     "execution_count": 4,
     "metadata": {},
     "output_type": "execute_result"
    }
   ],
   "source": [
    "[60 + i*30 for i in range(9)]"
   ]
  },
  {
   "cell_type": "code",
   "execution_count": null,
   "id": "perfect-accuracy",
   "metadata": {},
   "outputs": [],
   "source": []
  }
 ],
 "metadata": {
  "kernelspec": {
   "display_name": "Python 3",
   "language": "python",
   "name": "python3"
  },
  "language_info": {
   "codemirror_mode": {
    "name": "ipython",
    "version": 3
   },
   "file_extension": ".py",
   "mimetype": "text/x-python",
   "name": "python",
   "nbconvert_exporter": "python",
   "pygments_lexer": "ipython3",
   "version": "3.7.9"
  }
 },
 "nbformat": 4,
 "nbformat_minor": 5
}
