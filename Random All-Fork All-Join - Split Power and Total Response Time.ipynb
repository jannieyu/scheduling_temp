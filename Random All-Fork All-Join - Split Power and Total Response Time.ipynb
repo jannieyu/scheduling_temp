{
 "cells": [
  {
   "cell_type": "code",
   "execution_count": null,
   "metadata": {},
   "outputs": [],
   "source": [
    "import networkx as nx\n",
    "import numpy as np\n",
    "import math\n",
    "import matplotlib.pyplot as plt\n",
    "from scheduling_util.consolidated_functions import relaxed_opt_schedule\n",
    "from scheduling_util.heuristics import heuristics\n",
    "from graph_util.random_graph_functions import random_all_fork, random_all_join"
   ]
  },
  {
   "cell_type": "code",
   "execution_count": null,
   "metadata": {},
   "outputs": [],
   "source": [
    "task_list = [5*i for i in range(1,50)]\n",
    "num_machines = 3"
   ]
  },
  {
   "cell_type": "code",
   "execution_count": null,
   "metadata": {},
   "outputs": [],
   "source": [
    "#all-fork\n",
    "mrt = True\n",
    "tie_breaking_rule = 2\n",
    "plot = False\n",
    "x = []\n",
    "\n",
    "fork_time_power_ratio = []\n",
    "for num_tasks in task_list:\n",
    "    counter = 0\n",
    "    while counter != 20:     \n",
    "        G = random_all_fork(num_tasks)\n",
    "        _, _, heuristic, etf = heuristics(G, num_machines, naive_version=0)\n",
    "        \n",
    "        fork_time_power_ratio.append(etf.mrt/etf.energy)    \n",
    "        x.append(num_tasks) \n",
    "        counter += 1"
   ]
  },
  {
   "cell_type": "code",
   "execution_count": null,
   "metadata": {},
   "outputs": [],
   "source": [
    "#all-join\n",
    "mrt = True\n",
    "tie_breaking_rule = 2\n",
    "plot = False\n",
    "x = []\n",
    "\n",
    "join_time_power_ratio = []\n",
    "for num_tasks in task_list:\n",
    "    counter = 0\n",
    "    while counter != 20:     \n",
    "        G = random_all_join(num_tasks)\n",
    "        _, _, heuristic, etf = heuristics(G, num_machines, naive_version=0)\n",
    "        \n",
    "        join_time_power_ratio.append(etf.mrt/etf.energy)    \n",
    "        x.append(num_tasks) \n",
    "        counter += 1"
   ]
  },
  {
   "cell_type": "code",
   "execution_count": null,
   "metadata": {},
   "outputs": [],
   "source": [
    "fig = plt.figure()\n",
    "ax = fig.add_axes([0,0,1,1])\n",
    "\n",
    "plt.scatter(x, fork_time_power_ratio, label='time/energy', color='b', alpha = 0.4)\n",
    "plt.xlabel('Number of tasks')\n",
    "plt.ylabel('time/energy cost ratio')\n",
    "plt.legend()\n",
    "plt.title(\"Plots of time/energy cost w/ Random All-Fork DAGs\")\n",
    "plt.show()"
   ]
  },
  {
   "cell_type": "code",
   "execution_count": null,
   "metadata": {
    "scrolled": false
   },
   "outputs": [],
   "source": [
    "fig = plt.figure()\n",
    "ax = fig.add_axes([0,0,1,1])\n",
    "\n",
    "plt.scatter(x, join_time_power_ratio, label='time/energy', color='b', alpha = 0.4)\n",
    "plt.xlabel('Number of tasks')\n",
    "plt.ylabel('time/energy cost ratio')\n",
    "plt.legend()\n",
    "plt.title(\"Plots of time/energy cost w/ Random All-Join DAGs\")\n",
    "plt.show()"
   ]
  },
  {
   "cell_type": "code",
   "execution_count": null,
   "metadata": {},
   "outputs": [],
   "source": []
  }
 ],
 "metadata": {
  "kernelspec": {
   "display_name": "Python 3",
   "language": "python",
   "name": "python3"
  },
  "language_info": {
   "codemirror_mode": {
    "name": "ipython",
    "version": 3
   },
   "file_extension": ".py",
   "mimetype": "text/x-python",
   "name": "python",
   "nbconvert_exporter": "python",
   "pygments_lexer": "ipython3",
   "version": "3.7.6"
  }
 },
 "nbformat": 4,
 "nbformat_minor": 4
}
