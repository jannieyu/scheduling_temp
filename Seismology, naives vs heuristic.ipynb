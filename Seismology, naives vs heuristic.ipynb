{
 "cells": [
  {
   "cell_type": "code",
   "execution_count": 4,
   "metadata": {},
   "outputs": [],
   "source": [
    "import json \n",
    "import networkx as nx\n",
    "  \n",
    "\n",
    "from conjecture.consolidated_functions import *\n",
    "from conjecture.all_valid_orderings import *\n",
    "from conjecture.optimization_functions import *\n",
    "from iterative_heuristic.modified_etf import Mod_ETF\n",
    "from iterative_heuristic.approximate_speeds import *\n",
    "from iterative_heuristic.consolidated import *\n",
    "from makespan_energy.construct_graph_util import *\n",
    "from makespan_energy.visualization_util import *\n",
    "import networkx as nx\n",
    "import numpy as np\n",
    "import math\n",
    "import plotly.express as px\n",
    "import pandas as pd "
   ]
  },
  {
   "cell_type": "code",
   "execution_count": 2,
   "metadata": {},
   "outputs": [
    {
     "name": "stdout",
     "output_type": "stream",
     "text": [
      "101\n",
      "201\n",
      "301\n",
      "401\n",
      "501\n",
      "601\n",
      "701\n",
      "801\n",
      "901\n",
      "1001\n",
      "1101\n"
     ]
    }
   ],
   "source": [
    "# Construct DAGs\n",
    "\n",
    "file_list = ['seismology-chameleon-100p-001.json',\n",
    "'seismology-chameleon-200p-001.json',\n",
    "'seismology-chameleon-300p-001.json',\n",
    "'seismology-chameleon-400p-001.json',\n",
    "'seismology-chameleon-500p-001.json',\n",
    "'seismology-chameleon-600p-001.json',\n",
    "'seismology-chameleon-700p-001.json',\n",
    "'seismology-chameleon-800p-001.json',\n",
    "'seismology-chameleon-900p-001.json',\n",
    "'seismology-chameleon-1000p-001.json',\n",
    "'seismology-chameleon-1100p-001.json']\n",
    "    \n",
    "G_list = []\n",
    "\n",
    "for file in file_list:\n",
    "    \n",
    "    # Opening JSON file \n",
    "    f = open('pegasus-traces-master/seismology/chameleon-cloud/' + file) \n",
    "\n",
    "    # returns JSON object as  \n",
    "    # a dictionary \n",
    "    data = json.load(f) \n",
    "\n",
    "    taskname_to_id = {}\n",
    "    id_count = 0\n",
    "\n",
    "    G = nx.DiGraph()\n",
    "\n",
    "    for task in data['workflow']['jobs']:\n",
    "\n",
    "        child_id = id_count\n",
    "        id_count += 1\n",
    "        taskname_to_id[task['name']] = child_id\n",
    "\n",
    "        if not G.has_node(child_id):\n",
    "                G.add_node(child_id)\n",
    "\n",
    "        for parent in task['parents']:\n",
    "            if parent in taskname_to_id:\n",
    "\n",
    "                parent_id = taskname_to_id[parent]\n",
    "\n",
    "            else:\n",
    "\n",
    "                parent_id = id_count\n",
    "                id_count += 1\n",
    "                taskname_to_id[parent] = parent_id\n",
    "\n",
    "\n",
    "            if not G.has_edge(parent_id, child_id):\n",
    "                    G.add_edge(parent_id, child_id)\n",
    "    print(len(G.nodes))\n",
    "\n",
    "    \n",
    "   \n",
    "    G_list.append(G)\n",
    "    \n",
    "    # Closing file \n",
    "    f.close() "
   ]
  },
  {
   "cell_type": "code",
   "execution_count": 5,
   "metadata": {},
   "outputs": [
    {
     "name": "stdout",
     "output_type": "stream",
     "text": [
      "798.4656927671219 1381.5653300949548\n",
      "______________________________________________________\n",
      "2218.014275249822 5117.210455103482\n",
      "______________________________________________________\n",
      "4049.777930142106 11209.642481806768\n",
      "______________________________________________________\n",
      "6215.912469276615 19660.2756237672\n",
      "______________________________________________________\n",
      "8671.003140182067 30466.98856064123\n",
      "______________________________________________________\n",
      "11384.189625366027 43630.48839921005\n",
      "______________________________________________________\n",
      "14333.047575866587 59152.18935303602\n",
      "______________________________________________________\n",
      "17500.052237179887 77029.97010177557\n",
      "______________________________________________________\n",
      "20870.97939556249 97264.53775220989\n",
      "______________________________________________________\n",
      "24434.27830720705 119857.3065179014\n",
      "______________________________________________________\n",
      "28180.071781246992 144806.15507850648\n",
      "______________________________________________________\n"
     ]
    }
   ],
   "source": [
    "mrt = True\n",
    "tie_breaking_rule = 2\n",
    "plot = False\n",
    "\n",
    "x = []\n",
    "y = []\n",
    "lbs= []\n",
    "ubs = []\n",
    "\n",
    "y_optimal = []\n",
    "y_lb = []\n",
    "bad_one = 0\n",
    "box_whiskers_data = []\n",
    "num_machines = 3\n",
    "naives1 = []\n",
    "naives2 = []\n",
    "heur = []\n",
    "for G in G_list:\n",
    "    \n",
    "    \n",
    "    ratio = []\n",
    "    num_tasks = len(G.nodes)\n",
    "    \n",
    "    w = [1 for _ in range(num_tasks)]\n",
    "    s = [1 for _ in range(num_tasks)]\n",
    "\n",
    "    naive1,naive2, true, order =iterative_and_naive_heuristic_no_ratio_reversed(num_machines, w, G, naive_version=4, verbose=False)\n",
    "    # _, _, obj_opt, _ = get_objective_single_ordering(True, G, w, order, plot=plot, compare=False)\n",
    "    # d = get_optimal_schedule(mrt, G, num_machines, w, plot, verbose=False)\n",
    "    # if solver was successful\n",
    "    # and d[\"objective_task_scaling\"] != 10000000\n",
    "    #if obj_opt != 10000000 and d[\"objective_task_scaling\"] != 10000000:\n",
    "        \n",
    "    x.append(num_tasks)\n",
    "    heur.append(true)\n",
    "    naives1.append(naive1)\n",
    "    naives2.append(naive2)\n",
    "    print(naive1, naive2)\n",
    "    # y.append(obj_opt)\n",
    "    # lbs.append(d[\"objective_task_scaling\"])\n",
    "    ub = obj_ub_precise = 2 * sum(psize_to_speed(ub_lst_graph(G, order)))\n",
    "    ubs.append(ub)\n",
    "    print(\"______________________________________________________\")\n",
    " "
   ]
  },
  {
   "cell_type": "code",
   "execution_count": 6,
   "metadata": {},
   "outputs": [
    {
     "name": "stdout",
     "output_type": "stream",
     "text": [
      "x is \n",
      " [101, 201, 301, 401, 501, 601, 701, 801, 901, 1001, 1101]\n",
      "ubs are \n",
      " [817.1300297825912, 2245.9986711085567, 4085.0769363456134, 6257.388270026915, 8717.848950617325, 11435.969947442629, 14389.366414882037, 17560.53500226631, 20935.43444089581, 24502.49032813898, 28251.805050158287]\n",
      "naives1 are \n",
      " [798.4656927671219, 2218.014275249822, 4049.777930142106, 6215.912469276615, 8671.003140182067, 11384.189625366027, 14333.047575866587, 17500.052237179887, 20870.97939556249, 24434.27830720705, 28180.071781246992]\n",
      "naives2 are \n",
      " [1381.5653300949548, 5117.210455103482, 11209.642481806768, 19660.2756237672, 30466.98856064123, 43630.48839921005, 59152.18935303602, 77029.97010177557, 97264.53775220989, 119857.3065179014, 144806.15507850648]\n",
      "heurs are \\m [798.6347236180671, 2217.8494568618926, 4049.1821503099013, 6215.998535573196, 8670.827713161454, 11383.574538597868, 14333.112808673905, 17499.872866230646, 20870.355713252164, 24434.332943043533, 28179.890198358495]\n"
     ]
    }
   ],
   "source": [
    "print(\"x is \\n\", x)\n",
    "print(\"ubs are \\n\", ubs)\n",
    "print(\"naives1 are \\n\",naives1)\n",
    "print(\"naives2 are \\n\", naives2)\n",
    "print(\"heurs are \\m\",heur)"
   ]
  },
  {
   "cell_type": "code",
   "execution_count": 7,
   "metadata": {},
   "outputs": [
    {
     "name": "stdout",
     "output_type": "stream",
     "text": [
      "[0.999788350235788, 1.0000743145065232, 1.0001471358437553, 0.9999861540674297, 1.000020231865563, 1.0000540328317853, 0.9999954488038859, 1.000010249842991, 1.000029883645439, 0.9999977639726605, 1.0000064437046141]\n",
      "[1.7299089173533906, 2.3072848516706763, 2.768371998515514, 3.1628507489592366, 3.5137347400404892, 3.832758177255638, 4.126960426714786, 4.401744554980148, 4.660415907068095, 4.905282530007631, 5.138634468027188]\n"
     ]
    }
   ],
   "source": [
    "ratios1 = [n/h for n,h in zip(naives1, heur)]\n",
    "print(ratios1)\n",
    "ratios2 = [n/h for n,h in zip(naives2, heur)]\n",
    "print(ratios2)"
   ]
  },
  {
   "cell_type": "code",
   "execution_count": 1,
   "metadata": {},
   "outputs": [],
   "source": [
    "x =[101, 201, 301, 401, 501, 601, 701, 801, 901, 1001, 1101]\n",
    "ratios1 = [0.999788350235788, 1.0000743145065232, 1.0001471358437553, 0.9999861540674297, 1.000020231865563, 1.0000540328317853, 0.9999954488038859, 1.000010249842991, 1.000029883645439, 0.9999977639726605, 1.0000064437046141]\n",
    "ratios2 = [1.7299089173533906, 2.3072848516706763, 2.768371998515514, 3.1628507489592366, 3.5137347400404892, 3.832758177255638, 4.126960426714786, 4.401744554980148, 4.660415907068095, 4.905282530007631, 5.138634468027188]\n"
   ]
  },
  {
   "cell_type": "code",
   "execution_count": 2,
   "metadata": {},
   "outputs": [
    {
     "data": {
      "image/png": "[encoded data removed]",
      "text/plain": [
       "<Figure size 432x288 with 1 Axes>"
      ]
     },
     "metadata": {
      "needs_background": "light"
     },
     "output_type": "display_data"
    }
   ],
   "source": [
    "import matplotlib.pyplot as plt\n",
    "import math\n",
    "\n",
    "fig = plt.figure()\n",
    "ax = fig.add_axes([0,0,1,1])\n",
    "\n",
    "\n",
    "#print(ub_ratio)\n",
    "#plt.scatter(obj_lb_lst[:,0], obj_lb_lst[:,1], label='lower bound', color=\"g\", linewidths=0.1)\n",
    "\n",
    "\n",
    "# plt.scatter(x, y, s=5, label='opt/lb', color='b')\n",
    "plt.scatter(x, ratios1, label='Naive1 [Number of tasks remaining on same machine]', color='k')\n",
    "plt.scatter(x, ratios2, label='Naive2 [number of descendants]', color='r')\n",
    "#plt.scatter(x, naives, label='Naives', color='g')\n",
    "plt.xlabel('Number of tasks')\n",
    "plt.ylabel('Ratios')\n",
    "plt.title(\"Seismology: Ratio of objectives of Naives to 1 iteration heuristic (Naive/Heur)\")\n",
    "plt.legend()\n",
    "plt.show()"
   ]
  },
  {
   "cell_type": "code",
   "execution_count": null,
   "metadata": {},
   "outputs": [],
   "source": [
    "import csv\n",
    "with open(\"seismology_both_naives_heur_3_machines.csv\", 'w+') as f:\n",
    "    writer = csv.writer(f)\n",
    "    writer.writerow([\"task_size\", \"naive1\", \"heuristic\", \"upperbound\"])\n",
    "    writer.writerows(zip(x,  naives1, naives2, heur,  ubs))"
   ]
  }
 ],
 "metadata": {
  "kernelspec": {
   "display_name": "Python 3",
   "language": "python",
   "name": "python3"
  },
  "language_info": {
   "codemirror_mode": {
    "name": "ipython",
    "version": 3
   },
   "file_extension": ".py",
   "mimetype": "text/x-python",
   "name": "python",
   "nbconvert_exporter": "python",
   "pygments_lexer": "ipython3",
   "version": "3.7.6"
  }
 },
 "nbformat": 4,
 "nbformat_minor": 4
}
