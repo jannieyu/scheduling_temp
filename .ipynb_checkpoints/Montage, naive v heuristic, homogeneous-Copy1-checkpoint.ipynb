{
 "cells": [
  {
   "cell_type": "code",
   "execution_count": 1,
   "metadata": {},
   "outputs": [],
   "source": [
    "import json \n",
    "import networkx as nx\n",
    "  \n",
    "\n",
    "from conjecture.consolidated_functions import *\n",
    "from conjecture.all_valid_orderings import *\n",
    "from conjecture.optimization_functions import *\n",
    "from iterative_heuristic.modified_etf import Mod_ETF\n",
    "from iterative_heuristic.consolidated import *\n",
    "from iterative_heuristic.approximate_speeds import *\n",
    "from makespan_energy.construct_graph_util import *\n",
    "from makespan_energy.visualization_util import *\n",
    "from trace_data.graph_list_from_trace import *\n",
    "import networkx as nx\n",
    "import numpy as np\n",
    "import math\n",
    "import plotly.express as px\n",
    "import pandas as pd "
   ]
  },
  {
   "cell_type": "code",
   "execution_count": 2,
   "metadata": {},
   "outputs": [
    {
     "name": "stdout",
     "output_type": "stream",
     "text": [
      "96\n",
      "156\n",
      "176\n",
      "286\n",
      "256\n",
      "416\n",
      "336\n",
      "546\n",
      "416\n",
      "676\n"
     ]
    }
   ],
   "source": [
    "# Construct DAGs\n",
    "\n",
    "file_list = ['soykb-chameleon-10fastq-10ch-001.json',\n",
    "'soykb-chameleon-10fastq-20ch-001.json',\n",
    "'soykb-chameleon-20fastq-10ch-001.json',\n",
    "'soykb-chameleon-20fastq-20ch-001.json',\n",
    "'soykb-chameleon-30fastq-10ch-001.json',\n",
    "'soykb-chameleon-30fastq-20ch-001.json',\n",
    "'soykb-chameleon-40fastq-10ch-001.json',\n",
    "'soykb-chameleon-40fastq-20ch-001.json',\n",
    "'soykb-chameleon-50fastq-10ch-001.json',\n",
    "'soykb-chameleon-50fastq-20ch-001.json']\n",
    "    \n",
    "G_list = []\n",
    "\n",
    "for file in file_list:\n",
    "    \n",
    "    # Opening JSON file \n",
    "    f = open('pegasus-traces-master/soykb/chameleon-cloud/' + file) \n",
    "\n",
    "    # returns JSON object as  \n",
    "    # a dictionary \n",
    "    data = json.load(f) \n",
    "\n",
    "    taskname_to_id = {}\n",
    "    id_count = 0\n",
    "\n",
    "    G = nx.DiGraph()\n",
    "\n",
    "    for task in data['workflow']['jobs']:\n",
    "\n",
    "        child_id = id_count\n",
    "        id_count += 1\n",
    "        taskname_to_id[task['name']] = child_id\n",
    "\n",
    "        if not G.has_node(child_id):\n",
    "                G.add_node(child_id)\n",
    "\n",
    "        for parent in task['parents']:\n",
    "            if parent in taskname_to_id:\n",
    "\n",
    "                parent_id = taskname_to_id[parent]\n",
    "\n",
    "            else:\n",
    "\n",
    "                parent_id = id_count\n",
    "                id_count += 1\n",
    "                taskname_to_id[parent] = parent_id\n",
    "\n",
    "\n",
    "            if not G.has_edge(parent_id, child_id):\n",
    "                    G.add_edge(parent_id, child_id)\n",
    "    print(len(G.nodes))\n",
    "\n",
    "    \n",
    "   \n",
    "    G_list.append(G)\n",
    "    \n",
    "    # Closing file \n",
    "    f.close() "
   ]
  },
  {
   "cell_type": "code",
   "execution_count": 3,
   "metadata": {},
   "outputs": [
    {
     "data": {
      "text/plain": [
       "<networkx.classes.digraph.DiGraph at 0x1a23485990>"
      ]
     },
     "execution_count": 3,
     "metadata": {},
     "output_type": "execute_result"
    }
   ],
   "source": [
    "G_list[0]"
   ]
  },
  {
   "cell_type": "code",
   "execution_count": null,
   "metadata": {},
   "outputs": [
    {
     "name": "stdout",
     "output_type": "stream",
     "text": [
      "[[0, 1, 2, 3, 4, 5, 6, 81, 91, 92, 93], [16, 17, 18, 19, 7, 82, 94, 95], [32, 33, 34, 35, 8, 83], [48, 49, 50, 51, 9, 84], [64, 65, 66, 67, 10, 85], [11, 86], [12, 87], [13, 88], [14, 89], [15, 90], [20, 21, 22, 80], [23], [24], [25], [26], [27], [28], [29], [30], [31], [36, 37, 38], [39], [40], [41], [42], [43], [44], [45], [46], [47], [52, 53, 54], [55], [56], [57], [58], [59], [60], [61], [62], [63], [68, 69, 70], [71], [72], [73], [74], [75], [76], [77], [78], [79]]\n",
      "[19.200000000000003, 18.200000000000003, 17.200000000000003, 16.200000000000003, 15.200000000000001, 14.200000000000001, 1.32, 1.32, 1.32, 1.32, 1.32, 1.32, 1.32, 1.32, 1.32, 1.32, 19.200000000000003, 18.200000000000003, 17.200000000000003, 16.200000000000003, 15.200000000000001, 14.200000000000001, 1.32, 1.32, 1.32, 1.32, 1.32, 1.32, 1.32, 1.32, 1.32, 1.32, 19.200000000000003, 18.200000000000003, 17.200000000000003, 16.200000000000003, 15.200000000000001, 14.200000000000001, 1.32, 1.32, 1.32, 1.32, 1.32, 1.32, 1.32, 1.32, 1.32, 1.32, 19.200000000000003, 18.200000000000003, 17.200000000000003, 16.200000000000003, 15.200000000000001, 14.200000000000001, 1.32, 1.32, 1.32, 1.32, 1.32, 1.32, 1.32, 1.32, 1.32, 1.32, 19.200000000000003, 18.200000000000003, 17.200000000000003, 16.200000000000003, 15.200000000000001, 14.200000000000001, 1.32, 1.32, 1.32, 1.32, 1.32, 1.32, 1.32, 1.32, 1.32, 1.32, 1, 1.5, 1.5, 1.5, 1.5, 1.5, 1.5, 1.5, 1.5, 1.5, 1.5, 5, 2, 1, 2, 1]\n",
      "-\n",
      "apm 104.5.118.159_gk_model1 <br><pre> ----------------------------------------------------------------\n",
      " APMonitor, Version 1.0.0\n",
      " APMonitor Optimization Suite\n",
      " ----------------------------------------------------------------\n",
      " \n"
     ]
    }
   ],
   "source": [
    "mrt = True\n",
    "tie_breaking_rule = 2\n",
    "plot = False\n",
    "num = 5\n",
    "x = []\n",
    "y = []\n",
    "lbs= []\n",
    "ubs = []\n",
    " \n",
    "num_machines = 50\n",
    "naives = []\n",
    "heur = []\n",
    "for G in G_list[:num]:\n",
    "    \n",
    "    ratio = []\n",
    "    num_tasks = len(G.nodes)\n",
    "    \n",
    "    w = [1 for _ in range(num_tasks)]\n",
    "    s = [1 for _ in range(num_tasks)]\n",
    "\n",
    "    naive, true, order =iterative_and_naive_heuristic_no_ratio(num_machines, w, G, verbose=False)\n",
    "    _, _, obj_opt, _ = get_objective_single_ordering(True, G, w, order, plot=plot, compare=False)\n",
    "    d = get_optimal_schedule(mrt, G, num_machines, w, plot, verbose=False)\n",
    "    # if solver was successful\n",
    "    # and d[\"objective_task_scaling\"] != 10000000\n",
    "    #if obj_opt != 10000000 and d[\"objective_task_scaling\"] != 10000000:\n",
    "        \n",
    "    x.append(num_tasks)\n",
    "    heur.append(true)\n",
    "    naives.append(naive)\n",
    "    y.append(obj_opt)\n",
    "    lbs.append(d[\"objective_task_scaling\"])\n",
    "    ub = obj_ub_precise = 2 * sum(psize_to_speed(ub_lst_graph(G, order)))\n",
    "    ubs.append(ub)\n",
    " "
   ]
  },
  {
   "cell_type": "code",
   "execution_count": null,
   "metadata": {},
   "outputs": [],
   "source": [
    "print(\"x is \\n\", x)\n",
    "print(\"y is \\n\", y)\n",
    "print(\"lbs are \\n\",lbs)\n",
    "print(\"ubs are \\n\", ubs)\n",
    "print(\"naives are \\n\",naives)\n",
    "print(\"heurs are \\m\",heur)"
   ]
  },
  {
   "cell_type": "code",
   "execution_count": null,
   "metadata": {},
   "outputs": [],
   "source": [
    "print(len(y))\n",
    "print(len(x))"
   ]
  },
  {
   "cell_type": "code",
   "execution_count": null,
   "metadata": {},
   "outputs": [],
   "source": [
    "# naives = [572.8281617409056, 1331.3128540244006, 2051.988186148974, 4908.957570715966, 4427.097315671543, 10722.551392522024, 7706.784325022744, 18780.723094156718, 11887.994968277473, 29080.41842969494, 16967.104097800042, 41618.012251501, 22950.791107151243, 56400.18395313568, 29836.001750405976, 73423.87928867387, 37619.11087992854, 92685.47311048009, 46306.79788927975, 114191.64481211497, 55896.00853253448, 137939.34014765336]\n",
    "# heurs = [351.14748449053826, 698.6688417479015, 1181.833119651485, 2392.931559303018, 2515.1051913091133, 5128.200522698374, 4320.182955770601, 8876.07384841392, 6602.766119158128, 13562.092685406415, 9411.33279943706, 19356.644767630198, 12670.852536835615, 26103.094518568214, 16404.64052815484, 33831.316526414616, 20688.501817054886, 42685.15172746671, 25668.437288627654, 52905.78716201741, 30587.45634664135, 63200.60308232752]\n",
    "# y = [300.05921, 586.18851, 10000000, 1637.77108, 1520.32995, 10000000, 2333.07674, 10000000, 3254.04157, 6424.66253, 4271.75539, 10000000, 5377.87606, 10000000, 6565.71298, 12977.19203, 7829.99982, 10000000, 9169.60916, 10000000, 10571.28621, 20904.74224]\n",
    "ratios1 = [n/h for n,h in zip(naives, heur)]\n",
    "print(ratios1)\n",
    "ratios2 = [h/true for h, true in zip(heur, y)]\n",
    "print(ratios2)\n",
    "ratios3 = [n/true for n, true in zip(naives, y)]\n",
    "print(ratios3)"
   ]
  },
  {
   "cell_type": "code",
   "execution_count": null,
   "metadata": {},
   "outputs": [],
   "source": [
    "x = [52, 82, 104, 164, 156, 246, 208, 328, 260, 410, 312, 492, 364, 574, 416, 656, 468, 738, 520, 820, 572, 902]\n"
   ]
  },
  {
   "cell_type": "code",
   "execution_count": null,
   "metadata": {},
   "outputs": [],
   "source": [
    "import matplotlib.pyplot as plt\n",
    "import math\n",
    "\n",
    "fig = plt.figure()\n",
    "ax = fig.add_axes([0,0,1,1])\n",
    "\n",
    "\n",
    "#print(ub_ratio)\n",
    "#plt.scatter(obj_lb_lst[:,0], obj_lb_lst[:,1], label='lower bound', color=\"g\", linewidths=0.1)\n",
    "\n",
    "\n",
    "# plt.scatter(x, y, s=5, label='opt/lb', color='b')\n",
    "plt.scatter(x[:num], ratios1, label='Naive/Heur', color='k')\n",
    "plt.scatter(x[:num], ratios2, label='Heur/Optimal', color='r')\n",
    "plt.scatter(x[:num], ratios3, label='Naive/Optimal', color='b')\n",
    "#plt.scatter(x, naives, label='Naives', color='g')\n",
    "plt.xlabel('Number of tasks')\n",
    "plt.ylabel('Ratios')\n",
    "plt.legend()\n",
    "plt.show()"
   ]
  },
  {
   "cell_type": "code",
   "execution_count": null,
   "metadata": {},
   "outputs": [],
   "source": [
    "import csv\n",
    "with open(\"1000genome_naive_heur_3_machines.csv\", 'w+') as f:\n",
    "    writer = csv.writer(f)\n",
    "    writer.writerow([\"task_size\", \"optimal\", \"naive\", \"heuristic\", \"lowerbound\", \"upperbound\"])\n",
    "    writer.writerows(zip(x, y, naives, heurs, lbs, ubs))"
   ]
  }
 ],
 "metadata": {
  "kernelspec": {
   "display_name": "Python 3",
   "language": "python",
   "name": "python3"
  },
  "language_info": {
   "codemirror_mode": {
    "name": "ipython",
    "version": 3
   },
   "file_extension": ".py",
   "mimetype": "text/x-python",
   "name": "python",
   "nbconvert_exporter": "python",
   "pygments_lexer": "ipython3",
   "version": "3.7.6"
  }
 },
 "nbformat": 4,
 "nbformat_minor": 4
}
