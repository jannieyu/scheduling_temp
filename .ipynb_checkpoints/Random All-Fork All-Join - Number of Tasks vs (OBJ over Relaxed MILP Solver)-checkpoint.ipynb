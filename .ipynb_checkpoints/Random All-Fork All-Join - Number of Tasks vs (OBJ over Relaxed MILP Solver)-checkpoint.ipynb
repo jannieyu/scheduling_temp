{
 "cells": [
  {
   "cell_type": "code",
   "execution_count": null,
   "metadata": {},
   "outputs": [],
   "source": [
    "import networkx as nx\n",
    "import numpy as np\n",
    "import math\n",
    "import matplotlib.pyplot as plt\n",
    "from scheduling_util.consolidated_functions import relaxed_opt_schedule\n",
    "from scheduling_util.heuristics import heuristics\n",
    "from graph_util.random_graph_functions import random_all_fork, random_all_join"
   ]
  },
  {
   "cell_type": "code",
   "execution_count": null,
   "metadata": {},
   "outputs": [],
   "source": [
    "task_list = [5*i for i in range(1,50)]\n",
    "num_machines = 3"
   ]
  },
  {
   "cell_type": "code",
   "execution_count": null,
   "metadata": {},
   "outputs": [],
   "source": [
    "#all-fork\n",
    "mrt = True\n",
    "tie_breaking_rule = 2\n",
    "plot = False\n",
    "num = 5\n",
    "x = []\n",
    "fork_naive_1_ratio = []\n",
    "fork_naive_2_ratio = []\n",
    "fork_heuristic_ratio = []\n",
    "for num_tasks in task_list:\n",
    "    counter = 0\n",
    "    while counter != 20:     \n",
    "        G = random_all_fork(num_tasks)\n",
    "        naive1, naive2, heuristic, _ = heuristics(G, num_machines, naive_version=3)\n",
    "        \n",
    "        w = [1 for _ in range(num_tasks)]\n",
    "        _, _, relaxed_opt, _ = relaxed_opt_schedule(mrt, G, num_machines, w, plot, verbose=False)\n",
    "        \n",
    "        x.append(num_tasks)\n",
    "        \n",
    "        fork_naive_1_ratio.append(naive1/relaxed_opt)\n",
    "        fork_naive_2_ratio.append(naive2/relaxed_opt)\n",
    "        fork_heuristic_ratio.append(heuristic/relaxed_opt)\n",
    "        counter += 1"
   ]
  },
  {
   "cell_type": "code",
   "execution_count": null,
   "metadata": {},
   "outputs": [],
   "source": [
    "#all-join\n",
    "mrt = True\n",
    "tie_breaking_rule = 2\n",
    "plot = False\n",
    "num = 5\n",
    "x = []\n",
    "join_naive_1_ratio = []\n",
    "join_naive_2_ratio = []\n",
    "join_heuristic_ratio = []\n",
    "for num_tasks in task_list:\n",
    "    counter = 0\n",
    "    while counter != 20:     \n",
    "        G = random_all_join(num_tasks)\n",
    "        naive1, naive2, heuristic, _ = heuristics(G, num_machines, naive_version=3)\n",
    "        \n",
    "        w = [1 for _ in range(num_tasks)]\n",
    "        _, _, relaxed_opt, _ = relaxed_opt_schedule(mrt, G, num_machines, w, plot, verbose=False)\n",
    "        \n",
    "        x.append(num_tasks)\n",
    "        \n",
    "        join_naive_1_ratio.append(naive1/relaxed_opt)\n",
    "        join_naive_2_ratio.append(naive2/relaxed_opt)\n",
    "        join_heuristic_ratio.append(heuristic/relaxed_opt)\n",
    "        counter += 1"
   ]
  },
  {
   "cell_type": "code",
   "execution_count": null,
   "metadata": {},
   "outputs": [],
   "source": [
    "fig = plt.figure()\n",
    "ax = fig.add_axes([0,0,1,1])\n",
    "\n",
    "plt.scatter(x, fork_naive_1_ratio, label='naive1/relaxed OPT', color='b', alpha = 0.5)\n",
    "plt.scatter(x, fork_naive_2_ratio, label='naive2/relaxed OPT', color='r', alpha = 0.5)\n",
    "plt.scatter(x, fork_heuristic_ratio, label='heuristic/relaxed OPT', color='g', alpha = 0.5)\n",
    "plt.xlabel('Number of tasks')\n",
    "plt.ylabel('Ratio')\n",
    "plt.legend()\n",
    "plt.title(\"Plots of naive methods / heuristic obj. function value w/ Random All-Fork DAGs\")\n",
    "plt.show()"
   ]
  },
  {
   "cell_type": "code",
   "execution_count": null,
   "metadata": {
    "scrolled": false
   },
   "outputs": [],
   "source": [
    "fig = plt.figure()\n",
    "ax = fig.add_axes([0,0,1,1])\n",
    "\n",
    "plt.scatter(x, join_naive_1_ratio, label='naive1/relaxed OPT', color='b', alpha = 0.5)\n",
    "plt.scatter(x, join_naive_2_ratio, label='naive2/relaxed OPT', color='r', alpha = 0.5)\n",
    "plt.scatter(x, join_heuristic_ratio, label='heuristic/relaxed OPT', color='g', alpha = 0.5)\n",
    "plt.xlabel('Number of tasks')\n",
    "plt.ylabel('Ratio')\n",
    "plt.legend()\n",
    "plt.title(\"Plots of naive methods / heuristic obj. function value w/ Random All-join DAGs\")\n",
    "plt.show()"
   ]
  },
  {
   "cell_type": "code",
   "execution_count": null,
   "metadata": {},
   "outputs": [],
   "source": []
  }
 ],
 "metadata": {
  "kernelspec": {
   "display_name": "Python 3",
   "language": "python",
   "name": "python3"
  },
  "language_info": {
   "codemirror_mode": {
    "name": "ipython",
    "version": 3
   },
   "file_extension": ".py",
   "mimetype": "text/x-python",
   "name": "python",
   "nbconvert_exporter": "python",
   "pygments_lexer": "ipython3",
   "version": "3.7.6"
  }
 },
 "nbformat": 4,
 "nbformat_minor": 4
}
