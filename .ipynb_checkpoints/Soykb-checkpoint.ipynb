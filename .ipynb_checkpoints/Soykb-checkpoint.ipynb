{
 "cells": [
  {
   "cell_type": "code",
   "execution_count": 1,
   "metadata": {},
   "outputs": [],
   "source": [
    "import json \n",
    "import networkx as nx\n",
    "  \n",
    "\n",
    "from conjecture.consolidated_functions import *\n",
    "from conjecture.all_valid_orderings import *\n",
    "from conjecture.optimization_functions import *\n",
    "from iterative_heuristic.modified_etf import Mod_ETF\n",
    "from iterative_heuristic.approximate_speeds import *\n",
    "from makespan_energy.construct_graph_util import *\n",
    "from makespan_energy.visualization_util import *\n",
    "import networkx as nx\n",
    "import numpy as np\n",
    "import math\n",
    "import plotly.express as px\n",
    "import pandas as pd "
   ]
  },
  {
   "cell_type": "code",
   "execution_count": 2,
   "metadata": {},
   "outputs": [
    {
     "name": "stdout",
     "output_type": "stream",
     "text": [
      "96\n",
      "156\n",
      "176\n",
      "286\n",
      "256\n",
      "416\n",
      "336\n",
      "546\n",
      "416\n",
      "676\n"
     ]
    }
   ],
   "source": [
    "# Construct DAGs\n",
    "\n",
    "file_list = ['soykb-chameleon-10fastq-10ch-001.json',\n",
    "'soykb-chameleon-10fastq-20ch-001.json',\n",
    "'soykb-chameleon-20fastq-10ch-001.json',\n",
    "'soykb-chameleon-20fastq-20ch-001.json',\n",
    "'soykb-chameleon-30fastq-10ch-001.json',\n",
    "'soykb-chameleon-30fastq-20ch-001.json',\n",
    "'soykb-chameleon-40fastq-10ch-001.json',\n",
    "'soykb-chameleon-40fastq-20ch-001.json',\n",
    "'soykb-chameleon-50fastq-10ch-001.json',\n",
    "'soykb-chameleon-50fastq-20ch-001.json']\n",
    "    \n",
    "G_list = []\n",
    "\n",
    "for file in file_list:\n",
    "    \n",
    "    # Opening JSON file \n",
    "    f = open('pegasus-traces-master/soykb/chameleon-cloud/' + file) \n",
    "\n",
    "    # returns JSON object as  \n",
    "    # a dictionary \n",
    "    data = json.load(f) \n",
    "\n",
    "    taskname_to_id = {}\n",
    "    id_count = 0\n",
    "\n",
    "    G = nx.DiGraph()\n",
    "\n",
    "    for task in data['workflow']['jobs']:\n",
    "\n",
    "        child_id = id_count\n",
    "        id_count += 1\n",
    "        taskname_to_id[task['name']] = child_id\n",
    "\n",
    "        if not G.has_node(child_id):\n",
    "                G.add_node(child_id)\n",
    "\n",
    "        for parent in task['parents']:\n",
    "            if parent in taskname_to_id:\n",
    "\n",
    "                parent_id = taskname_to_id[parent]\n",
    "\n",
    "            else:\n",
    "\n",
    "                parent_id = id_count\n",
    "                id_count += 1\n",
    "                taskname_to_id[parent] = parent_id\n",
    "\n",
    "\n",
    "            if not G.has_edge(parent_id, child_id):\n",
    "                    G.add_edge(parent_id, child_id)\n",
    "    print(len(G.nodes))\n",
    "\n",
    "    \n",
    "   \n",
    "    G_list.append(G)\n",
    "    \n",
    "    # Closing file \n",
    "    f.close() "
   ]
  },
  {
   "cell_type": "code",
   "execution_count": 3,
   "metadata": {},
   "outputs": [
    {
     "data": {
      "text/plain": [
       "<networkx.classes.digraph.DiGraph at 0xa219bc2d0>"
      ]
     },
     "execution_count": 3,
     "metadata": {},
     "output_type": "execute_result"
    }
   ],
   "source": [
    "G_list[0]"
   ]
  },
  {
   "cell_type": "code",
   "execution_count": null,
   "metadata": {},
   "outputs": [],
   "source": [
    "mrt = True\n",
    "tie_breaking_rule = 2\n",
    "plot = False\n",
    "\n",
    "x = []\n",
    "y = []\n",
    "y_optimal = []\n",
    "y_lb = []\n",
    "bad_one = 0\n",
    "box_whiskers_data = []\n",
    "num_machines = 3\n",
    "\n",
    "for G in G_list:\n",
    "    \n",
    "    \n",
    "    ratio = []\n",
    "    num_tasks = len(G.nodes)\n",
    "    \n",
    "    w = [1 for _ in range(num_tasks)]\n",
    "    s = [1 for _ in range(num_tasks)]\n",
    "\n",
    "    #d = get_optimal_schedule(mrt, G, num_machines, w, plot, verbose=False)\n",
    "\n",
    "    test = Mod_ETF(G, w, s, num_machines, tie_breaking_rule, plot=False)\n",
    "\n",
    "    # Initialize objective function value\n",
    "    heuristic_opt = test.obj_value\n",
    "\n",
    "    # Get pseudosize, convert to speed\n",
    "    psize, group_interval = approx_psize_homogeneous(G, test.order, test.h, test.t, verbose=False)\n",
    "    s_prime = psize_to_speed(psize)\n",
    "\n",
    "    # Get ordering using modified ETF\n",
    "    test2 = Mod_ETF(G, w, s_prime, num_machines, tie_breaking_rule, plot=False)\n",
    "\n",
    "    # Check if the objective function value has improved\n",
    "    if heuristic_opt > test2.obj_value:\n",
    "        heuristic_opt = test2.obj_value\n",
    "        s = s_prime\n",
    "\n",
    "    _, _, obj_opt, _ = get_objective_single_ordering(True, G, w, test2.order, plot=plot, compare=False)\n",
    "\n",
    "    # if solver was successful\n",
    "    # and d[\"objective_task_scaling\"] != 10000000\n",
    "    if obj_opt != 10000000:\n",
    "        \n",
    "        x.append(num_tasks)\n",
    "        y.append(heuristic_opt/obj_opt)\n",
    "        \n",
    "#         if d[\"objective_task_scaling\"] > obj_opt:\n",
    "#             bad_one += 1\n",
    "#         counter += 1\n",
    "\n",
    "#         box_whiskers_data.append([num_tasks, obj_opt/d[\"objective_task_scaling\"]])\n",
    "            \n",
    "   "
   ]
  },
  {
   "cell_type": "code",
   "execution_count": null,
   "metadata": {},
   "outputs": [],
   "source": [
    "import matplotlib.pyplot as plt\n",
    "import math\n",
    "\n",
    "fig = plt.figure()\n",
    "ax = fig.add_axes([0,0,1,1])\n",
    "\n",
    "\n",
    "\n",
    "#plt.scatter(obj_lb_lst[:,0], obj_lb_lst[:,1], label='lower bound', color=\"g\", linewidths=0.1)\n",
    "\n",
    "\n",
    "plt.scatter(x, y, s=5, label='Heuristic OBJ / Optimal OBJ', color='b')\n",
    "\n",
    "plt.xlabel('Number of tasks')\n",
    "plt.ylabel('Heuristic OBJ / Optimal OBJ')\n",
    "plt.title('Soykb data')\n",
    "plt.legend()\n",
    "plt.show()"
   ]
  },
  {
   "cell_type": "code",
   "execution_count": null,
   "metadata": {},
   "outputs": [],
   "source": [
    "G_list[0]"
   ]
  }
 ],
 "metadata": {
  "kernelspec": {
   "display_name": "Python 3",
   "language": "python",
   "name": "python3"
  },
  "language_info": {
   "codemirror_mode": {
    "name": "ipython",
    "version": 3
   },
   "file_extension": ".py",
   "mimetype": "text/x-python",
   "name": "python",
   "nbconvert_exporter": "python",
   "pygments_lexer": "ipython3",
   "version": "3.7.6"
  }
 },
 "nbformat": 4,
 "nbformat_minor": 4
}
