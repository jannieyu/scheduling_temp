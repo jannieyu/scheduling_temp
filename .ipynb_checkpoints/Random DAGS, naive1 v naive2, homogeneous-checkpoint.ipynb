{
 "cells": [
  {
   "cell_type": "code",
   "execution_count": 1,
   "metadata": {},
   "outputs": [],
   "source": [
    "import json \n",
    "import networkx as nx\n",
    "  \n",
    "\n",
    "from conjecture.consolidated_functions import *\n",
    "from conjecture.all_valid_orderings import *\n",
    "from conjecture.optimization_functions import *\n",
    "from iterative_heuristic.modified_etf import Mod_ETF\n",
    "from iterative_heuristic.consolidated import *\n",
    "from iterative_heuristic.approximate_speeds import *\n",
    "from makespan_energy.construct_graph_util import *\n",
    "from makespan_energy.visualization_util import *\n",
    "from trace_data.graph_list_from_trace import *\n",
    "import networkx as nx\n",
    "import numpy as np\n",
    "import math\n",
    "import plotly.express as px\n",
    "import pandas as pd "
   ]
  },
  {
   "cell_type": "code",
   "execution_count": 2,
   "metadata": {},
   "outputs": [],
   "source": [
    "# # Construct DAGs\n",
    "\n",
    "# file_list = ['soykb-chameleon-10fastq-10ch-001.json',\n",
    "# 'soykb-chameleon-10fastq-20ch-001.json',\n",
    "# 'soykb-chameleon-20fastq-10ch-001.json',\n",
    "# 'soykb-chameleon-20fastq-20ch-001.json',\n",
    "# 'soykb-chameleon-30fastq-10ch-001.json',\n",
    "# 'soykb-chameleon-30fastq-20ch-001.json',\n",
    "# 'soykb-chameleon-40fastq-10ch-001.json',\n",
    "# 'soykb-chameleon-40fastq-20ch-001.json',\n",
    "# 'soykb-chameleon-50fastq-10ch-001.json',\n",
    "# 'soykb-chameleon-50fastq-20ch-001.json']\n",
    "    \n",
    "# G_list = []\n",
    "\n",
    "# for file in file_list:\n",
    "    \n",
    "#     # Opening JSON file \n",
    "#     f = open('pegasus-traces-master/soykb/chameleon-cloud/' + file) \n",
    "\n",
    "#     # returns JSON object as  \n",
    "#     # a dictionary \n",
    "#     data = json.load(f) \n",
    "\n",
    "#     taskname_to_id = {}\n",
    "#     id_count = 0\n",
    "\n",
    "#     G = nx.DiGraph()\n",
    "\n",
    "#     for task in data['workflow']['jobs']:\n",
    "\n",
    "#         child_id = id_count\n",
    "#         id_count += 1\n",
    "#         taskname_to_id[task['name']] = child_id\n",
    "\n",
    "#         if not G.has_node(child_id):\n",
    "#                 G.add_node(child_id)\n",
    "\n",
    "#         for parent in task['parents']:\n",
    "#             if parent in taskname_to_id:\n",
    "\n",
    "#                 parent_id = taskname_to_id[parent]\n",
    "\n",
    "#             else:\n",
    "\n",
    "#                 parent_id = id_count\n",
    "#                 id_count += 1\n",
    "#                 taskname_to_id[parent] = parent_id\n",
    "\n",
    "\n",
    "#             if not G.has_edge(parent_id, child_id):\n",
    "#                     G.add_edge(parent_id, child_id)\n",
    "#     print(len(G.nodes))\n",
    "\n",
    "    \n",
    "   \n",
    "#     G_list.append(G)\n",
    "    \n",
    "#     # Closing file \n",
    "#     f.close() "
   ]
  },
  {
   "cell_type": "code",
   "execution_count": 3,
   "metadata": {},
   "outputs": [],
   "source": [
    "# G_list[0]"
   ]
  },
  {
   "cell_type": "code",
   "execution_count": 4,
   "metadata": {},
   "outputs": [
    {
     "name": "stdout",
     "output_type": "stream",
     "text": [
      "[1.0, 2.0, 1.0, 1.0, 1.7320508075688772, 1.0, 1.0, 1.0, 1.0, 1.0]\n"
     ]
    },
    {
     "ename": "NameError",
     "evalue": "name 'obj_opt' is not defined",
     "output_type": "error",
     "traceback": [
      "\u001b[0;31m---------------------------------------------------------------------------\u001b[0m",
      "\u001b[0;31mNameError\u001b[0m                                 Traceback (most recent call last)",
      "\u001b[0;32m<ipython-input-4-0f614f8ca455>\u001b[0m in \u001b[0;36m<module>\u001b[0;34m\u001b[0m\n\u001b[1;32m     29\u001b[0m \u001b[0;34m\u001b[0m\u001b[0m\n\u001b[1;32m     30\u001b[0m         \u001b[0;31m# Record data only if solver was successful\u001b[0m\u001b[0;34m\u001b[0m\u001b[0;34m\u001b[0m\u001b[0;34m\u001b[0m\u001b[0m\n\u001b[0;32m---> 31\u001b[0;31m         \u001b[0;32mif\u001b[0m \u001b[0mobj_opt\u001b[0m \u001b[0;34m!=\u001b[0m \u001b[0;36m10000000\u001b[0m\u001b[0;34m:\u001b[0m\u001b[0;34m\u001b[0m\u001b[0;34m\u001b[0m\u001b[0m\n\u001b[0m\u001b[1;32m     32\u001b[0m \u001b[0;34m\u001b[0m\u001b[0m\n\u001b[1;32m     33\u001b[0m             \u001b[0mx\u001b[0m\u001b[0;34m.\u001b[0m\u001b[0mappend\u001b[0m\u001b[0;34m(\u001b[0m\u001b[0mnum_tasks\u001b[0m\u001b[0;34m)\u001b[0m\u001b[0;34m\u001b[0m\u001b[0;34m\u001b[0m\u001b[0m\n",
      "\u001b[0;31mNameError\u001b[0m: name 'obj_opt' is not defined"
     ]
    }
   ],
   "source": [
    "mrt = True\n",
    "tie_breaking_rule = 2\n",
    "plot = False\n",
    "num = 5\n",
    "x = []\n",
    "y = []\n",
    "lbs= []\n",
    "ubs = []\n",
    " \n",
    "naives = []\n",
    "heur = []\n",
    "ratio = []\n",
    "for num_tasks in [10, 50, 100, 150]:\n",
    "    counter = 0\n",
    "    while counter != 10:\n",
    "        \n",
    "        seed=random.randint(0, 100000)\n",
    "        edges = random.randint(2, num_tasks-1)\n",
    "        num_machines = random.randint(2, num_tasks-1)\n",
    "        G = random_dag(num_tasks, edges, seed=seed)\n",
    "    \n",
    "    \n",
    "        w = [1 for _ in range(num_tasks)]\n",
    "        s = [1 for _ in range(num_tasks)]\n",
    "\n",
    "        naive1, naive2, order = compare_naive_versions(num_machines, w, G, verbose=False)\n",
    "#         _, _, obj_opt, _ = get_objective_single_ordering(True, G, w, order, plot=plot, compare=False)\n",
    "#         d = get_optimal_schedule(mrt, G, num_machines, w, plot, verbose=False)\n",
    "        \n",
    "        # Record data only if solver was successful\n",
    "#         if obj_opt != 10000000:\n",
    "\n",
    "        x.append(num_tasks)\n",
    "        ratio.append(naive1/naive2)\n",
    "#             heur.append(true)\n",
    "#             naives.append(naive)\n",
    "#             y.append(obj_opt)\n",
    "#             lbs.append(d[\"objective_task_scaling\"])\n",
    "#             ub = obj_ub_precise = 2 * sum(psize_to_speed(ub_lst_graph(G, order)))\n",
    "#             ubs.append(ub)\n",
    "        counter += 1\n",
    "\n",
    "        \n"
   ]
  },
  {
   "cell_type": "code",
   "execution_count": null,
   "metadata": {},
   "outputs": [],
   "source": [
    "# naives = [572.8281617409056, 1331.3128540244006, 2051.988186148974, 4908.957570715966, 4427.097315671543, 10722.551392522024, 7706.784325022744, 18780.723094156718, 11887.994968277473, 29080.41842969494, 16967.104097800042, 41618.012251501, 22950.791107151243, 56400.18395313568, 29836.001750405976, 73423.87928867387, 37619.11087992854, 92685.47311048009, 46306.79788927975, 114191.64481211497, 55896.00853253448, 137939.34014765336]\n",
    "# heurs = [351.14748449053826, 698.6688417479015, 1181.833119651485, 2392.931559303018, 2515.1051913091133, 5128.200522698374, 4320.182955770601, 8876.07384841392, 6602.766119158128, 13562.092685406415, 9411.33279943706, 19356.644767630198, 12670.852536835615, 26103.094518568214, 16404.64052815484, 33831.316526414616, 20688.501817054886, 42685.15172746671, 25668.437288627654, 52905.78716201741, 30587.45634664135, 63200.60308232752]\n",
    "# y = [300.05921, 586.18851, 10000000, 1637.77108, 1520.32995, 10000000, 2333.07674, 10000000, 3254.04157, 6424.66253, 4271.75539, 10000000, 5377.87606, 10000000, 6565.71298, 12977.19203, 7829.99982, 10000000, 9169.60916, 10000000, 10571.28621, 20904.74224]\n",
    "# print(x)\n",
    "# print(heur)\n",
    "# print(naives)\n",
    "# ratios1 = [n/h for n,h in zip(naives, heur)]\n",
    "# print(ratios1)\n",
    "# ratios2 = [h/true for h, true in zip(heur, y)]\n",
    "# print(ratios2)\n",
    "# ratios3 = [n/true for n, true in zip(naives, y)]\n",
    "# print(ratios3)"
   ]
  },
  {
   "cell_type": "code",
   "execution_count": null,
   "metadata": {},
   "outputs": [],
   "source": [
    "import matplotlib.pyplot as plt\n",
    "import math\n",
    "\n",
    "fig = plt.figure()\n",
    "ax = fig.add_axes([0,0,1,1])\n",
    " \n",
    "\n",
    "# plt.scatter(x, y, s=5, label='opt/lb', color='b')\n",
    "plt.scatter(x, ratio, label='Naive1 cost/Naive2 cost', color='k', alpha = 0.5)\n",
    "# plt.scatter(x, ratios2, label='Heur/Optimal', color='r', alpha = 0.5)\n",
    "# plt.scatter(x, ratios3, label='Naive/Optimal', color='b', alpha = 0.5)\n",
    "#plt.scatter(x, naives, label='Naives', color='g')\n",
    "plt.xlabel('Number of tasks')\n",
    "plt.ylabel('Ratio')\n",
    "plt.legend()\n",
    "plt.show()"
   ]
  },
  {
   "cell_type": "code",
   "execution_count": null,
   "metadata": {},
   "outputs": [],
   "source": []
  }
 ],
 "metadata": {
  "kernelspec": {
   "display_name": "Python 3",
   "language": "python",
   "name": "python3"
  },
  "language_info": {
   "codemirror_mode": {
    "name": "ipython",
    "version": 3
   },
   "file_extension": ".py",
   "mimetype": "text/x-python",
   "name": "python",
   "nbconvert_exporter": "python",
   "pygments_lexer": "ipython3",
   "version": "3.7.6"
  }
 },
 "nbformat": 4,
 "nbformat_minor": 4
}
