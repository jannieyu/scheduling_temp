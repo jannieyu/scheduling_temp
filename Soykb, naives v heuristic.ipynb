{
 "cells": [
  {
   "cell_type": "code",
   "execution_count": 1,
   "metadata": {},
   "outputs": [],
   "source": [
    "import json \n",
    "import networkx as nx\n",
    "  \n",
    "\n",
    "from conjecture.consolidated_functions import *\n",
    "from conjecture.all_valid_orderings import *\n",
    "from conjecture.optimization_functions import *\n",
    "from iterative_heuristic.modified_etf import Mod_ETF\n",
    "from iterative_heuristic.consolidated import *\n",
    "from iterative_heuristic.approximate_speeds import *\n",
    "from makespan_energy.construct_graph_util import *\n",
    "from makespan_energy.visualization_util import *\n",
    "from trace_data.graph_list_from_trace import *\n",
    "import networkx as nx\n",
    "import numpy as np\n",
    "import math\n",
    "import plotly.express as px\n",
    "import pandas as pd "
   ]
  },
  {
   "cell_type": "code",
   "execution_count": 2,
   "metadata": {},
   "outputs": [
    {
     "name": "stdout",
     "output_type": "stream",
     "text": [
      "96\n",
      "156\n",
      "176\n",
      "286\n",
      "256\n",
      "416\n",
      "336\n",
      "546\n",
      "416\n",
      "676\n"
     ]
    }
   ],
   "source": [
    "# Construct DAGs\n",
    "\n",
    "file_list = ['soykb-chameleon-10fastq-10ch-001.json',\n",
    "'soykb-chameleon-10fastq-20ch-001.json',\n",
    "'soykb-chameleon-20fastq-10ch-001.json',\n",
    "'soykb-chameleon-20fastq-20ch-001.json',\n",
    "'soykb-chameleon-30fastq-10ch-001.json',\n",
    "'soykb-chameleon-30fastq-20ch-001.json',\n",
    "'soykb-chameleon-40fastq-10ch-001.json',\n",
    "'soykb-chameleon-40fastq-20ch-001.json',\n",
    "'soykb-chameleon-50fastq-10ch-001.json',\n",
    "'soykb-chameleon-50fastq-20ch-001.json']\n",
    "    \n",
    "G_list = []\n",
    "\n",
    "for file in file_list:\n",
    "    \n",
    "    # Opening JSON file \n",
    "    f = open('pegasus-traces-master/soykb/chameleon-cloud/' + file) \n",
    "\n",
    "    # returns JSON object as  \n",
    "    # a dictionary \n",
    "    data = json.load(f) \n",
    "\n",
    "    taskname_to_id = {}\n",
    "    id_count = 0\n",
    "\n",
    "    G = nx.DiGraph()\n",
    "\n",
    "    for task in data['workflow']['jobs']:\n",
    "\n",
    "        child_id = id_count\n",
    "        id_count += 1\n",
    "        taskname_to_id[task['name']] = child_id\n",
    "\n",
    "        if not G.has_node(child_id):\n",
    "                G.add_node(child_id)\n",
    "\n",
    "        for parent in task['parents']:\n",
    "            if parent in taskname_to_id:\n",
    "\n",
    "                parent_id = taskname_to_id[parent]\n",
    "\n",
    "            else:\n",
    "\n",
    "                parent_id = id_count\n",
    "                id_count += 1\n",
    "                taskname_to_id[parent] = parent_id\n",
    "\n",
    "\n",
    "            if not G.has_edge(parent_id, child_id):\n",
    "                    G.add_edge(parent_id, child_id)\n",
    "    print(len(G.nodes))\n",
    "\n",
    "    \n",
    "   \n",
    "    G_list.append(G)\n",
    "    \n",
    "    # Closing file \n",
    "    f.close() "
   ]
  },
  {
   "cell_type": "code",
   "execution_count": 3,
   "metadata": {},
   "outputs": [
    {
     "data": {
      "text/plain": [
       "<networkx.classes.digraph.DiGraph at 0x1a23485990>"
      ]
     },
     "execution_count": 3,
     "metadata": {},
     "output_type": "execute_result"
    }
   ],
   "source": [
    "G_list[0]"
   ]
  },
  {
   "cell_type": "code",
   "execution_count": 3,
   "metadata": {},
   "outputs": [
    {
     "name": "stdout",
     "output_type": "stream",
     "text": [
      "756.7009336672454 819.5584379814343\n",
      "______________________________________________________\n",
      "1529.1775279179406 1769.1343825738847\n",
      "______________________________________________________\n",
      "1870.5059330012593 2240.566680771761\n",
      "______________________________________________________\n",
      "3772.5112655619296 5075.874225070862\n",
      "______________________________________________________\n",
      "3271.563266916319 4307.067069886128\n",
      "______________________________________________________\n",
      "6607.411959832374 10041.323880152599\n",
      "______________________________________________________\n",
      "4909.553660879891 6985.377132364097\n",
      "______________________________________________________\n",
      "9918.896614994872 16629.444253036676\n",
      "______________________________________________________\n",
      "6763.039217319994 10345.340861215705\n",
      "______________________________________________________\n",
      "13669.582928273498 24920.889373724964\n",
      "______________________________________________________\n"
     ]
    }
   ],
   "source": [
    "mrt = True\n",
    "tie_breaking_rule = 2\n",
    "plot = False\n",
    "\n",
    "x = []\n",
    "y = []\n",
    "lbs= []\n",
    "ubs = []\n",
    "\n",
    "y_optimal = []\n",
    "y_lb = []\n",
    "bad_one = 0\n",
    "box_whiskers_data = []\n",
    "num_machines = 3\n",
    "naives1 = []\n",
    "naives2 = []\n",
    "heur = []\n",
    "for G in G_list:\n",
    "    \n",
    "    \n",
    "    ratio = []\n",
    "    num_tasks = len(G.nodes)\n",
    "    \n",
    "    w = [1 for _ in range(num_tasks)]\n",
    "    s = [1 for _ in range(num_tasks)]\n",
    "\n",
    "    naive1,naive2, true, order =iterative_and_naive_heuristic_no_ratio_reversed(num_machines, w, G, naive_version=4, verbose=False)\n",
    "    # _, _, obj_opt, _ = get_objective_single_ordering(True, G, w, order, plot=plot, compare=False)\n",
    "    # d = get_optimal_schedule(mrt, G, num_machines, w, plot, verbose=False)\n",
    "    # if solver was successful\n",
    "    # and d[\"objective_task_scaling\"] != 10000000\n",
    "    #if obj_opt != 10000000 and d[\"objective_task_scaling\"] != 10000000:\n",
    "        \n",
    "    x.append(num_tasks)\n",
    "    heur.append(true)\n",
    "    naives1.append(naive1)\n",
    "    naives2.append(naive2)\n",
    "    print(naive1, naive2)\n",
    "    # y.append(obj_opt)\n",
    "    # lbs.append(d[\"objective_task_scaling\"])\n",
    "    ub = obj_ub_precise = 2 * sum(psize_to_speed(ub_lst_graph(G, order)))\n",
    "    ubs.append(ub)\n",
    "    print(\"______________________________________________________\")\n",
    " "
   ]
  },
  {
   "cell_type": "code",
   "execution_count": 4,
   "metadata": {},
   "outputs": [
    {
     "name": "stdout",
     "output_type": "stream",
     "text": [
      "x is \n",
      " [96, 156, 176, 286, 256, 416, 336, 546, 416, 676]\n",
      "ubs are \n",
      " [1170.2034059974685, 2328.4576264623424, 2940.246378482111, 5991.853529098082, 5233.627780148142, 10790.560852619545, 7738.3861785103745, 15660.452908018055, 10709.089231533158, 21865.0670342609]\n",
      "naives1 are \n",
      " [756.7009336672454, 1529.1775279179406, 1870.5059330012593, 3772.5112655619296, 3271.563266916319, 6607.411959832374, 4909.553660879891, 9918.896614994872, 6763.039217319994, 13669.582928273498]\n",
      "naives2 are \n",
      " [819.5584379814343, 1769.1343825738847, 2240.566680771761, 5075.874225070862, 4307.067069886128, 10041.323880152599, 6985.377132364097, 16629.444253036676, 10345.340861215705, 24920.889373724964]\n",
      "heurs are \\m [871.5909211577181, 1769.0510913083363, 2051.368805337354, 4208.238587093944, 4423.883365354369, 9292.552476434623, 5647.125557091105, 11843.45914103788, 7676.071187447718, 16124.025018263594]\n"
     ]
    }
   ],
   "source": [
    "print(\"x is \\n\", x)\n",
    "print(\"ubs are \\n\", ubs)\n",
    "print(\"naives1 are \\n\",naives1)\n",
    "print(\"naives2 are \\n\", naives2)\n",
    "print(\"heurs are \\m\",heur)"
   ]
  },
  {
   "cell_type": "code",
   "execution_count": 6,
   "metadata": {},
   "outputs": [
    {
     "name": "stdout",
     "output_type": "stream",
     "text": [
      "5\n",
      "5\n"
     ]
    }
   ],
   "source": [
    "print(len(y))\n",
    "print(len(x))"
   ]
  },
  {
   "cell_type": "code",
   "execution_count": 5,
   "metadata": {},
   "outputs": [
    {
     "name": "stdout",
     "output_type": "stream",
     "text": [
      "[0.8681835885373078, 0.8644055196772228, 0.911833078544669, 0.8964585033585484, 0.7395229477652052, 0.7110438145588512, 0.8693898535184783, 0.8374999649068445, 0.8810547807815073, 0.8477773330660326]\n",
      "[0.9403017150440599, 1.0000470824533885, 1.0922300636249038, 1.2061754864940002, 0.9735941737562325, 1.0805775814144518, 1.2369792493089775, 1.4041036537556193, 1.3477390462627425, 1.5455749631681426]\n"
     ]
    }
   ],
   "source": [
    "ratios1 = [n/h for n,h in zip(naives1, heur)]\n",
    "print(ratios1)\n",
    "ratios2 = [n/h for n,h in zip(naives2, heur)]\n",
    "print(ratios2)"
   ]
  },
  {
   "cell_type": "code",
   "execution_count": 1,
   "metadata": {},
   "outputs": [],
   "source": [
    "ratios1 = [0.8681835885373078, 0.8644055196772228, 0.911833078544669, 0.8964585033585484, 0.7395229477652052, 0.7110438145588512, 0.8693898535184783, 0.8374999649068445, 0.8810547807815073, 0.8477773330660326]\n",
    "ratios2 = [0.9403017150440599, 1.0000470824533885, 1.0922300636249038, 1.2061754864940002, 0.9735941737562325, 1.0805775814144518, 1.2369792493089775, 1.4041036537556193, 1.3477390462627425, 1.5455749631681426]\n"
   ]
  },
  {
   "cell_type": "code",
   "execution_count": 2,
   "metadata": {},
   "outputs": [],
   "source": [
    "x = [96,156,176,286,256,416,336,546,416,676]\n"
   ]
  },
  {
   "cell_type": "code",
   "execution_count": 3,
   "metadata": {},
   "outputs": [
    {
     "data": {
      "image/png": "[encoded data removed]",
      "text/plain": [
       "<Figure size 432x288 with 1 Axes>"
      ]
     },
     "metadata": {
      "needs_background": "light"
     },
     "output_type": "display_data"
    }
   ],
   "source": [
    "import matplotlib.pyplot as plt\n",
    "import math\n",
    "\n",
    "fig = plt.figure()\n",
    "ax = fig.add_axes([0,0,1,1])\n",
    "\n",
    "\n",
    "#print(ub_ratio)\n",
    "#plt.scatter(obj_lb_lst[:,0], obj_lb_lst[:,1], label='lower bound', color=\"g\", linewidths=0.1)\n",
    "\n",
    "\n",
    "# plt.scatter(x, y, s=5, label='opt/lb', color='b')\n",
    "plt.scatter(x, ratios1, label='Naive1 [Number of tasks remaining on same machine]', color='k')\n",
    "plt.scatter(x, ratios2, label='Naive2 [number of descendants]', color='r')\n",
    "#plt.scatter(x, naives, label='Naives', color='g')\n",
    "plt.xlabel('Number of tasks')\n",
    "plt.ylabel('Ratios')\n",
    "plt.title(\"Soykb: Ratio of objectives of Naives to 1 iteration heuristic (Naive/Heur)\")\n",
    "plt.legend()\n",
    "plt.show()"
   ]
  },
  {
   "cell_type": "code",
   "execution_count": 7,
   "metadata": {},
   "outputs": [],
   "source": [
    "import csv\n",
    "with open(\"soykb_both_naives_heur_3_machines.csv\", 'w+') as f:\n",
    "    writer = csv.writer(f)\n",
    "    writer.writerow([\"task_size\", \"naive1\", \"heuristic\", \"upperbound\"])\n",
    "    writer.writerows(zip(x,  naives1, naives2, heur,  ubs))"
   ]
  }
 ],
 "metadata": {
  "kernelspec": {
   "display_name": "Python 3",
   "language": "python",
   "name": "python3"
  },
  "language_info": {
   "codemirror_mode": {
    "name": "ipython",
    "version": 3
   },
   "file_extension": ".py",
   "mimetype": "text/x-python",
   "name": "python",
   "nbconvert_exporter": "python",
   "pygments_lexer": "ipython3",
   "version": "3.7.6"
  }
 },
 "nbformat": 4,
 "nbformat_minor": 4
}
