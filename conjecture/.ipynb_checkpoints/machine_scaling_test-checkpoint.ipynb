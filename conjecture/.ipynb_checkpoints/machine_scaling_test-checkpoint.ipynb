version https://git-lfs.github.com/spec/v1
oid sha256:3d6e1b33fe951c47aa614446f0153f83f06c7099d75996426b8ee477e109c2d0
size 4227
