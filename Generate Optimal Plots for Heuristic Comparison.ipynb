{
 "cells": [
  {
   "cell_type": "code",
   "execution_count": 1,
   "metadata": {},
   "outputs": [],
   "source": [
    "import networkx as nx\n",
    "import matplotlib.pyplot as plt\n",
    "import pandas as pd\n",
    "from itertools import product\n",
    "from copy import deepcopy\n",
    "import numpy as np\n",
    "import statsmodels.api as sm\n",
    "import random\n",
    "import ast\n",
    "\n",
    "from graph_util.visualization_util import make_graph_visual\n",
    "from scheduling_util.modified_etf import Mod_ETF\n",
    "from scheduling_util.consolidated_functions import opt_schedule, opt_schedule_given_ordering, opt_all_orderings\n",
    "from scheduling_util.heuristics import *\n",
    "from graph_util.random_graph_functions import random_all_fork, random_all_join\n",
    "from graph_util.erdos_renyi_dag import er_dag\n",
    "from scheduling_util.approx_pseudosizes import speed_to_psize"
   ]
  },
  {
   "cell_type": "code",
   "execution_count": 2,
   "metadata": {},
   "outputs": [],
   "source": [
    "training_data_filename = \"small_graph_training_data.csv\"\n",
    "testing_data_filename = \"small_gaph_testing_data.csv\"\n",
    "num_machines = 2"
   ]
  },
  {
   "cell_type": "markdown",
   "metadata": {},
   "source": [
    "# Training Data"
   ]
  },
  {
   "cell_type": "code",
   "execution_count": 3,
   "metadata": {},
   "outputs": [],
   "source": [
    "feature_id = ['constant', 'num_descendants', 'out_degree_betweenness_centrality', 'trophic_levels']    \n",
    "\n",
    "# Function to get list of feature sets. A feature set is in the form [x1, x2, ..., y] where y is psize\n",
    "def get_feature_set(G):\n",
    "    lst = []\n",
    "    \n",
    "    # Get attributes for graph G\n",
    "    out_bet_lst = nx.algorithms.out_degree_centrality(G)\n",
    "    trophic_lst = nx.algorithms.trophic_levels(G)\n",
    "    \n",
    "    # Create feature set for each node in G\n",
    "    for node in G.nodes:\n",
    "        out_bet = out_bet_lst[node]\n",
    "        trophic = trophic_lst[node]\n",
    "        descendants = list(nx.algorithms.dag.descendants(G, node))\n",
    "        descendants.append(node)\n",
    "        \n",
    "        lst.append({\n",
    "            \"constant\": 1,\n",
    "            \"num_descendants\": float(len(descendants)),\n",
    "            \"out_degree_betweenness_centrality\": float(out_bet),\n",
    "            \"trophic_levels\": float(trophic),\n",
    "        })   \n",
    "        \n",
    "    return lst"
   ]
  },
  {
   "cell_type": "code",
   "execution_count": 4,
   "metadata": {},
   "outputs": [],
   "source": [
    "def reset_psizes(psizes):\n",
    "    revised_lst = [abs(x) for x in psizes]\n",
    "    assert(all([z > 0 for z in revised_lst]))\n",
    "    return revised_lst\n",
    "\n",
    "# Function to create dataset\n",
    "def create_dataset(num_machines, csv_file):\n",
    "    \n",
    "    df = pd.DataFrame(columns = [\n",
    "        \"graph_object\",\n",
    "        \"num_tasks\",\n",
    "        \"num_machines\",\n",
    "        \"weights\",\n",
    "        \"order\",\n",
    "        \"features\",\n",
    "        \"psize\",\n",
    "        \"GD_cost\",\n",
    "        \"LR_cost\",\n",
    "        \"global_optima_cost\",\n",
    "        \"ETF-H_cost\",\n",
    "        \"weak_strongman_cost\"\n",
    "    ])\n",
    "    tie_breaking_rule = 2\n",
    "    count = 0\n",
    "\n",
    "    csv_df = pd.read_csv(csv_file) \n",
    "    for index, row in csv_df.iterrows():\n",
    "        \n",
    "        dict_dag = ast.literal_eval(row[\"graph_object\"])\n",
    "        G = nx.node_link_graph(dict_dag)\n",
    "\n",
    "        num_tasks = len(G)\n",
    "        \n",
    "        _, _, h1_cost, _ = heuristic_algorithm(G, num_machines)\n",
    "        w = [1 for _ in range(num_tasks)]\n",
    "        s = [1 for _ in range(num_tasks)]\n",
    "        p = [1 for _ in range(num_tasks)]\n",
    "        etf = Mod_ETF(G, w, s, num_machines, tie_breaking_rule, plot=False)\n",
    "        weak_strongman_cost = naive_2(G, num_machines)\n",
    "        intervals, speeds, opt_cost = opt_schedule_given_ordering(True, G, w, p, etf.order, plot=False, compare=False)\n",
    "        global_intervals, global_speeds, global_opt_cost = opt_all_orderings(True, G, num_machines, w, p, False)\n",
    "        print(f\"speeds is {speeds}\")\n",
    "        if speeds[0] != -1:\n",
    "            entry_dict = {\n",
    "                \"graph_object\": nx.node_link_data(G),\n",
    "                \"num_tasks\": num_tasks,\n",
    "                \"num_machines\": num_machines,\n",
    "                \"weights\": w,\n",
    "                \"order\": etf.order,\n",
    "                \"features\": get_feature_set(G),\n",
    "                \"psize\": speed_to_psize(speeds),\n",
    "                \"GD_cost\": np.inf,\n",
    "                \"LR_cost\": np.inf,\n",
    "                \"opt_cost\": opt_cost,\n",
    "                \"global_opt_cost\": global_opt_cost,\n",
    "                \"ETF-H_cost\": h1_cost,\n",
    "                \"weak_strongman_cost\": weak_strongman_cost\n",
    "            }\n",
    "            df = df.append(entry_dict, ignore_index = True)\n",
    "                    \n",
    "    return df\n"
   ]
  },
  {
   "cell_type": "code",
   "execution_count": 5,
   "metadata": {},
   "outputs": [
    {
     "name": "stdout",
     "output_type": "stream",
     "text": [
      "speeds is [1.73205, 1.0, 1.41421, 1.41421, 1.0]\n",
      "speeds is [1.73205, 1.41421, 1.41421, 1.0, 1.0]\n",
      "speeds is [1.73205, 1.41421, 1.41421, 1.0, 1.0]\n",
      "speeds is [1.73205, 1.41421, 1.0, 1.41421, 1.0]\n",
      "speeds is [1.73205, 1.41421, 1.41421, 1.0, 1.0]\n"
     ]
    }
   ],
   "source": [
    "df_train = create_dataset(num_machines, training_data_filename)\n",
    "df_train"
   ]
  },
  {
   "cell_type": "markdown",
   "metadata": {},
   "source": [
    "# Train Model"
   ]
  },
  {
   "cell_type": "code",
   "execution_count": null,
   "metadata": {},
   "outputs": [],
   "source": [
    "def compute_cost(w, t, s):\n",
    "    '''\n",
    "    Given weights w, time intervals t, and speeds s, compute the cost of the schedule; \n",
    "    returns total cost as well as separate power and time components.\n",
    "    '''\n",
    "    power = 0\n",
    "    time = 0\n",
    "    #print(f\"compute cost intervals are {t}\")\n",
    "    for j in range(len(s)):\n",
    "        if t[j] == -1:\n",
    "            return -1, -1, -1\n",
    "        power += w[j] * s[j]\n",
    "        time += t[j][1]\n",
    "    total_cost = power + time\n",
    "    return total_cost, power, time\n",
    "\n",
    "def psize_to_speed(psize):\n",
    "    return [np.sqrt(psize[i]) for i in range(len(psize))]\n",
    "\n",
    "#predict list of psizes for one graph G\n",
    "def predict(coef, features):\n",
    "    m = []\n",
    "    for f in features:\n",
    "        m.append(list(f.values()))\n",
    "    return np.matmul(m, coef)"
   ]
  },
  {
   "cell_type": "code",
   "execution_count": null,
   "metadata": {},
   "outputs": [
    {
     "name": "stdout",
     "output_type": "stream",
     "text": [
      "                            OLS Regression Results                            \n",
      "==============================================================================\n",
      "Dep. Variable:                  psize   R-squared:                       0.146\n",
      "Model:                            OLS   Adj. R-squared:                  0.048\n",
      "Method:                 Least Squares   F-statistic:                     1.483\n",
      "Date:                Fri, 08 Apr 2022   Prob (F-statistic):              0.242\n",
      "Time:                        16:45:41   Log-Likelihood:                -919.85\n",
      "No. Observations:                  30   AIC:                             1848.\n",
      "Df Residuals:                      26   BIC:                             1853.\n",
      "Df Model:                           3                                         \n",
      "Covariance Type:            nonrobust                                         \n",
      "=====================================================================================================\n",
      "                                        coef    std err          t      P>|t|      [0.025      0.975]\n",
      "-----------------------------------------------------------------------------------------------------\n",
      "constant                           8.109e+11   4.27e+12      0.190      0.851   -7.96e+12    9.58e+12\n",
      "num_descendants                    1.631e+12   1.42e+12      1.148      0.261   -1.29e+12    4.55e+12\n",
      "out_degree_betweenness_centrality -3.576e+12   1.77e+13     -0.202      0.842      -4e+13    3.28e+13\n",
      "trophic_levels                     7.877e+11   1.51e+12      0.520      0.607   -2.33e+12     3.9e+12\n",
      "==============================================================================\n",
      "Omnibus:                        3.647   Durbin-Watson:                   0.932\n",
      "Prob(Omnibus):                  0.161   Jarque-Bera (JB):                2.517\n",
      "Skew:                           0.700   Prob(JB):                        0.284\n",
      "Kurtosis:                       3.231   Cond. No.                         68.1\n",
      "==============================================================================\n",
      "\n",
      "Notes:\n",
      "[1] Standard Errors assume that the covariance matrix of the errors is correctly specified.\n",
      "[ 8.10851878e+11  1.63121170e+12 -3.57608733e+12  7.87700156e+11]\n"
     ]
    }
   ],
   "source": [
    "# Create X, Y dataset\n",
    "df_features = pd.DataFrame(columns = feature_id)\n",
    "df_psize = pd.DataFrame(columns = [\"psize\"])\n",
    "for index, row in df_train.iterrows():\n",
    "    for feature in row[\"features\"]:\n",
    "        df_features = df_features.append(feature, ignore_index=True)\n",
    "    for psize in row[\"psize\"]:\n",
    "        df_psize = df_psize.append({\"psize\": psize}, ignore_index=True)   \n",
    "X = df_features[feature_id]\n",
    "Y = df_psize[[\"psize\"]]\n",
    "model=sm.OLS(Y, X.astype(float)).fit()\n",
    "print_model=model.summary()\n",
    "print(print_model)\n",
    "\n",
    "# weights learned from LR\n",
    "lr_coefficients = np.array(model.params)\n",
    "print(lr_coefficients)"
   ]
  },
  {
   "cell_type": "code",
   "execution_count": null,
   "metadata": {},
   "outputs": [],
   "source": [
    "lr_lst = []\n",
    "\n",
    "for index, row in df_train.iterrows():\n",
    "    # predict using LR model\n",
    "    psizes = reset_psizes(predict(lr_coefficients, row[\"features\"]))\n",
    "    speeds = psize_to_speed(psizes)\n",
    "    G = nx.node_link_graph(row[\"graph_object\"])\n",
    "        \n",
    "    time_intervals = native_rescheduler(deepcopy(G), deepcopy(speeds), deepcopy(row[\"weights\"]), deepcopy(row[\"order\"]))\n",
    "    cost, power, time = compute_cost(row[\"weights\"], time_intervals, speeds)\n",
    "    lr_lst.append(cost)\n",
    "    \n",
    "# update costs\n",
    "new_df = pd.DataFrame({'LR_cost': lr_lst})\n",
    "df_train.update(new_df)\n",
    "\n",
    "# for initialization purposes only\n",
    "new_df = pd.DataFrame({'GD_cost': lr_lst})\n",
    "df_train.update(new_df)"
   ]
  },
  {
   "cell_type": "code",
   "execution_count": null,
   "metadata": {},
   "outputs": [],
   "source": [
    "# Functions for Gradient Descent Approach\n",
    "def single_weight_update(coef, G, w, features, order, curr_cost, step_size):\n",
    "    \n",
    "    m = []\n",
    "    for f in features:\n",
    "        m.append(list(f.values()))\n",
    "        \n",
    "    curr_min_coef = deepcopy(coef)\n",
    "    min_cost = curr_cost\n",
    "    all_combinations = list(product((-1, 1, 0), repeat=len(coef)))\n",
    "    for combo in all_combinations:\n",
    "        temp_coef = deepcopy(coef)\n",
    "        for i in range(len(combo)):\n",
    "            temp_coef[i] += step_size * combo[i]\n",
    "        psizes = reset_psizes(np.matmul(m, temp_coef))\n",
    "        speeds = psize_to_speed(psizes)\n",
    "        time_intervals = native_rescheduler(deepcopy(G), deepcopy(speeds), deepcopy(w), deepcopy(order))\n",
    "        cost, _, _ = compute_cost(w, time_intervals, speeds)\n",
    "        if cost < min_cost:\n",
    "            min_cost = cost\n",
    "            curr_min_coef = deepcopy(temp_coef)\n",
    "        \n",
    "    return min_cost, curr_min_coef\n",
    "\n"
   ]
  },
  {
   "cell_type": "code",
   "execution_count": null,
   "metadata": {},
   "outputs": [],
   "source": [
    "def gd_algorithm(lr_coefficients, df):\n",
    "    MAX_ITER = 1000\n",
    "    step_size = 0.05\n",
    "    i = 0\n",
    "    \n",
    "    coef = lr_coefficients\n",
    "\n",
    "    stopping_condition = 0.001\n",
    "\n",
    "    #iterate until the objective function cost change lowers to stopping point\n",
    "    while i < MAX_ITER:\n",
    "\n",
    "        cost_lst = []\n",
    "        max_change = - np.infty\n",
    "        for index, row in df.iterrows():\n",
    "            new_cost, new_coef = single_weight_update(\n",
    "                coef, \n",
    "                nx.node_link_graph(row[\"graph_object\"]),\n",
    "                row[\"weights\"], \n",
    "                row[\"features\"], \n",
    "                row[\"order\"],\n",
    "                row[\"GD_cost\"],\n",
    "                step_size\n",
    "            )\n",
    "\n",
    "            if row[\"GD_cost\"] == np.inf: \n",
    "                change = - np.inf\n",
    "\n",
    "            else:\n",
    "                change = row[\"GD_cost\"] - new_cost\n",
    "\n",
    "            cost_lst.append(new_cost)\n",
    "            max_change = max(change, max_change)\n",
    "            coef = new_coef\n",
    "        print(max_change)\n",
    "\n",
    "        # update costs\n",
    "        new_df = pd.DataFrame({'GD_cost': cost_lst})\n",
    "        df.update(new_df)\n",
    "        if max_change < stopping_condition and i > 1:\n",
    "            print(\"Hit stopping condition with \", max_change)\n",
    "            break\n",
    "        i += 1\n",
    "    \n",
    "    return df, coef"
   ]
  },
  {
   "cell_type": "code",
   "execution_count": null,
   "metadata": {},
   "outputs": [
    {
     "name": "stdout",
     "output_type": "stream",
     "text": [
      "1.8253922462463379e-06\n",
      "1.8253922462463379e-06\n",
      "1.821666955947876e-06\n",
      "Hit stopping condition with  1.821666955947876e-06\n"
     ]
    }
   ],
   "source": [
    "df_train_results, coef_train = gd_algorithm(lr_coefficients, df_train)"
   ]
  },
  {
   "cell_type": "code",
   "execution_count": null,
   "metadata": {},
   "outputs": [
    {
     "data": {
      "text/html": [
       "<div>\n",
       "<style scoped>\n",
       "    .dataframe tbody tr th:only-of-type {\n",
       "        vertical-align: middle;\n",
       "    }\n",
       "\n",
       "    .dataframe tbody tr th {\n",
       "        vertical-align: top;\n",
       "    }\n",
       "\n",
       "    .dataframe thead th {\n",
       "        text-align: right;\n",
       "    }\n",
       "</style>\n",
       "<table border=\"1\" class=\"dataframe\">\n",
       "  <thead>\n",
       "    <tr style=\"text-align: right;\">\n",
       "      <th></th>\n",
       "      <th>graph_object</th>\n",
       "      <th>num_tasks</th>\n",
       "      <th>num_machines</th>\n",
       "      <th>weights</th>\n",
       "      <th>order</th>\n",
       "      <th>features</th>\n",
       "      <th>psize</th>\n",
       "      <th>GD_cost</th>\n",
       "      <th>LR_cost</th>\n",
       "      <th>global_optima_cost</th>\n",
       "      <th>ETF-H_cost</th>\n",
       "      <th>weak_strongman_cost</th>\n",
       "    </tr>\n",
       "  </thead>\n",
       "  <tbody>\n",
       "    <tr>\n",
       "      <th>0</th>\n",
       "      <td>{'directed': True, 'multigraph': False, 'graph...</td>\n",
       "      <td>10</td>\n",
       "      <td>2</td>\n",
       "      <td>[1, 1, 1, 1, 1, 1, 1, 1, 1, 1]</td>\n",
       "      <td>[[0, 4, 7, 8, 6], [1, 3, 5, 2, 9]]</td>\n",
       "      <td>[{'constant': 1, 'num_descendants': 6.0, 'out_...</td>\n",
       "      <td>[12463579169717.99, 18626414808439.645, 439827...</td>\n",
       "      <td>2.456464e+07</td>\n",
       "      <td>2.456464e+07</td>\n",
       "      <td>2.691697e+07</td>\n",
       "      <td>33.529329</td>\n",
       "      <td>33.979048</td>\n",
       "    </tr>\n",
       "    <tr>\n",
       "      <th>1</th>\n",
       "      <td>{'directed': True, 'multigraph': False, 'graph...</td>\n",
       "      <td>10</td>\n",
       "      <td>2</td>\n",
       "      <td>[1, 1, 1, 1, 1, 1, 1, 1, 1, 1]</td>\n",
       "      <td>[[0, 1, 7, 3, 9], [2, 4, 5, 8, 6]]</td>\n",
       "      <td>[{'constant': 1, 'num_descendants': 6.0, 'out_...</td>\n",
       "      <td>[20479626996930.227, 17242441497599.592, 92395...</td>\n",
       "      <td>2.379686e+07</td>\n",
       "      <td>2.379686e+07</td>\n",
       "      <td>2.823207e+07</td>\n",
       "      <td>33.529329</td>\n",
       "      <td>34.276576</td>\n",
       "    </tr>\n",
       "    <tr>\n",
       "      <th>2</th>\n",
       "      <td>{'directed': True, 'multigraph': False, 'graph...</td>\n",
       "      <td>10</td>\n",
       "      <td>2</td>\n",
       "      <td>[1, 1, 1, 1, 1, 1, 1, 1, 1, 1]</td>\n",
       "      <td>[[2, 1, 3, 7, 8], [4, 0, 5, 6, 9]]</td>\n",
       "      <td>[{'constant': 1, 'num_descendants': 4.0, 'out_...</td>\n",
       "      <td>[10.006656688900001, 9.0128445796, 59670171632...</td>\n",
       "      <td>2.645512e+07</td>\n",
       "      <td>2.645512e+07</td>\n",
       "      <td>1.064502e+07</td>\n",
       "      <td>33.529329</td>\n",
       "      <td>33.886471</td>\n",
       "    </tr>\n",
       "  </tbody>\n",
       "</table>\n",
       "</div>"
      ],
      "text/plain": [
       "                                        graph_object num_tasks num_machines  \\\n",
       "0  {'directed': True, 'multigraph': False, 'graph...        10            2   \n",
       "1  {'directed': True, 'multigraph': False, 'graph...        10            2   \n",
       "2  {'directed': True, 'multigraph': False, 'graph...        10            2   \n",
       "\n",
       "                          weights                               order  \\\n",
       "0  [1, 1, 1, 1, 1, 1, 1, 1, 1, 1]  [[0, 4, 7, 8, 6], [1, 3, 5, 2, 9]]   \n",
       "1  [1, 1, 1, 1, 1, 1, 1, 1, 1, 1]  [[0, 1, 7, 3, 9], [2, 4, 5, 8, 6]]   \n",
       "2  [1, 1, 1, 1, 1, 1, 1, 1, 1, 1]  [[2, 1, 3, 7, 8], [4, 0, 5, 6, 9]]   \n",
       "\n",
       "                                            features  \\\n",
       "0  [{'constant': 1, 'num_descendants': 6.0, 'out_...   \n",
       "1  [{'constant': 1, 'num_descendants': 6.0, 'out_...   \n",
       "2  [{'constant': 1, 'num_descendants': 4.0, 'out_...   \n",
       "\n",
       "                                               psize       GD_cost  \\\n",
       "0  [12463579169717.99, 18626414808439.645, 439827...  2.456464e+07   \n",
       "1  [20479626996930.227, 17242441497599.592, 92395...  2.379686e+07   \n",
       "2  [10.006656688900001, 9.0128445796, 59670171632...  2.645512e+07   \n",
       "\n",
       "        LR_cost  global_optima_cost  ETF-H_cost  weak_strongman_cost  \n",
       "0  2.456464e+07        2.691697e+07   33.529329            33.979048  \n",
       "1  2.379686e+07        2.823207e+07   33.529329            34.276576  \n",
       "2  2.645512e+07        1.064502e+07   33.529329            33.886471  "
      ]
     },
     "execution_count": 12,
     "metadata": {},
     "output_type": "execute_result"
    }
   ],
   "source": [
    "df_train_results"
   ]
  },
  {
   "cell_type": "code",
   "execution_count": null,
   "metadata": {},
   "outputs": [
    {
     "name": "stdout",
     "output_type": "stream",
     "text": [
      "[ 8.10851878e+11  1.63121170e+12 -3.57608733e+12  7.87700156e+11]\n",
      "[ 8.10851878e+11  1.63121170e+12 -3.57608733e+12  7.87700156e+11]\n"
     ]
    }
   ],
   "source": [
    "print(lr_coefficients)\n",
    "\n",
    "print(coef_train)"
   ]
  },
  {
   "cell_type": "code",
   "execution_count": null,
   "metadata": {},
   "outputs": [
    {
     "name": "stdout",
     "output_type": "stream",
     "text": [
      "speeds is [-1]\n",
      "speeds is [3.16228, 4146710.7211, 4146711.1186, 5058963.0632, 2278818.2483, 3315979.2285, 3315979.2743, 3446727.8035, 2468503.4025, 2109509.9147]\n",
      "speeds is [5466392.6222, 5290752.1737, 2985270.3372, 4434092.3615, 3545652.0288, 4506194.4499, 3446702.806, 5221614.9763, 2575784.9383, 2637242.4651]\n",
      "speeds is [2344693.6883, 2578855.9537, 2344688.8879, 2097154.2307, 2511100.7675, 2722510.7991, 2965808.7176, 2774285.0588, 2568505.7204, 3084075.7193]\n",
      "speeds is [2427882.6434, 585632.77283, 607636.12009, 634012.44907, 364276.72685, 583255.94458, 2757480.9908, 975850.81844, 851721.20489, 560575.09756]\n"
     ]
    }
   ],
   "source": [
    "# parameters\n",
    "\n",
    "count = 0\n",
    "\n",
    "df_test = create_dataset(num_machines, testing_data_filename)\n",
    "\n",
    "lr_lst = []\n",
    "gd_lst = []\n",
    "\n",
    "for index, row in df_test.iterrows():\n",
    "    # predict using LR model\n",
    "    psizes_lr = reset_psizes(predict(lr_coefficients, row[\"features\"]))\n",
    "    speeds_lr = psize_to_speed(psizes_lr)\n",
    "    G = nx.node_link_graph(row[\"graph_object\"])\n",
    "    time_intervals_lr = native_rescheduler(deepcopy(G), deepcopy(speeds_lr), deepcopy(row[\"weights\"]), deepcopy(row[\"order\"]))\n",
    "    cost_lr, power_lr, time_lr = compute_cost(row[\"weights\"], time_intervals_lr, speeds_lr)\n",
    "    lr_lst.append(cost_lr)\n",
    "\n",
    "# update costs\n",
    "new_df_lr = pd.DataFrame({'LR_cost': lr_lst})\n",
    "df_test.update(new_df_lr)"
   ]
  },
  {
   "cell_type": "code",
   "execution_count": null,
   "metadata": {},
   "outputs": [
    {
     "name": "stdout",
     "output_type": "stream",
     "text": [
      "-inf\n",
      "2.648681402206421e-06\n",
      "2.644956111907959e-06\n",
      "Hit stopping condition with  2.644956111907959e-06\n"
     ]
    }
   ],
   "source": [
    "#print-out shows objective function value change\n",
    "df_results, coef_test = gd_algorithm(lr_coefficients, df_test)"
   ]
  },
  {
   "cell_type": "code",
   "execution_count": null,
   "metadata": {},
   "outputs": [
    {
     "data": {
      "text/html": [
       "<div>\n",
       "<style scoped>\n",
       "    .dataframe tbody tr th:only-of-type {\n",
       "        vertical-align: middle;\n",
       "    }\n",
       "\n",
       "    .dataframe tbody tr th {\n",
       "        vertical-align: top;\n",
       "    }\n",
       "\n",
       "    .dataframe thead th {\n",
       "        text-align: right;\n",
       "    }\n",
       "</style>\n",
       "<table border=\"1\" class=\"dataframe\">\n",
       "  <thead>\n",
       "    <tr style=\"text-align: right;\">\n",
       "      <th></th>\n",
       "      <th>graph_object</th>\n",
       "      <th>num_tasks</th>\n",
       "      <th>num_machines</th>\n",
       "      <th>weights</th>\n",
       "      <th>order</th>\n",
       "      <th>features</th>\n",
       "      <th>psize</th>\n",
       "      <th>GD_cost</th>\n",
       "      <th>LR_cost</th>\n",
       "      <th>global_optima_cost</th>\n",
       "      <th>ETF-H_cost</th>\n",
       "      <th>weak_strongman_cost</th>\n",
       "    </tr>\n",
       "  </thead>\n",
       "  <tbody>\n",
       "    <tr>\n",
       "      <th>0</th>\n",
       "      <td>{'directed': True, 'multigraph': False, 'graph...</td>\n",
       "      <td>10</td>\n",
       "      <td>2</td>\n",
       "      <td>[1, 1, 1, 1, 1, 1, 1, 1, 1, 1]</td>\n",
       "      <td>[[1, 2, 6, 5, 7, 9], [0, 4, 3, 8]]</td>\n",
       "      <td>[{'constant': 1, 'num_descendants': 2.0, 'out_...</td>\n",
       "      <td>[10.0000147984, 17195209804485.684, 1719521310...</td>\n",
       "      <td>2.694338e+07</td>\n",
       "      <td>2.694338e+07</td>\n",
       "      <td>3.028791e+07</td>\n",
       "      <td>34.700902</td>\n",
       "      <td>33.906203</td>\n",
       "    </tr>\n",
       "    <tr>\n",
       "      <th>1</th>\n",
       "      <td>{'directed': True, 'multigraph': False, 'graph...</td>\n",
       "      <td>10</td>\n",
       "      <td>2</td>\n",
       "      <td>[1, 1, 1, 1, 1, 1, 1, 1, 1, 1]</td>\n",
       "      <td>[[0, 1, 4, 5, 6, 8], [2, 3, 7, 9]]</td>\n",
       "      <td>[{'constant': 1, 'num_descendants': 9.0, 'out_...</td>\n",
       "      <td>[29881448300042.594, 27992058563511.277, 89118...</td>\n",
       "      <td>2.771822e+07</td>\n",
       "      <td>2.771822e+07</td>\n",
       "      <td>4.010970e+07</td>\n",
       "      <td>36.139805</td>\n",
       "      <td>37.213256</td>\n",
       "    </tr>\n",
       "    <tr>\n",
       "      <th>2</th>\n",
       "      <td>{'directed': True, 'multigraph': False, 'graph...</td>\n",
       "      <td>10</td>\n",
       "      <td>2</td>\n",
       "      <td>[1, 1, 1, 1, 1, 1, 1, 1, 1, 1]</td>\n",
       "      <td>[[1, 3, 4, 7, 8, 9], [2, 0, 6, 5]]</td>\n",
       "      <td>[{'constant': 1, 'num_descendants': 5.0, 'out_...</td>\n",
       "      <td>[5497588491953.857, 6650498029933.937, 5497565...</td>\n",
       "      <td>2.774355e+07</td>\n",
       "      <td>2.774355e+07</td>\n",
       "      <td>2.599168e+07</td>\n",
       "      <td>34.165004</td>\n",
       "      <td>34.126086</td>\n",
       "    </tr>\n",
       "    <tr>\n",
       "      <th>3</th>\n",
       "      <td>{'directed': True, 'multigraph': False, 'graph...</td>\n",
       "      <td>10</td>\n",
       "      <td>2</td>\n",
       "      <td>[1, 1, 1, 1, 1, 1, 1, 1, 1, 1]</td>\n",
       "      <td>[[0, 4, 3, 6, 8, 9], [2, 1, 5, 7]]</td>\n",
       "      <td>[{'constant': 1, 'num_descendants': 7.0, 'out_...</td>\n",
       "      <td>[5894614130122.972, 342965744612.55444, 369221...</td>\n",
       "      <td>2.942063e+07</td>\n",
       "      <td>2.942063e+07</td>\n",
       "      <td>1.034832e+07</td>\n",
       "      <td>34.357757</td>\n",
       "      <td>35.041695</td>\n",
       "    </tr>\n",
       "  </tbody>\n",
       "</table>\n",
       "</div>"
      ],
      "text/plain": [
       "                                        graph_object num_tasks num_machines  \\\n",
       "0  {'directed': True, 'multigraph': False, 'graph...        10            2   \n",
       "1  {'directed': True, 'multigraph': False, 'graph...        10            2   \n",
       "2  {'directed': True, 'multigraph': False, 'graph...        10            2   \n",
       "3  {'directed': True, 'multigraph': False, 'graph...        10            2   \n",
       "\n",
       "                          weights                               order  \\\n",
       "0  [1, 1, 1, 1, 1, 1, 1, 1, 1, 1]  [[1, 2, 6, 5, 7, 9], [0, 4, 3, 8]]   \n",
       "1  [1, 1, 1, 1, 1, 1, 1, 1, 1, 1]  [[0, 1, 4, 5, 6, 8], [2, 3, 7, 9]]   \n",
       "2  [1, 1, 1, 1, 1, 1, 1, 1, 1, 1]  [[1, 3, 4, 7, 8, 9], [2, 0, 6, 5]]   \n",
       "3  [1, 1, 1, 1, 1, 1, 1, 1, 1, 1]  [[0, 4, 3, 6, 8, 9], [2, 1, 5, 7]]   \n",
       "\n",
       "                                            features  \\\n",
       "0  [{'constant': 1, 'num_descendants': 2.0, 'out_...   \n",
       "1  [{'constant': 1, 'num_descendants': 9.0, 'out_...   \n",
       "2  [{'constant': 1, 'num_descendants': 5.0, 'out_...   \n",
       "3  [{'constant': 1, 'num_descendants': 7.0, 'out_...   \n",
       "\n",
       "                                               psize       GD_cost  \\\n",
       "0  [10.0000147984, 17195209804485.684, 1719521310...  2.694338e+07   \n",
       "1  [29881448300042.594, 27992058563511.277, 89118...  2.771822e+07   \n",
       "2  [5497588491953.857, 6650498029933.937, 5497565...  2.774355e+07   \n",
       "3  [5894614130122.972, 342965744612.55444, 369221...  2.942063e+07   \n",
       "\n",
       "        LR_cost  global_optima_cost  ETF-H_cost  weak_strongman_cost  \n",
       "0  2.694338e+07        3.028791e+07   34.700902            33.906203  \n",
       "1  2.771822e+07        4.010970e+07   36.139805            37.213256  \n",
       "2  2.774355e+07        2.599168e+07   34.165004            34.126086  \n",
       "3  2.942063e+07        1.034832e+07   34.357757            35.041695  "
      ]
     },
     "execution_count": 16,
     "metadata": {},
     "output_type": "execute_result"
    }
   ],
   "source": [
    "df_results"
   ]
  },
  {
   "cell_type": "markdown",
   "metadata": {},
   "source": [
    "# Graph"
   ]
  },
  {
   "cell_type": "code",
   "execution_count": null,
   "metadata": {},
   "outputs": [
    {
     "data": {
      "text/plain": [
       "<matplotlib.legend.Legend at 0x7f18e41dd040>"
      ]
     },
     "execution_count": 20,
     "metadata": {},
     "output_type": "execute_result"
    },
    {
     "data": {
      "image/png": "[encoded data removed]",
      "text/plain": [
       "<Figure size 432x288 with 1 Axes>"
      ]
     },
     "metadata": {
      "needs_background": "light"
     },
     "output_type": "display_data"
    }
   ],
   "source": [
    "plt.scatter(df_results[\"num_tasks\"], df_results[\"LR_cost\"] / df_results[\"global_optima_cost\"], label='GD / Global Optima', alpha=0.5)\n",
    "plt.scatter(df_results[\"num_tasks\"], df_results[\"ETF-H_cost\"] / df_results[\"global_optima_cost\"], label='ETF-H / Global Optima', alpha=0.5)\n",
    "plt.scatter(df_results[\"num_tasks\"], df_results[\"weak_strongman_cost\"] / df_results[\"global_optima_cost\"], label='ETF-H / Global Optima', alpha=0.5)\n",
    "plt.scatter(df_results[\"num_tasks\"], df_results[\"opt_cost\"] / df_results[\"global_optima_cost\"], label='Opt Given Ordering / Global Optima', alpha=0.5)\n",
    "plt.title(\"Comparison of Global Optima with other heuristics\\nnum_machines = 2\")\n",
    "plt.xlabel(\"number of tasks in DAG\")\n",
    "plt.ylabel(\"ratio\")\n",
    "plt.legend()"
   ]
  },
  {
   "cell_type": "code",
   "execution_count": null,
   "metadata": {},
   "outputs": [
    {
     "data": {
      "text/plain": [
       "<matplotlib.legend.Legend at 0x7f18e63d57f0>"
      ]
     },
     "execution_count": 18,
     "metadata": {},
     "output_type": "execute_result"
    },
    {
     "data": {
      "image/png": "[encoded data removed]",
      "text/plain": [
       "<Figure size 432x288 with 1 Axes>"
      ]
     },
     "metadata": {
      "needs_background": "light"
     },
     "output_type": "display_data"
    }
   ],
   "source": [
    "plt.scatter(df_results[\"num_tasks\"], (df_results[\"GD_cost\"]- df_results[\"LR_cost\"] )/ df_results[\"LR_cost\"], label=' (GD - LR) / LR')\n",
    "plt.title(\"Percent difference for LR to GD\\nnum_machines = 2\")\n",
    "plt.xlabel(\"number of tasks in DAG\")\n",
    "plt.ylabel(\"percent difference\")\n",
    "plt.legend()"
   ]
  }
 ],
 "metadata": {
  "interpreter": {
   "hash": "b0a38c7fd2505b15b46fab770b43c894ec907a53509f636050b5c66c47dc2015"
  },
  "kernelspec": {
   "display_name": "Python 3.8.10 64-bit ('caltech_venv': venv)",
   "language": "python",
   "name": "python3"
  },
  "language_info": {
   "codemirror_mode": {
    "name": "ipython",
    "version": 3
   },
   "file_extension": ".py",
   "mimetype": "text/x-python",
   "name": "python",
   "nbconvert_exporter": "python",
   "pygments_lexer": "ipython3",
   "version": "3.8.10"
  },
  "orig_nbformat": 4
 },
 "nbformat": 4,
 "nbformat_minor": 2
}
