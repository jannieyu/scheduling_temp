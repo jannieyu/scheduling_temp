{
 "cells": [
  {
   "cell_type": "markdown",
   "metadata": {},
   "source": [
    "# Import Statements"
   ]
  },
  {
   "cell_type": "code",
   "execution_count": 1,
   "metadata": {},
   "outputs": [],
   "source": [
    "import networkx as nx\n",
    "import matplotlib.pyplot as plt\n",
    "import pandas as pd\n",
    "from itertools import product\n",
    "from copy import deepcopy\n",
    "import numpy as np\n",
    "import statsmodels.api as sm\n",
    "import random\n",
    "import ast\n",
    "\n",
    "from graph_util.visualization_util import make_graph_visual\n",
    "from scheduling_util.modified_etf import Mod_ETF\n",
    "from scheduling_util.consolidated_functions import opt_schedule_given_ordering\n",
    "from scheduling_util.heuristics import *\n",
    "from graph_util.random_graph_functions import random_all_fork, random_all_join\n",
    "from graph_util.erdos_renyi_dag import er_dag\n",
    "from scheduling_util.approx_pseudosizes import speed_to_psize"
   ]
  },
  {
   "cell_type": "markdown",
   "metadata": {},
   "source": [
    "# ***EDIT: Set Global Parameters\n",
    "\n",
    "Edit basic parameters here. Nothing else needs to be altered to produce plots."
   ]
  },
  {
   "cell_type": "code",
   "execution_count": 2,
   "metadata": {},
   "outputs": [],
   "source": [
    "training_data_filename = \"example_training_data.csv\"\n",
    "testing_data_filename = \"example_testing_data.csv\"\n",
    "num_machines = 2"
   ]
  },
  {
   "cell_type": "markdown",
   "metadata": {},
   "source": [
    "# Training Data"
   ]
  },
  {
   "cell_type": "code",
   "execution_count": 3,
   "metadata": {},
   "outputs": [],
   "source": [
    "feature_id = ['constant', 'num_descendants', 'out_degree_betweenness_centrality', 'trophic_levels']    \n",
    "\n",
    "# Function to get list of feature sets. A feature set is in the form [x1, x2, ..., y] where y is psize\n",
    "def get_feature_set(G):\n",
    "    lst = []\n",
    "    \n",
    "    # Get attributes for graph G\n",
    "    out_bet_lst = nx.algorithms.out_degree_centrality(G)\n",
    "    trophic_lst = nx.algorithms.trophic_levels(G)\n",
    "    \n",
    "    # Create feature set for each node in G\n",
    "    for node in G.nodes:\n",
    "        out_bet = out_bet_lst[node]\n",
    "        trophic = trophic_lst[node]\n",
    "        descendants = list(nx.algorithms.dag.descendants(G, node))\n",
    "        descendants.append(node)\n",
    "        \n",
    "        lst.append({\n",
    "            \"constant\": 1,\n",
    "            \"num_descendants\": float(len(descendants)),\n",
    "            \"out_degree_betweenness_centrality\": float(out_bet),\n",
    "            \"trophic_levels\": float(trophic),\n",
    "        })   \n",
    "        \n",
    "    return lst"
   ]
  },
  {
   "cell_type": "markdown",
   "metadata": {},
   "source": [
    "Create training data with given parameters"
   ]
  },
  {
   "cell_type": "code",
   "execution_count": 4,
   "metadata": {},
   "outputs": [],
   "source": [
    "def reset_psizes(psizes):\n",
    "    revised_lst = [abs(x) for x in psizes]\n",
    "    assert(all([z > 0 for z in revised_lst]))\n",
    "    return revised_lst\n",
    "\n",
    "# Function to create dataset\n",
    "def create_dataset(num_machines, csv_file):\n",
    "    \n",
    "    df = pd.DataFrame(columns = [\n",
    "        \"graph_object\",\n",
    "        \"num_tasks\",\n",
    "        \"num_machines\",\n",
    "        \"weights\",\n",
    "        \"order\",\n",
    "        \"features\",\n",
    "        \"psize\",\n",
    "        \"GD_cost\",\n",
    "        \"LR_cost\",\n",
    "        \"RLP_cost\",\n",
    "        \"ETF-H_cost\",\n",
    "        \"weak_strongman_cost\"\n",
    "    ])\n",
    "    tie_breaking_rule = 2\n",
    "    count = 0\n",
    "\n",
    "    csv_df = pd.read_csv(csv_file) \n",
    "    for index, row in csv_df.iterrows():\n",
    "        \n",
    "        dict_dag = ast.literal_eval(row[\"graph_object\"])\n",
    "        G = nx.node_link_graph(dict_dag)\n",
    "\n",
    "        num_tasks = len(G)\n",
    "        \n",
    "        _, _, h1_cost, _ = heuristic_algorithm(G, num_machines)\n",
    "        w = [1 for _ in range(num_tasks)]\n",
    "        s = [1 for _ in range(num_tasks)]\n",
    "        p = [1 for _ in range(num_tasks)]\n",
    "        etf = Mod_ETF(G, w, s, num_machines, tie_breaking_rule, plot=False)\n",
    "        weak_strongman_cost = naive_2(G, num_machines)\n",
    "        intervals, speeds, opt_cost = opt_schedule_given_ordering(True, G, w, p, etf.order, plot=False, compare=False)\n",
    "        if speeds[0] != -1:\n",
    "            entry_dict = {\n",
    "                \"graph_object\": nx.node_link_data(G),\n",
    "                \"num_tasks\": num_tasks,\n",
    "                \"num_machines\": num_machines,\n",
    "                \"weights\": w,\n",
    "                \"order\": etf.order,\n",
    "                \"features\": get_feature_set(G),\n",
    "                \"psize\": speed_to_psize(speeds),\n",
    "                \"GD_cost\": np.inf,\n",
    "                \"LR_cost\": np.inf,\n",
    "                \"RLP_cost\": opt_cost,\n",
    "                \"ETF-H_cost\": h1_cost,\n",
    "                \"weak_strongman_cost\": weak_strongman_cost\n",
    "            }\n",
    "            df = df.append(entry_dict, ignore_index = True)\n",
    "                    \n",
    "    return df\n"
   ]
  },
  {
   "cell_type": "code",
   "execution_count": 5,
   "metadata": {},
   "outputs": [
    {
     "data": {
      "text/html": [
       "<div>\n",
       "<style scoped>\n",
       "    .dataframe tbody tr th:only-of-type {\n",
       "        vertical-align: middle;\n",
       "    }\n",
       "\n",
       "    .dataframe tbody tr th {\n",
       "        vertical-align: top;\n",
       "    }\n",
       "\n",
       "    .dataframe thead th {\n",
       "        text-align: right;\n",
       "    }\n",
       "</style>\n",
       "<table border=\"1\" class=\"dataframe\">\n",
       "  <thead>\n",
       "    <tr style=\"text-align: right;\">\n",
       "      <th></th>\n",
       "      <th>graph_object</th>\n",
       "      <th>num_tasks</th>\n",
       "      <th>num_machines</th>\n",
       "      <th>weights</th>\n",
       "      <th>order</th>\n",
       "      <th>features</th>\n",
       "      <th>psize</th>\n",
       "      <th>GD_cost</th>\n",
       "      <th>LR_cost</th>\n",
       "      <th>RLP_cost</th>\n",
       "      <th>ETF-H_cost</th>\n",
       "      <th>weak_strongman_cost</th>\n",
       "    </tr>\n",
       "  </thead>\n",
       "  <tbody>\n",
       "    <tr>\n",
       "      <th>0</th>\n",
       "      <td>{'directed': True, 'multigraph': False, 'graph...</td>\n",
       "      <td>10</td>\n",
       "      <td>2</td>\n",
       "      <td>[1, 1, 1, 1, 1, 1, 1, 1, 1, 1]</td>\n",
       "      <td>[[0, 4, 7, 8, 6], [1, 3, 5, 2, 9]]</td>\n",
       "      <td>[{'constant': 1, 'num_descendants': 6.0, 'out_...</td>\n",
       "      <td>[5.000009044899999, 5.000009044899999, 1.99998...</td>\n",
       "      <td>inf</td>\n",
       "      <td>inf</td>\n",
       "      <td>33.52933</td>\n",
       "      <td>33.529329</td>\n",
       "      <td>33.979048</td>\n",
       "    </tr>\n",
       "    <tr>\n",
       "      <th>1</th>\n",
       "      <td>{'directed': True, 'multigraph': False, 'graph...</td>\n",
       "      <td>10</td>\n",
       "      <td>2</td>\n",
       "      <td>[1, 1, 1, 1, 1, 1, 1, 1, 1, 1]</td>\n",
       "      <td>[[2, 4, 3, 7, 5], [0, 1, 6, 9, 8]]</td>\n",
       "      <td>[{'constant': 1, 'num_descendants': 6.0, 'out_...</td>\n",
       "      <td>[5.000009044899999, 3.9999600000999997, 4.9999...</td>\n",
       "      <td>inf</td>\n",
       "      <td>inf</td>\n",
       "      <td>33.52933</td>\n",
       "      <td>33.529329</td>\n",
       "      <td>34.023323</td>\n",
       "    </tr>\n",
       "    <tr>\n",
       "      <th>2</th>\n",
       "      <td>{'directed': True, 'multigraph': False, 'graph...</td>\n",
       "      <td>10</td>\n",
       "      <td>2</td>\n",
       "      <td>[1, 1, 1, 1, 1, 1, 1, 1, 1, 1]</td>\n",
       "      <td>[[0, 1, 7, 3, 9], [2, 4, 5, 8, 6]]</td>\n",
       "      <td>[{'constant': 1, 'num_descendants': 6.0, 'out_...</td>\n",
       "      <td>[5.000053766399999, 4.0000400001, 4.9999643236...</td>\n",
       "      <td>inf</td>\n",
       "      <td>inf</td>\n",
       "      <td>33.52933</td>\n",
       "      <td>33.529329</td>\n",
       "      <td>34.276576</td>\n",
       "    </tr>\n",
       "    <tr>\n",
       "      <th>3</th>\n",
       "      <td>{'directed': True, 'multigraph': False, 'graph...</td>\n",
       "      <td>10</td>\n",
       "      <td>2</td>\n",
       "      <td>[1, 1, 1, 1, 1, 1, 1, 1, 1, 1]</td>\n",
       "      <td>[[2, 1, 3, 7, 8], [4, 0, 5, 6, 9]]</td>\n",
       "      <td>[{'constant': 1, 'num_descendants': 4.0, 'out_...</td>\n",
       "      <td>[4.0, 4.0, 5.000009044899999, 2.99999720250000...</td>\n",
       "      <td>inf</td>\n",
       "      <td>inf</td>\n",
       "      <td>33.52933</td>\n",
       "      <td>33.529329</td>\n",
       "      <td>33.886471</td>\n",
       "    </tr>\n",
       "  </tbody>\n",
       "</table>\n",
       "</div>"
      ],
      "text/plain": [
       "                                        graph_object num_tasks num_machines  \\\n",
       "0  {'directed': True, 'multigraph': False, 'graph...        10            2   \n",
       "1  {'directed': True, 'multigraph': False, 'graph...        10            2   \n",
       "2  {'directed': True, 'multigraph': False, 'graph...        10            2   \n",
       "3  {'directed': True, 'multigraph': False, 'graph...        10            2   \n",
       "\n",
       "                          weights                               order  \\\n",
       "0  [1, 1, 1, 1, 1, 1, 1, 1, 1, 1]  [[0, 4, 7, 8, 6], [1, 3, 5, 2, 9]]   \n",
       "1  [1, 1, 1, 1, 1, 1, 1, 1, 1, 1]  [[2, 4, 3, 7, 5], [0, 1, 6, 9, 8]]   \n",
       "2  [1, 1, 1, 1, 1, 1, 1, 1, 1, 1]  [[0, 1, 7, 3, 9], [2, 4, 5, 8, 6]]   \n",
       "3  [1, 1, 1, 1, 1, 1, 1, 1, 1, 1]  [[2, 1, 3, 7, 8], [4, 0, 5, 6, 9]]   \n",
       "\n",
       "                                            features  \\\n",
       "0  [{'constant': 1, 'num_descendants': 6.0, 'out_...   \n",
       "1  [{'constant': 1, 'num_descendants': 6.0, 'out_...   \n",
       "2  [{'constant': 1, 'num_descendants': 6.0, 'out_...   \n",
       "3  [{'constant': 1, 'num_descendants': 4.0, 'out_...   \n",
       "\n",
       "                                               psize  GD_cost  LR_cost  \\\n",
       "0  [5.000009044899999, 5.000009044899999, 1.99998...      inf      inf   \n",
       "1  [5.000009044899999, 3.9999600000999997, 4.9999...      inf      inf   \n",
       "2  [5.000053766399999, 4.0000400001, 4.9999643236...      inf      inf   \n",
       "3  [4.0, 4.0, 5.000009044899999, 2.99999720250000...      inf      inf   \n",
       "\n",
       "   RLP_cost  ETF-H_cost  weak_strongman_cost  \n",
       "0  33.52933   33.529329            33.979048  \n",
       "1  33.52933   33.529329            34.023323  \n",
       "2  33.52933   33.529329            34.276576  \n",
       "3  33.52933   33.529329            33.886471  "
      ]
     },
     "execution_count": 5,
     "metadata": {},
     "output_type": "execute_result"
    }
   ],
   "source": [
    "df_train = create_dataset(num_machines, training_data_filename)\n",
    "df_train"
   ]
  },
  {
   "cell_type": "markdown",
   "metadata": {},
   "source": [
    "# Train Model"
   ]
  },
  {
   "cell_type": "code",
   "execution_count": 6,
   "metadata": {},
   "outputs": [],
   "source": [
    "def compute_cost(w, t, s):\n",
    "    '''\n",
    "    Given weights w, time intervals t, and speeds s, compute the cost of the schedule; \n",
    "    returns total cost as well as separate power and time components.\n",
    "    '''\n",
    "    power = 0\n",
    "    time = 0\n",
    "    #print(f\"compute cost intervals are {t}\")\n",
    "    for j in range(len(s)):\n",
    "        if t[j] == -1:\n",
    "            return -1, -1, -1\n",
    "        power += w[j] * s[j]\n",
    "        time += t[j][1]\n",
    "    total_cost = power + time\n",
    "    return total_cost, power, time\n",
    "\n",
    "def psize_to_speed(psize):\n",
    "    return [np.sqrt(psize[i]) for i in range(len(psize))]\n",
    "\n",
    "#predict list of psizes for one graph G\n",
    "def predict(coef, features):\n",
    "    m = []\n",
    "    for f in features:\n",
    "        m.append(list(f.values()))\n",
    "    return np.matmul(m, coef)"
   ]
  },
  {
   "cell_type": "markdown",
   "metadata": {},
   "source": [
    "Train Linear Regression"
   ]
  },
  {
   "cell_type": "code",
   "execution_count": 7,
   "metadata": {},
   "outputs": [
    {
     "name": "stdout",
     "output_type": "stream",
     "text": [
      "                            OLS Regression Results                            \n",
      "==============================================================================\n",
      "Dep. Variable:                  psize   R-squared:                       0.842\n",
      "Model:                            OLS   Adj. R-squared:                  0.829\n",
      "Method:                 Least Squares   F-statistic:                     63.89\n",
      "Date:                Mon, 28 Mar 2022   Prob (F-statistic):           1.72e-14\n",
      "Time:                        20:14:40   Log-Likelihood:                -33.733\n",
      "No. Observations:                  40   AIC:                             75.47\n",
      "Df Residuals:                      36   BIC:                             82.22\n",
      "Df Model:                           3                                         \n",
      "Covariance Type:            nonrobust                                         \n",
      "=====================================================================================================\n",
      "                                        coef    std err          t      P>|t|      [0.025      0.975]\n",
      "-----------------------------------------------------------------------------------------------------\n",
      "constant                              2.8415      0.444      6.394      0.000       1.940       3.743\n",
      "num_descendants                       0.3868      0.106      3.648      0.001       0.172       0.602\n",
      "out_degree_betweenness_centrality     1.9694      1.267      1.555      0.129      -0.599       4.538\n",
      "trophic_levels                       -0.6586      0.150     -4.404      0.000      -0.962      -0.355\n",
      "==============================================================================\n",
      "Omnibus:                        2.822   Durbin-Watson:                   1.786\n",
      "Prob(Omnibus):                  0.244   Jarque-Bera (JB):                2.054\n",
      "Skew:                           0.381   Prob(JB):                        0.358\n",
      "Kurtosis:                       2.193   Cond. No.                         51.9\n",
      "==============================================================================\n",
      "\n",
      "Notes:\n",
      "[1] Standard Errors assume that the covariance matrix of the errors is correctly specified.\n",
      "[ 2.84150396  0.38681543  1.96944747 -0.65857573]\n"
     ]
    }
   ],
   "source": [
    "# Create X, Y dataset\n",
    "df_features = pd.DataFrame(columns = feature_id)\n",
    "df_psize = pd.DataFrame(columns = [\"psize\"])\n",
    "for index, row in df_train.iterrows():\n",
    "    for feature in row[\"features\"]:\n",
    "        df_features = df_features.append(feature, ignore_index=True)\n",
    "    for psize in row[\"psize\"]:\n",
    "        df_psize = df_psize.append({\"psize\": psize}, ignore_index=True)   \n",
    "X = df_features[feature_id]\n",
    "Y = df_psize[[\"psize\"]]\n",
    "model=sm.OLS(Y, X.astype(float)).fit()\n",
    "print_model=model.summary()\n",
    "print(print_model)\n",
    "\n",
    "# weights learned from LR\n",
    "lr_coefficients = np.array(model.params)\n",
    "print(lr_coefficients)\n"
   ]
  },
  {
   "cell_type": "code",
   "execution_count": 8,
   "metadata": {},
   "outputs": [],
   "source": [
    "lr_lst = []\n",
    "\n",
    "for index, row in df_train.iterrows():\n",
    "    # predict using LR model\n",
    "    psizes = reset_psizes(predict(lr_coefficients, row[\"features\"]))\n",
    "    speeds = psize_to_speed(psizes)\n",
    "    G = nx.node_link_graph(row[\"graph_object\"])\n",
    "        \n",
    "    time_intervals = native_rescheduler(deepcopy(G), deepcopy(speeds), deepcopy(row[\"weights\"]), deepcopy(row[\"order\"]))\n",
    "    cost, power, time = compute_cost(row[\"weights\"], time_intervals, speeds)\n",
    "    lr_lst.append(cost)\n",
    "    \n",
    "# update costs\n",
    "new_df = pd.DataFrame({'LR_cost': lr_lst})\n",
    "df_train.update(new_df)\n",
    "\n",
    "# for initialization purposes only\n",
    "new_df = pd.DataFrame({'GD_cost': lr_lst})\n",
    "df_train.update(new_df)\n"
   ]
  },
  {
   "cell_type": "markdown",
   "metadata": {},
   "source": [
    "Train Gradient Descent"
   ]
  },
  {
   "cell_type": "code",
   "execution_count": 9,
   "metadata": {},
   "outputs": [],
   "source": [
    "# Functions for Gradient Descent Approach\n",
    "def single_weight_update(coef, G, w, features, order, curr_cost, step_size):\n",
    "    \n",
    "    m = []\n",
    "    for f in features:\n",
    "        m.append(list(f.values()))\n",
    "        \n",
    "    curr_min_coef = deepcopy(coef)\n",
    "    min_cost = curr_cost\n",
    "    all_combinations = list(product((-1, 1, 0), repeat=len(coef)))\n",
    "    for combo in all_combinations:\n",
    "        temp_coef = deepcopy(coef)\n",
    "        for i in range(len(combo)):\n",
    "            temp_coef[i] += step_size * combo[i]\n",
    "        psizes = reset_psizes(np.matmul(m, temp_coef))\n",
    "        speeds = psize_to_speed(psizes)\n",
    "        time_intervals = native_rescheduler(deepcopy(G), deepcopy(speeds), deepcopy(w), deepcopy(order))\n",
    "        cost, _, _ = compute_cost(w, time_intervals, speeds)\n",
    "        if cost < min_cost:\n",
    "            min_cost = cost\n",
    "            curr_min_coef = deepcopy(temp_coef)\n",
    "        \n",
    "    return min_cost, curr_min_coef\n",
    "\n"
   ]
  },
  {
   "cell_type": "code",
   "execution_count": 10,
   "metadata": {
    "scrolled": true
   },
   "outputs": [],
   "source": [
    "def gd_algorithm(lr_coefficients, df):\n",
    "    MAX_ITER = 1000\n",
    "    step_size = 0.05\n",
    "    i = 0\n",
    "    \n",
    "    coef = lr_coefficients\n",
    "\n",
    "    stopping_condition = 0.001\n",
    "\n",
    "    #iterate until the objective function cost change lowers to stopping point\n",
    "    while i < MAX_ITER:\n",
    "\n",
    "        cost_lst = []\n",
    "        max_change = - np.infty\n",
    "        for index, row in df.iterrows():\n",
    "            new_cost, new_coef = single_weight_update(\n",
    "                coef, \n",
    "                nx.node_link_graph(row[\"graph_object\"]),\n",
    "                row[\"weights\"], \n",
    "                row[\"features\"], \n",
    "                row[\"order\"],\n",
    "                row[\"GD_cost\"],\n",
    "                step_size\n",
    "            )\n",
    "\n",
    "            if row[\"GD_cost\"] == np.inf: \n",
    "                change = - np.inf\n",
    "\n",
    "            else:\n",
    "                change = row[\"GD_cost\"] - new_cost\n",
    "\n",
    "            cost_lst.append(new_cost)\n",
    "            max_change = max(change, max_change)\n",
    "            coef = new_coef\n",
    "        print(max_change)\n",
    "\n",
    "        # update costs\n",
    "        new_df = pd.DataFrame({'GD_cost': cost_lst})\n",
    "        df.update(new_df)\n",
    "        if max_change < stopping_condition and i > 1:\n",
    "            print(\"Hit stopping condition with \", max_change)\n",
    "            break\n",
    "        i += 1\n",
    "    \n",
    "    return df, coef"
   ]
  },
  {
   "cell_type": "code",
   "execution_count": 11,
   "metadata": {},
   "outputs": [
    {
     "name": "stdout",
     "output_type": "stream",
     "text": [
      "0.10488934674933148\n",
      "0.0027570478964875633\n",
      "0.07239593041084191\n",
      "0.03364665209601725\n",
      "0.011757617135302212\n",
      "0.004569222745182344\n",
      "0.004415888226738218\n",
      "0.004264657819703643\n",
      "0.0020762645205962826\n",
      "0.01610410526604511\n",
      "0.012353044798366852\n",
      "0.01307996538196221\n",
      "0.014095814412797836\n",
      "0.012034862853802508\n",
      "0.012131959678647775\n",
      "0.013314613469859182\n",
      "0.01159746316237431\n",
      "0.013074669731338417\n",
      "0.01245607280626615\n",
      "0.01018921366745218\n",
      "0.01318987762880397\n",
      "0.011717053867243976\n",
      "0.008580212380195462\n",
      "0.00601796138738564\n",
      "0.005718806020780676\n",
      "0.009687064646669796\n",
      "0.0020447489056039103\n",
      "0.0014914366559537484\n",
      "0.0029371929956170106\n",
      "0.0007834220811702153\n",
      "Hit stopping condition with  0.0007834220811702153\n"
     ]
    }
   ],
   "source": [
    "df_train_results, coef_train = gd_algorithm(lr_coefficients, df_train)"
   ]
  },
  {
   "cell_type": "code",
   "execution_count": 12,
   "metadata": {
    "scrolled": true
   },
   "outputs": [
    {
     "data": {
      "text/html": [
       "<div>\n",
       "<style scoped>\n",
       "    .dataframe tbody tr th:only-of-type {\n",
       "        vertical-align: middle;\n",
       "    }\n",
       "\n",
       "    .dataframe tbody tr th {\n",
       "        vertical-align: top;\n",
       "    }\n",
       "\n",
       "    .dataframe thead th {\n",
       "        text-align: right;\n",
       "    }\n",
       "</style>\n",
       "<table border=\"1\" class=\"dataframe\">\n",
       "  <thead>\n",
       "    <tr style=\"text-align: right;\">\n",
       "      <th></th>\n",
       "      <th>graph_object</th>\n",
       "      <th>num_tasks</th>\n",
       "      <th>num_machines</th>\n",
       "      <th>weights</th>\n",
       "      <th>order</th>\n",
       "      <th>features</th>\n",
       "      <th>psize</th>\n",
       "      <th>GD_cost</th>\n",
       "      <th>LR_cost</th>\n",
       "      <th>RLP_cost</th>\n",
       "      <th>ETF-H_cost</th>\n",
       "      <th>weak_strongman_cost</th>\n",
       "    </tr>\n",
       "  </thead>\n",
       "  <tbody>\n",
       "    <tr>\n",
       "      <th>0</th>\n",
       "      <td>{'directed': True, 'multigraph': False, 'graph...</td>\n",
       "      <td>10</td>\n",
       "      <td>2</td>\n",
       "      <td>[1, 1, 1, 1, 1, 1, 1, 1, 1, 1]</td>\n",
       "      <td>[[0, 4, 7, 8, 6], [1, 3, 5, 2, 9]]</td>\n",
       "      <td>[{'constant': 1, 'num_descendants': 6.0, 'out_...</td>\n",
       "      <td>[5.000009044899999, 5.000009044899999, 1.99998...</td>\n",
       "      <td>33.712671</td>\n",
       "      <td>34.153326</td>\n",
       "      <td>33.52933</td>\n",
       "      <td>33.529329</td>\n",
       "      <td>33.979048</td>\n",
       "    </tr>\n",
       "    <tr>\n",
       "      <th>1</th>\n",
       "      <td>{'directed': True, 'multigraph': False, 'graph...</td>\n",
       "      <td>10</td>\n",
       "      <td>2</td>\n",
       "      <td>[1, 1, 1, 1, 1, 1, 1, 1, 1, 1]</td>\n",
       "      <td>[[2, 4, 3, 7, 5], [0, 1, 6, 9, 8]]</td>\n",
       "      <td>[{'constant': 1, 'num_descendants': 6.0, 'out_...</td>\n",
       "      <td>[5.000009044899999, 3.9999600000999997, 4.9999...</td>\n",
       "      <td>33.742380</td>\n",
       "      <td>33.772807</td>\n",
       "      <td>33.52933</td>\n",
       "      <td>33.529329</td>\n",
       "      <td>34.023323</td>\n",
       "    </tr>\n",
       "    <tr>\n",
       "      <th>2</th>\n",
       "      <td>{'directed': True, 'multigraph': False, 'graph...</td>\n",
       "      <td>10</td>\n",
       "      <td>2</td>\n",
       "      <td>[1, 1, 1, 1, 1, 1, 1, 1, 1, 1]</td>\n",
       "      <td>[[0, 1, 7, 3, 9], [2, 4, 5, 8, 6]]</td>\n",
       "      <td>[{'constant': 1, 'num_descendants': 6.0, 'out_...</td>\n",
       "      <td>[5.000053766399999, 4.0000400001, 4.9999643236...</td>\n",
       "      <td>33.672350</td>\n",
       "      <td>33.686407</td>\n",
       "      <td>33.52933</td>\n",
       "      <td>33.529329</td>\n",
       "      <td>34.276576</td>\n",
       "    </tr>\n",
       "    <tr>\n",
       "      <th>3</th>\n",
       "      <td>{'directed': True, 'multigraph': False, 'graph...</td>\n",
       "      <td>10</td>\n",
       "      <td>2</td>\n",
       "      <td>[1, 1, 1, 1, 1, 1, 1, 1, 1, 1]</td>\n",
       "      <td>[[2, 1, 3, 7, 8], [4, 0, 5, 6, 9]]</td>\n",
       "      <td>[{'constant': 1, 'num_descendants': 4.0, 'out_...</td>\n",
       "      <td>[4.0, 4.0, 5.000009044899999, 2.99999720250000...</td>\n",
       "      <td>33.733295</td>\n",
       "      <td>33.821014</td>\n",
       "      <td>33.52933</td>\n",
       "      <td>33.529329</td>\n",
       "      <td>33.886471</td>\n",
       "    </tr>\n",
       "  </tbody>\n",
       "</table>\n",
       "</div>"
      ],
      "text/plain": [
       "                                        graph_object num_tasks num_machines  \\\n",
       "0  {'directed': True, 'multigraph': False, 'graph...        10            2   \n",
       "1  {'directed': True, 'multigraph': False, 'graph...        10            2   \n",
       "2  {'directed': True, 'multigraph': False, 'graph...        10            2   \n",
       "3  {'directed': True, 'multigraph': False, 'graph...        10            2   \n",
       "\n",
       "                          weights                               order  \\\n",
       "0  [1, 1, 1, 1, 1, 1, 1, 1, 1, 1]  [[0, 4, 7, 8, 6], [1, 3, 5, 2, 9]]   \n",
       "1  [1, 1, 1, 1, 1, 1, 1, 1, 1, 1]  [[2, 4, 3, 7, 5], [0, 1, 6, 9, 8]]   \n",
       "2  [1, 1, 1, 1, 1, 1, 1, 1, 1, 1]  [[0, 1, 7, 3, 9], [2, 4, 5, 8, 6]]   \n",
       "3  [1, 1, 1, 1, 1, 1, 1, 1, 1, 1]  [[2, 1, 3, 7, 8], [4, 0, 5, 6, 9]]   \n",
       "\n",
       "                                            features  \\\n",
       "0  [{'constant': 1, 'num_descendants': 6.0, 'out_...   \n",
       "1  [{'constant': 1, 'num_descendants': 6.0, 'out_...   \n",
       "2  [{'constant': 1, 'num_descendants': 6.0, 'out_...   \n",
       "3  [{'constant': 1, 'num_descendants': 4.0, 'out_...   \n",
       "\n",
       "                                               psize    GD_cost    LR_cost  \\\n",
       "0  [5.000009044899999, 5.000009044899999, 1.99998...  33.712671  34.153326   \n",
       "1  [5.000009044899999, 3.9999600000999997, 4.9999...  33.742380  33.772807   \n",
       "2  [5.000053766399999, 4.0000400001, 4.9999643236...  33.672350  33.686407   \n",
       "3  [4.0, 4.0, 5.000009044899999, 2.99999720250000...  33.733295  33.821014   \n",
       "\n",
       "   RLP_cost  ETF-H_cost  weak_strongman_cost  \n",
       "0  33.52933   33.529329            33.979048  \n",
       "1  33.52933   33.529329            34.023323  \n",
       "2  33.52933   33.529329            34.276576  \n",
       "3  33.52933   33.529329            33.886471  "
      ]
     },
     "execution_count": 12,
     "metadata": {},
     "output_type": "execute_result"
    }
   ],
   "source": [
    "df_train_results"
   ]
  },
  {
   "cell_type": "code",
   "execution_count": 13,
   "metadata": {},
   "outputs": [
    {
     "name": "stdout",
     "output_type": "stream",
     "text": [
      "[ 2.84150396  0.38681543  1.96944747 -0.65857573]\n",
      "[ 1.49150396  0.73681543  3.86944747 -0.40857573]\n"
     ]
    }
   ],
   "source": [
    "print(lr_coefficients)\n",
    "\n",
    "print(coef_train)"
   ]
  },
  {
   "cell_type": "markdown",
   "metadata": {},
   "source": [
    "# Set Trained Coefficients to linear model"
   ]
  },
  {
   "cell_type": "markdown",
   "metadata": {},
   "source": [
    "# Test the Model\n",
    "\n",
    "This section tests the model using the coefficients found above."
   ]
  },
  {
   "cell_type": "code",
   "execution_count": 14,
   "metadata": {},
   "outputs": [],
   "source": [
    "# parameters\n",
    "\n",
    "count = 0\n",
    "\n",
    "df_test = create_dataset(num_machines, testing_data_filename)\n",
    "\n",
    "lr_lst = []\n",
    "gd_lst = []\n",
    "\n",
    "for index, row in df_test.iterrows():\n",
    "    # predict using LR model\n",
    "    psizes_lr = reset_psizes(predict(lr_coefficients, row[\"features\"]))\n",
    "    speeds_lr = psize_to_speed(psizes_lr)\n",
    "    G = nx.node_link_graph(row[\"graph_object\"])\n",
    "    time_intervals_lr = native_rescheduler(deepcopy(G), deepcopy(speeds_lr), deepcopy(row[\"weights\"]), deepcopy(row[\"order\"]))\n",
    "    cost_lr, power_lr, time_lr = compute_cost(row[\"weights\"], time_intervals_lr, speeds_lr)\n",
    "    lr_lst.append(cost_lr)\n",
    "\n",
    "# update costs\n",
    "new_df_lr = pd.DataFrame({'LR_cost': lr_lst})\n",
    "df_test.update(new_df_lr)\n"
   ]
  },
  {
   "cell_type": "code",
   "execution_count": 15,
   "metadata": {},
   "outputs": [
    {
     "name": "stdout",
     "output_type": "stream",
     "text": [
      "-inf\n",
      "0.007430005220008695\n",
      "0.47598338906359317\n",
      "0.0028412844037006835\n",
      "0.0025904496551305556\n",
      "0.00234447788898251\n",
      "0.002103244843368657\n",
      "0.0018666303101184667\n",
      "0.0016345179732581983\n",
      "0.0014067952550433915\n",
      "0.0011833531692460042\n",
      "0.0009640861812414414\n",
      "Hit stopping condition with  0.0009640861812414414\n"
     ]
    }
   ],
   "source": [
    "#print-out shows objective function value change\n",
    "df_results, coef_test = gd_algorithm(lr_coefficients, df_test)"
   ]
  },
  {
   "cell_type": "markdown",
   "metadata": {},
   "source": [
    "# Visual confirmation of costs\n",
    "\n",
    "The printout below provides a visual confirmation of the objective function value costs resulting from each candidate algorithm.\n"
   ]
  },
  {
   "cell_type": "code",
   "execution_count": 16,
   "metadata": {},
   "outputs": [
    {
     "data": {
      "text/html": [
       "<div>\n",
       "<style scoped>\n",
       "    .dataframe tbody tr th:only-of-type {\n",
       "        vertical-align: middle;\n",
       "    }\n",
       "\n",
       "    .dataframe tbody tr th {\n",
       "        vertical-align: top;\n",
       "    }\n",
       "\n",
       "    .dataframe thead th {\n",
       "        text-align: right;\n",
       "    }\n",
       "</style>\n",
       "<table border=\"1\" class=\"dataframe\">\n",
       "  <thead>\n",
       "    <tr style=\"text-align: right;\">\n",
       "      <th></th>\n",
       "      <th>graph_object</th>\n",
       "      <th>num_tasks</th>\n",
       "      <th>num_machines</th>\n",
       "      <th>weights</th>\n",
       "      <th>order</th>\n",
       "      <th>features</th>\n",
       "      <th>psize</th>\n",
       "      <th>GD_cost</th>\n",
       "      <th>LR_cost</th>\n",
       "      <th>RLP_cost</th>\n",
       "      <th>ETF-H_cost</th>\n",
       "      <th>weak_strongman_cost</th>\n",
       "    </tr>\n",
       "  </thead>\n",
       "  <tbody>\n",
       "    <tr>\n",
       "      <th>0</th>\n",
       "      <td>{'directed': True, 'multigraph': False, 'graph...</td>\n",
       "      <td>10</td>\n",
       "      <td>2</td>\n",
       "      <td>[1, 1, 1, 1, 1, 1, 1, 1, 1, 1]</td>\n",
       "      <td>[[3, 1, 4, 6, 7, 9], [0, 2, 5, 8]]</td>\n",
       "      <td>[{'constant': 1, 'num_descendants': 6.0, 'out_...</td>\n",
       "      <td>[5.000009044899999, 4.0, 4.0, 5.00000904489999...</td>\n",
       "      <td>34.338205</td>\n",
       "      <td>34.379545</td>\n",
       "      <td>34.16500</td>\n",
       "      <td>34.165004</td>\n",
       "      <td>34.038656</td>\n",
       "    </tr>\n",
       "    <tr>\n",
       "      <th>1</th>\n",
       "      <td>{'directed': True, 'multigraph': False, 'graph...</td>\n",
       "      <td>10</td>\n",
       "      <td>2</td>\n",
       "      <td>[1, 1, 1, 1, 1, 1, 1, 1, 1, 1]</td>\n",
       "      <td>[[1, 2, 6, 5, 7, 9], [0, 4, 3, 8]]</td>\n",
       "      <td>[{'constant': 1, 'num_descendants': 2.0, 'out_...</td>\n",
       "      <td>[5.000009044899999, 5.000009044899999, 4.0, 2....</td>\n",
       "      <td>35.287464</td>\n",
       "      <td>35.783634</td>\n",
       "      <td>34.70090</td>\n",
       "      <td>34.700902</td>\n",
       "      <td>33.906203</td>\n",
       "    </tr>\n",
       "    <tr>\n",
       "      <th>2</th>\n",
       "      <td>{'directed': True, 'multigraph': False, 'graph...</td>\n",
       "      <td>10</td>\n",
       "      <td>2</td>\n",
       "      <td>[1, 1, 1, 1, 1, 1, 1, 1, 1, 1]</td>\n",
       "      <td>[[0, 1, 4, 5, 6, 8], [2, 3, 7, 9]]</td>\n",
       "      <td>[{'constant': 1, 'num_descendants': 9.0, 'out_...</td>\n",
       "      <td>[8.1049534864, 7.104943560099999, 1.8950550920...</td>\n",
       "      <td>34.692536</td>\n",
       "      <td>35.537204</td>\n",
       "      <td>34.38235</td>\n",
       "      <td>36.139805</td>\n",
       "      <td>37.213256</td>\n",
       "    </tr>\n",
       "    <tr>\n",
       "      <th>3</th>\n",
       "      <td>{'directed': True, 'multigraph': False, 'graph...</td>\n",
       "      <td>10</td>\n",
       "      <td>2</td>\n",
       "      <td>[1, 1, 1, 1, 1, 1, 1, 1, 1, 1]</td>\n",
       "      <td>[[0, 4, 3, 6, 8, 9], [2, 1, 5, 7]]</td>\n",
       "      <td>[{'constant': 1, 'num_descendants': 7.0, 'out_...</td>\n",
       "      <td>[5.000009044899999, 4.0002800049000005, 5.0000...</td>\n",
       "      <td>34.614028</td>\n",
       "      <td>34.597704</td>\n",
       "      <td>34.35776</td>\n",
       "      <td>34.357757</td>\n",
       "      <td>35.041695</td>\n",
       "    </tr>\n",
       "  </tbody>\n",
       "</table>\n",
       "</div>"
      ],
      "text/plain": [
       "                                        graph_object num_tasks num_machines  \\\n",
       "0  {'directed': True, 'multigraph': False, 'graph...        10            2   \n",
       "1  {'directed': True, 'multigraph': False, 'graph...        10            2   \n",
       "2  {'directed': True, 'multigraph': False, 'graph...        10            2   \n",
       "3  {'directed': True, 'multigraph': False, 'graph...        10            2   \n",
       "\n",
       "                          weights                               order  \\\n",
       "0  [1, 1, 1, 1, 1, 1, 1, 1, 1, 1]  [[3, 1, 4, 6, 7, 9], [0, 2, 5, 8]]   \n",
       "1  [1, 1, 1, 1, 1, 1, 1, 1, 1, 1]  [[1, 2, 6, 5, 7, 9], [0, 4, 3, 8]]   \n",
       "2  [1, 1, 1, 1, 1, 1, 1, 1, 1, 1]  [[0, 1, 4, 5, 6, 8], [2, 3, 7, 9]]   \n",
       "3  [1, 1, 1, 1, 1, 1, 1, 1, 1, 1]  [[0, 4, 3, 6, 8, 9], [2, 1, 5, 7]]   \n",
       "\n",
       "                                            features  \\\n",
       "0  [{'constant': 1, 'num_descendants': 6.0, 'out_...   \n",
       "1  [{'constant': 1, 'num_descendants': 2.0, 'out_...   \n",
       "2  [{'constant': 1, 'num_descendants': 9.0, 'out_...   \n",
       "3  [{'constant': 1, 'num_descendants': 7.0, 'out_...   \n",
       "\n",
       "                                               psize    GD_cost    LR_cost  \\\n",
       "0  [5.000009044899999, 4.0, 4.0, 5.00000904489999...  34.338205  34.379545   \n",
       "1  [5.000009044899999, 5.000009044899999, 4.0, 2....  35.287464  35.783634   \n",
       "2  [8.1049534864, 7.104943560099999, 1.8950550920...  34.692536  35.537204   \n",
       "3  [5.000009044899999, 4.0002800049000005, 5.0000...  34.614028  34.597704   \n",
       "\n",
       "   RLP_cost  ETF-H_cost  weak_strongman_cost  \n",
       "0  34.16500   34.165004            34.038656  \n",
       "1  34.70090   34.700902            33.906203  \n",
       "2  34.38235   36.139805            37.213256  \n",
       "3  34.35776   34.357757            35.041695  "
      ]
     },
     "execution_count": 16,
     "metadata": {},
     "output_type": "execute_result"
    }
   ],
   "source": [
    "df_results"
   ]
  },
  {
   "cell_type": "markdown",
   "metadata": {},
   "source": [
    "# ***EDIT: Graph the results"
   ]
  },
  {
   "cell_type": "code",
   "execution_count": 17,
   "metadata": {},
   "outputs": [
    {
     "data": {
      "text/plain": [
       "<matplotlib.legend.Legend at 0x7f9206c0c350>"
      ]
     },
     "execution_count": 17,
     "metadata": {},
     "output_type": "execute_result"
    },
    {
     "data": {
      "image/png": "[encoded data removed]",
      "text/plain": [
       "<Figure size 432x288 with 1 Axes>"
      ]
     },
     "metadata": {
      "needs_background": "light"
     },
     "output_type": "display_data"
    }
   ],
   "source": [
    "plt.scatter(df_results[\"num_tasks\"], df_results[\"GD_cost\"] / df_results[\"RLP_cost\"], label='GD / RLP', alpha=0.5)\n",
    "plt.scatter(df_results[\"num_tasks\"], df_results[\"ETF-H_cost\"] / df_results[\"RLP_cost\"], label='ETF-H / RLP', alpha=0.5)\n",
    "plt.title(\"Comparison of RLP with other heuristics\\nnum_machines = 2\")\n",
    "plt.xlabel(\"number of tasks in DAG\")\n",
    "plt.ylabel(\"ratio\")\n",
    "plt.legend()"
   ]
  },
  {
   "cell_type": "code",
   "execution_count": 18,
   "metadata": {},
   "outputs": [
    {
     "data": {
      "text/plain": [
       "<matplotlib.legend.Legend at 0x7f9206b9b690>"
      ]
     },
     "execution_count": 18,
     "metadata": {},
     "output_type": "execute_result"
    },
    {
     "data": {
      "image/png": "[encoded data removed]",
      "text/plain": [
       "<Figure size 432x288 with 1 Axes>"
      ]
     },
     "metadata": {
      "needs_background": "light"
     },
     "output_type": "display_data"
    }
   ],
   "source": [
    "plt.scatter(df_results[\"num_tasks\"], (df_results[\"GD_cost\"]- df_results[\"LR_cost\"] )/ df_results[\"LR_cost\"], label=' (GD - LR) / LR')\n",
    "plt.title(\"Percent difference for LR to GD\\nnum_machines = 2\")\n",
    "plt.xlabel(\"number of tasks in DAG\")\n",
    "plt.ylabel(\"percent difference\")\n",
    "plt.legend()\n"
   ]
  },
  {
   "cell_type": "code",
   "execution_count": null,
   "metadata": {},
   "outputs": [],
   "source": []
  }
 ],
 "metadata": {
  "interpreter": {
   "hash": "b0a38c7fd2505b15b46fab770b43c894ec907a53509f636050b5c66c47dc2015"
  },
  "kernelspec": {
   "display_name": "Python 3",
   "language": "python",
   "name": "python3"
  },
  "language_info": {
   "codemirror_mode": {
    "name": "ipython",
    "version": 3
   },
   "file_extension": ".py",
   "mimetype": "text/x-python",
   "name": "python",
   "nbconvert_exporter": "python",
   "pygments_lexer": "ipython3",
   "version": "3.7.9"
  }
 },
 "nbformat": 4,
 "nbformat_minor": 2
}
