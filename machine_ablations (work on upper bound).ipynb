{
 "cells": [
  {
   "cell_type": "code",
   "execution_count": 1,
   "metadata": {},
   "outputs": [
    {
     "ename": "IndentationError",
     "evalue": "expected an indented block (approximate_speeds.py, line 105)",
     "output_type": "error",
     "traceback": [
      "Traceback \u001b[0;36m(most recent call last)\u001b[0m:\n",
      "  File \u001b[1;32m\"/opt/anaconda3/lib/python3.7/site-packages/IPython/core/interactiveshell.py\"\u001b[0m, line \u001b[1;32m3331\u001b[0m, in \u001b[1;35mrun_code\u001b[0m\n    exec(code_obj, self.user_global_ns, self.user_ns)\n",
      "  File \u001b[1;32m\"<ipython-input-1-cb2c863e5b8a>\"\u001b[0m, line \u001b[1;32m1\u001b[0m, in \u001b[1;35m<module>\u001b[0m\n    from machine_modifications.full_scale_functions import iterative_heuristic_algorithm, machine_manipulation\n",
      "\u001b[0;36m  File \u001b[0;32m\"/Users/jannie/Ordering_Simulator/machine_modifications/full_scale_functions.py\"\u001b[0;36m, line \u001b[0;32m6\u001b[0;36m, in \u001b[0;35m<module>\u001b[0;36m\u001b[0m\n\u001b[0;31m    from iterative_heuristic.approximate_speeds import *\u001b[0m\n",
      "\u001b[0;36m  File \u001b[0;32m\"/Users/jannie/Ordering_Simulator/iterative_heuristic/approximate_speeds.py\"\u001b[0;36m, line \u001b[0;32m105\u001b[0m\n\u001b[0;31m    <<<<<<< HEAD\u001b[0m\n\u001b[0m     ^\u001b[0m\n\u001b[0;31mIndentationError\u001b[0m\u001b[0;31m:\u001b[0m expected an indented block\n"
     ]
    }
   ],
   "source": [
    "from machine_modifications.full_scale_functions import iterative_heuristic_algorithm, machine_manipulation\n",
    "from machine_modifications.random_graph_functions import *\n",
    "from makespan_energy.construct_graph_util import random_dag\n",
    "from makespan_energy.visualization_util import make_graph_visual\n",
    "import networkx as nx\n",
    "import numpy as np\n",
    "import random"
   ]
  },
  {
   "cell_type": "code",
   "execution_count": null,
   "metadata": {},
   "outputs": [],
   "source": [
    "seed = 10\n",
    "num_tasks = 50\n",
    "edges = 50\n",
    "G = random_dag(num_tasks, edges, seed)\n",
    "make_graph_visual(G, G.number_of_nodes())\n",
    "w = [1 for i in range(num_tasks)]\n",
    "\n",
    "subgraphs = subgraphs_via_dfs(G)\n",
    "key_node_pair = []\n",
    "upper_bound_machines = 0\n",
    "\n",
    "for sg in subgraphs:\n",
    "   \n",
    "    leaves = num_leaf_nodes(sg)\n",
    "    roots = num_root_nodes(sg)\n",
    "    \n",
    "    # use this to check if we are working with all-leaf or all-join tree\n",
    "    if len(leaves) > len(roots):\n",
    "        select_nodes = leaves\n",
    "    else:\n",
    "        select_nodes = roots\n",
    "        \n",
    "    key_node_pair.append([sg, select_nodes])\n",
    "    upper_bound_machines += len(select_nodes)\n",
    "\n",
    "machine_manipulation(25,32, 1, G, w, plot=True)\n",
    "# upper bound of m* = sum of roots in all-join / leaves in all-fork trees\n",
    "print(\"upper bound of m* using dfs heuristic: \" + str(upper_bound_machines))\n"
   ]
  },
  {
   "cell_type": "code",
   "execution_count": null,
   "metadata": {},
   "outputs": [],
   "source": []
  },
  {
   "cell_type": "code",
   "execution_count": null,
   "metadata": {},
   "outputs": [],
   "source": []
  }
 ],
 "metadata": {
  "kernelspec": {
   "display_name": "Python 3",
   "language": "python",
   "name": "python3"
  },
  "language_info": {
   "codemirror_mode": {
    "name": "ipython",
    "version": 3
   },
   "file_extension": ".py",
   "mimetype": "text/x-python",
   "name": "python",
   "nbconvert_exporter": "python",
   "pygments_lexer": "ipython3",
   "version": "3.7.6"
  }
 },
 "nbformat": 4,
 "nbformat_minor": 4
}
